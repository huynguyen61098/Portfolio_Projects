{
 "cells": [
  {
   "cell_type": "markdown",
   "metadata": {},
   "source": [
    "# DATA SCRAPING"
   ]
  },
  {
   "cell_type": "markdown",
   "metadata": {},
   "source": [
    "<br>"
   ]
  },
  {
   "cell_type": "markdown",
   "metadata": {},
   "source": [
    "---"
   ]
  },
  {
   "cell_type": "markdown",
   "metadata": {},
   "source": [
    "<br>"
   ]
  },
  {
   "cell_type": "markdown",
   "metadata": {},
   "source": [
    "### Import packages"
   ]
  },
  {
   "cell_type": "code",
   "execution_count": 1,
   "metadata": {},
   "outputs": [],
   "source": [
    "import pandas as pd"
   ]
  },
  {
   "cell_type": "code",
   "execution_count": 2,
   "metadata": {},
   "outputs": [],
   "source": [
    "import requests\n",
    "from bs4 import BeautifulSoup as soup\n",
    "import re \n",
    "from selenium import webdriver\n",
    "import datetime\n",
    "import urllib3\n",
    "import warnings\n",
    "warnings.filterwarnings(\"ignore\")"
   ]
  },
  {
   "cell_type": "markdown",
   "metadata": {},
   "source": [
    "### Scrape the first table"
   ]
  },
  {
   "cell_type": "code",
   "execution_count": 4,
   "metadata": {},
   "outputs": [],
   "source": [
    "browser = webdriver.Chrome('F:\\data learn/uni_ranking/chromedriver.exe')\n",
    "url = 'https://www.timeshighereducation.com/world-university-rankings/2020/world-ranking#!/page/0/length/-1/sort_by/rank/sort_order/asc/cols/stats'\n",
    "browser.get(url)"
   ]
  },
  {
   "cell_type": "markdown",
   "metadata": {},
   "source": [
    "<br>"
   ]
  },
  {
   "cell_type": "code",
   "execution_count": null,
   "metadata": {},
   "outputs": [],
   "source": [
    "row_list = []\n",
    "for i in range(1,1398):\n",
    "    #row = browser.find_element_by_class_name(f'//*[@id=\"datatable-1\"]/tbody/tr[{i}]')\n",
    "    Rank = browser.find_element_by_xpath(f'//*[@id=\"datatable-1\"]/tbody/tr[{i}]/td[1]').text\n",
    "    University = browser.find_element_by_xpath(f'//*[@id=\"datatable-1\"]/tbody/tr[{i}]/td[2]/a[1]').text\n",
    "    Country = browser.find_element_by_xpath(f'//*[@id=\"datatable-1\"]/tbody/tr[{i}]/td[2]/div/div/span/a').text\n",
    "    FTE_students = browser.find_element_by_xpath(f'//*[@id=\"datatable-1\"]/tbody/tr[{i}]/td[3]').text\n",
    "    Staff_students = browser.find_element_by_xpath(f'//*[@id=\"datatable-1\"]/tbody/tr[{i}]/td[4]').text\n",
    "    International_students_pct = browser.find_element_by_xpath(f'//*[@id=\"datatable-1\"]/tbody/tr[{i}]/td[5]').text\n",
    "    Female_male_ratio = browser.find_element_by_xpath(f'//*[@id=\"datatable-1\"]/tbody/tr[{i}]/td[6]').text\n",
    "    row_item = {\"Rank\": Rank,\n",
    "               \"University\": University,\n",
    "               \"Country\": Country,\n",
    "               \"FTE_students\": FTE_students,\n",
    "                \"Staff_students\": Staff_students,\n",
    "                \"International_students_pct\": International_students_pct,\n",
    "                \"Female_male_ratio\": Female_male_ratio\n",
    "               }\n",
    "    row_list.append(row_item)"
   ]
  },
  {
   "cell_type": "markdown",
   "metadata": {},
   "source": [
    "<br>"
   ]
  },
  {
   "cell_type": "markdown",
   "metadata": {},
   "source": [
    "### Scrape the second table"
   ]
  },
  {
   "cell_type": "code",
   "execution_count": 23,
   "metadata": {},
   "outputs": [],
   "source": [
    "url2 = 'https://www.timeshighereducation.com/world-university-rankings/2020/world-ranking#!/page/0/length/-1/sort_by/rank/sort_order/asc/cols/scores'\n",
    "browser2 = webdriver.Chrome('F:\\data learn/uni_ranking/chromedriver.exe')\n",
    "browser2.get(url2)"
   ]
  },
  {
   "cell_type": "code",
   "execution_count": 25,
   "metadata": {},
   "outputs": [],
   "source": [
    "row_scores_list = []\n",
    "for i in range(1,1398):\n",
    "    Rank = browser.find_element_by_xpath(f'//*[@id=\"datatable-1\"]/tbody/tr[{i}]/td[1]').text\n",
    "    University = browser.find_element_by_xpath(f'//*[@id=\"datatable-1\"]/tbody/tr[{i}]/td[2]/a[1]').text\n",
    "    Overall = browser.find_element_by_xpath(f'//*[@id=\"datatable-1\"]/tbody/tr[{i}]/td[3]').text\n",
    "    Teaching = browser.find_element_by_xpath(f'//*[@id=\"datatable-1\"]/tbody/tr[{i}]/td[4]').text\n",
    "    Research = browser.find_element_by_xpath(f'//*[@id=\"datatable-1\"]/tbody/tr[{i}]/td[5]').text\n",
    "    Citations = browser.find_element_by_xpath(f'//*[@id=\"datatable-1\"]/tbody/tr[{i}]/td[6]').text\n",
    "    Industry_income = browser.find_element_by_xpath(f'//*[@id=\"datatable-1\"]/tbody/tr[{i}]/td[7]').text\n",
    "    International_outlook = browser.find_element_by_xpath(f'//*[@id=\"datatable-1\"]/tbody/tr[{i}]/td[8]').text\n",
    "    row_scores_item = {'Rank': Rank,\n",
    "                      'University': University,\n",
    "                      'Overall': Overall,\n",
    "                       'Teaching': Teaching,\n",
    "                       'Research': Research,\n",
    "                       'Citations': Citations,\n",
    "                       'Industry_income': Industry_income,\n",
    "                       'International_outlook': International_outlook\n",
    "                      }\n",
    "    row_scores_list.append(row_scores_item)"
   ]
  },
  {
   "cell_type": "markdown",
   "metadata": {},
   "source": [
    "<br>"
   ]
  },
  {
   "cell_type": "markdown",
   "metadata": {},
   "source": [
    "### Convert our data to dataframes, sanity check then merge them"
   ]
  },
  {
   "cell_type": "code",
   "execution_count": 27,
   "metadata": {},
   "outputs": [],
   "source": [
    "stats_df = pd.DataFrame(row_list)\n",
    "scores_df = pd.DataFrame(row_scores_list)"
   ]
  },
  {
   "cell_type": "code",
   "execution_count": 33,
   "metadata": {},
   "outputs": [
    {
     "data": {
      "text/html": [
       "<div>\n",
       "<style scoped>\n",
       "    .dataframe tbody tr th:only-of-type {\n",
       "        vertical-align: middle;\n",
       "    }\n",
       "\n",
       "    .dataframe tbody tr th {\n",
       "        vertical-align: top;\n",
       "    }\n",
       "\n",
       "    .dataframe thead th {\n",
       "        text-align: right;\n",
       "    }\n",
       "</style>\n",
       "<table border=\"1\" class=\"dataframe\">\n",
       "  <thead>\n",
       "    <tr style=\"text-align: right;\">\n",
       "      <th></th>\n",
       "      <th>Rank</th>\n",
       "      <th>University</th>\n",
       "      <th>Country</th>\n",
       "      <th>FTE_students</th>\n",
       "      <th>Staff_students</th>\n",
       "      <th>International_students_pct</th>\n",
       "      <th>Female_male_ratio</th>\n",
       "    </tr>\n",
       "  </thead>\n",
       "  <tbody>\n",
       "    <tr>\n",
       "      <th>1392</th>\n",
       "      <td>1001+</td>\n",
       "      <td>Yuan Ze University</td>\n",
       "      <td>Taiwan</td>\n",
       "      <td>8,356</td>\n",
       "      <td>19.5</td>\n",
       "      <td>8%</td>\n",
       "      <td>42 : 58</td>\n",
       "    </tr>\n",
       "    <tr>\n",
       "      <th>1393</th>\n",
       "      <td>1001+</td>\n",
       "      <td>Zagazig University</td>\n",
       "      <td>Egypt</td>\n",
       "      <td>156,419</td>\n",
       "      <td>24.0</td>\n",
       "      <td>1%</td>\n",
       "      <td>53 : 47</td>\n",
       "    </tr>\n",
       "    <tr>\n",
       "      <th>1394</th>\n",
       "      <td>1001+</td>\n",
       "      <td>University of Zagreb</td>\n",
       "      <td>Croatia</td>\n",
       "      <td>68,216</td>\n",
       "      <td>18.9</td>\n",
       "      <td>3%</td>\n",
       "      <td>59 : 41</td>\n",
       "    </tr>\n",
       "    <tr>\n",
       "      <th>1395</th>\n",
       "      <td>1001+</td>\n",
       "      <td>University of Zanjan</td>\n",
       "      <td>Iran</td>\n",
       "      <td>9,980</td>\n",
       "      <td>25.1</td>\n",
       "      <td>0%</td>\n",
       "      <td>54 : 46</td>\n",
       "    </tr>\n",
       "    <tr>\n",
       "      <th>1396</th>\n",
       "      <td>1001+</td>\n",
       "      <td>Zhejiang University of Technology</td>\n",
       "      <td>China</td>\n",
       "      <td>31,228</td>\n",
       "      <td>14.7</td>\n",
       "      <td>8%</td>\n",
       "      <td>n/a</td>\n",
       "    </tr>\n",
       "  </tbody>\n",
       "</table>\n",
       "</div>"
      ],
      "text/plain": [
       "       Rank                         University  Country FTE_students  \\\n",
       "1392  1001+                 Yuan Ze University   Taiwan        8,356   \n",
       "1393  1001+                 Zagazig University    Egypt      156,419   \n",
       "1394  1001+               University of Zagreb  Croatia       68,216   \n",
       "1395  1001+               University of Zanjan     Iran        9,980   \n",
       "1396  1001+  Zhejiang University of Technology    China       31,228   \n",
       "\n",
       "     Staff_students International_students_pct Female_male_ratio  \n",
       "1392           19.5                         8%           42 : 58  \n",
       "1393           24.0                         1%           53 : 47  \n",
       "1394           18.9                         3%           59 : 41  \n",
       "1395           25.1                         0%           54 : 46  \n",
       "1396           14.7                         8%               n/a  "
      ]
     },
     "execution_count": 33,
     "metadata": {},
     "output_type": "execute_result"
    }
   ],
   "source": [
    "stats_df.tail()"
   ]
  },
  {
   "cell_type": "code",
   "execution_count": 47,
   "metadata": {},
   "outputs": [
    {
     "data": {
      "text/html": [
       "<div>\n",
       "<style scoped>\n",
       "    .dataframe tbody tr th:only-of-type {\n",
       "        vertical-align: middle;\n",
       "    }\n",
       "\n",
       "    .dataframe tbody tr th {\n",
       "        vertical-align: top;\n",
       "    }\n",
       "\n",
       "    .dataframe thead th {\n",
       "        text-align: right;\n",
       "    }\n",
       "</style>\n",
       "<table border=\"1\" class=\"dataframe\">\n",
       "  <thead>\n",
       "    <tr style=\"text-align: right;\">\n",
       "      <th></th>\n",
       "      <th>Rank</th>\n",
       "      <th>University</th>\n",
       "      <th>Overall</th>\n",
       "      <th>Teaching</th>\n",
       "      <th>Research</th>\n",
       "      <th>Citations</th>\n",
       "      <th>Industry_income</th>\n",
       "      <th>International_outlook</th>\n",
       "    </tr>\n",
       "  </thead>\n",
       "  <tbody>\n",
       "    <tr>\n",
       "      <th>1392</th>\n",
       "      <td>1001+</td>\n",
       "      <td>Yuan Ze University</td>\n",
       "      <td>10.7–22.1</td>\n",
       "      <td>17.3</td>\n",
       "      <td>13.9</td>\n",
       "      <td>15.5</td>\n",
       "      <td>47.0</td>\n",
       "      <td>28.3</td>\n",
       "    </tr>\n",
       "    <tr>\n",
       "      <th>1393</th>\n",
       "      <td>1001+</td>\n",
       "      <td>Zagazig University</td>\n",
       "      <td>10.7–22.1</td>\n",
       "      <td>13.6</td>\n",
       "      <td>7.7</td>\n",
       "      <td>29.6</td>\n",
       "      <td>34.4</td>\n",
       "      <td>38.8</td>\n",
       "    </tr>\n",
       "    <tr>\n",
       "      <th>1394</th>\n",
       "      <td>1001+</td>\n",
       "      <td>University of Zagreb</td>\n",
       "      <td>10.7–22.1</td>\n",
       "      <td>17.8</td>\n",
       "      <td>12.9</td>\n",
       "      <td>25.3</td>\n",
       "      <td>37.4</td>\n",
       "      <td>33.0</td>\n",
       "    </tr>\n",
       "    <tr>\n",
       "      <th>1395</th>\n",
       "      <td>1001+</td>\n",
       "      <td>University of Zanjan</td>\n",
       "      <td>10.7–22.1</td>\n",
       "      <td>17.0</td>\n",
       "      <td>12.3</td>\n",
       "      <td>28.5</td>\n",
       "      <td>43.8</td>\n",
       "      <td>18.7</td>\n",
       "    </tr>\n",
       "    <tr>\n",
       "      <th>1396</th>\n",
       "      <td>1001+</td>\n",
       "      <td>Zhejiang University of Technology</td>\n",
       "      <td>10.7–22.1</td>\n",
       "      <td>16.7</td>\n",
       "      <td>14.2</td>\n",
       "      <td>32.3</td>\n",
       "      <td>51.4</td>\n",
       "      <td>24.4</td>\n",
       "    </tr>\n",
       "  </tbody>\n",
       "</table>\n",
       "</div>"
      ],
      "text/plain": [
       "       Rank                         University    Overall Teaching Research  \\\n",
       "1392  1001+                 Yuan Ze University  10.7–22.1     17.3     13.9   \n",
       "1393  1001+                 Zagazig University  10.7–22.1     13.6      7.7   \n",
       "1394  1001+               University of Zagreb  10.7–22.1     17.8     12.9   \n",
       "1395  1001+               University of Zanjan  10.7–22.1     17.0     12.3   \n",
       "1396  1001+  Zhejiang University of Technology  10.7–22.1     16.7     14.2   \n",
       "\n",
       "     Citations Industry_income International_outlook  \n",
       "1392      15.5            47.0                  28.3  \n",
       "1393      29.6            34.4                  38.8  \n",
       "1394      25.3            37.4                  33.0  \n",
       "1395      28.5            43.8                  18.7  \n",
       "1396      32.3            51.4                  24.4  "
      ]
     },
     "execution_count": 47,
     "metadata": {},
     "output_type": "execute_result"
    }
   ],
   "source": [
    "scores_df.tail()"
   ]
  },
  {
   "cell_type": "code",
   "execution_count": 48,
   "metadata": {},
   "outputs": [],
   "source": [
    "final_df = stats_df.merge(scores_df, on = ['Rank','University'])"
   ]
  },
  {
   "cell_type": "code",
   "execution_count": 64,
   "metadata": {},
   "outputs": [
    {
     "data": {
      "text/html": [
       "<div>\n",
       "<style scoped>\n",
       "    .dataframe tbody tr th:only-of-type {\n",
       "        vertical-align: middle;\n",
       "    }\n",
       "\n",
       "    .dataframe tbody tr th {\n",
       "        vertical-align: top;\n",
       "    }\n",
       "\n",
       "    .dataframe thead th {\n",
       "        text-align: right;\n",
       "    }\n",
       "</style>\n",
       "<table border=\"1\" class=\"dataframe\">\n",
       "  <thead>\n",
       "    <tr style=\"text-align: right;\">\n",
       "      <th></th>\n",
       "      <th>Rank</th>\n",
       "      <th>University</th>\n",
       "      <th>Country</th>\n",
       "      <th>FTE_students</th>\n",
       "      <th>Staff_students</th>\n",
       "      <th>International_students_pct</th>\n",
       "      <th>Female_male_ratio</th>\n",
       "      <th>Overall</th>\n",
       "      <th>Teaching</th>\n",
       "      <th>Research</th>\n",
       "      <th>Citations</th>\n",
       "      <th>Industry_income</th>\n",
       "      <th>International_outlook</th>\n",
       "    </tr>\n",
       "  </thead>\n",
       "  <tbody>\n",
       "    <tr>\n",
       "      <th>0</th>\n",
       "      <td>1</td>\n",
       "      <td>University of Oxford</td>\n",
       "      <td>United Kingdom</td>\n",
       "      <td>20,664</td>\n",
       "      <td>11.2</td>\n",
       "      <td>41%</td>\n",
       "      <td>46 : 54</td>\n",
       "      <td>95.4</td>\n",
       "      <td>90.5</td>\n",
       "      <td>99.6</td>\n",
       "      <td>98.4</td>\n",
       "      <td>65.5</td>\n",
       "      <td>96.4</td>\n",
       "    </tr>\n",
       "    <tr>\n",
       "      <th>1</th>\n",
       "      <td>2</td>\n",
       "      <td>California Institute of Technology</td>\n",
       "      <td>United States</td>\n",
       "      <td>2,240</td>\n",
       "      <td>6.4</td>\n",
       "      <td>30%</td>\n",
       "      <td>34 : 66</td>\n",
       "      <td>94.5</td>\n",
       "      <td>92.1</td>\n",
       "      <td>97.2</td>\n",
       "      <td>97.9</td>\n",
       "      <td>88.0</td>\n",
       "      <td>82.5</td>\n",
       "    </tr>\n",
       "    <tr>\n",
       "      <th>2</th>\n",
       "      <td>3</td>\n",
       "      <td>University of Cambridge</td>\n",
       "      <td>United Kingdom</td>\n",
       "      <td>18,978</td>\n",
       "      <td>10.9</td>\n",
       "      <td>37%</td>\n",
       "      <td>47 : 53</td>\n",
       "      <td>94.4</td>\n",
       "      <td>91.4</td>\n",
       "      <td>98.7</td>\n",
       "      <td>95.8</td>\n",
       "      <td>59.3</td>\n",
       "      <td>95.0</td>\n",
       "    </tr>\n",
       "    <tr>\n",
       "      <th>3</th>\n",
       "      <td>4</td>\n",
       "      <td>Stanford University</td>\n",
       "      <td>United States</td>\n",
       "      <td>16,135</td>\n",
       "      <td>7.3</td>\n",
       "      <td>23%</td>\n",
       "      <td>43 : 57</td>\n",
       "      <td>94.3</td>\n",
       "      <td>92.8</td>\n",
       "      <td>96.4</td>\n",
       "      <td>99.9</td>\n",
       "      <td>66.2</td>\n",
       "      <td>79.5</td>\n",
       "    </tr>\n",
       "    <tr>\n",
       "      <th>4</th>\n",
       "      <td>5</td>\n",
       "      <td>Massachusetts Institute of Technology</td>\n",
       "      <td>United States</td>\n",
       "      <td>11,247</td>\n",
       "      <td>8.6</td>\n",
       "      <td>34%</td>\n",
       "      <td>39 : 61</td>\n",
       "      <td>93.6</td>\n",
       "      <td>90.5</td>\n",
       "      <td>92.4</td>\n",
       "      <td>99.5</td>\n",
       "      <td>86.9</td>\n",
       "      <td>89.0</td>\n",
       "    </tr>\n",
       "  </tbody>\n",
       "</table>\n",
       "</div>"
      ],
      "text/plain": [
       "  Rank                             University         Country FTE_students  \\\n",
       "0    1                   University of Oxford  United Kingdom       20,664   \n",
       "1    2     California Institute of Technology   United States        2,240   \n",
       "2    3                University of Cambridge  United Kingdom       18,978   \n",
       "3    4                    Stanford University   United States       16,135   \n",
       "4    5  Massachusetts Institute of Technology   United States       11,247   \n",
       "\n",
       "  Staff_students International_students_pct Female_male_ratio Overall  \\\n",
       "0           11.2                        41%           46 : 54    95.4   \n",
       "1            6.4                        30%           34 : 66    94.5   \n",
       "2           10.9                        37%           47 : 53    94.4   \n",
       "3            7.3                        23%           43 : 57    94.3   \n",
       "4            8.6                        34%           39 : 61    93.6   \n",
       "\n",
       "  Teaching Research Citations Industry_income International_outlook  \n",
       "0     90.5     99.6      98.4            65.5                  96.4  \n",
       "1     92.1     97.2      97.9            88.0                  82.5  \n",
       "2     91.4     98.7      95.8            59.3                  95.0  \n",
       "3     92.8     96.4      99.9            66.2                  79.5  \n",
       "4     90.5     92.4      99.5            86.9                  89.0  "
      ]
     },
     "execution_count": 64,
     "metadata": {},
     "output_type": "execute_result"
    }
   ],
   "source": [
    "final_df.head()"
   ]
  },
  {
   "cell_type": "code",
   "execution_count": 63,
   "metadata": {},
   "outputs": [
    {
     "data": {
      "text/plain": [
       "(1397, 13)"
      ]
     },
     "execution_count": 63,
     "metadata": {},
     "output_type": "execute_result"
    }
   ],
   "source": [
    "final_df.shape"
   ]
  },
  {
   "cell_type": "markdown",
   "metadata": {},
   "source": [
    "<br>"
   ]
  },
  {
   "cell_type": "markdown",
   "metadata": {},
   "source": [
    "### Now, we save the dataframes to csv format, so we can reuse them later."
   ]
  },
  {
   "cell_type": "code",
   "execution_count": 67,
   "metadata": {},
   "outputs": [],
   "source": [
    "stats_df.to_csv('stats_df.csv', index = False)\n",
    "scores_df.to_csv('scores_df.csv', index=False)\n",
    "final_df.to_csv('final_df.csv', index = False)"
   ]
  }
 ],
 "metadata": {
  "kernelspec": {
   "display_name": "Python 3",
   "language": "python",
   "name": "python3"
  },
  "language_info": {
   "codemirror_mode": {
    "name": "ipython",
    "version": 3
   },
   "file_extension": ".py",
   "mimetype": "text/x-python",
   "name": "python",
   "nbconvert_exporter": "python",
   "pygments_lexer": "ipython3",
   "version": "3.8.5"
  }
 },
 "nbformat": 4,
 "nbformat_minor": 4
}
