{
 "cells": [
  {
   "cell_type": "markdown",
   "metadata": {},
   "source": [
    "# Data Analysis"
   ]
  },
  {
   "cell_type": "markdown",
   "metadata": {},
   "source": [
    "<br>"
   ]
  },
  {
   "cell_type": "markdown",
   "metadata": {},
   "source": [
    "---"
   ]
  },
  {
   "cell_type": "markdown",
   "metadata": {},
   "source": [
    "<br>"
   ]
  },
  {
   "cell_type": "markdown",
   "metadata": {},
   "source": [
    "<br>"
   ]
  },
  {
   "cell_type": "markdown",
   "metadata": {},
   "source": [
    "### Import Packages"
   ]
  },
  {
   "cell_type": "code",
   "execution_count": 1,
   "metadata": {},
   "outputs": [],
   "source": [
    "import pandas as pd\n",
    "import numpy as np\n",
    "import seaborn as sns\n",
    "import matplotlib.pyplot as plt\n",
    "%matplotlib inline\n",
    "import sys\n",
    "sys.path.append('utils.pyutils.py')\n",
    "import utils as utils\n",
    "pd.set_option('display.max_rows', 500)"
   ]
  },
  {
   "cell_type": "markdown",
   "metadata": {},
   "source": [
    "<br>"
   ]
  },
  {
   "cell_type": "markdown",
   "metadata": {},
   "source": [
    "##### Read the csv file"
   ]
  },
  {
   "cell_type": "code",
   "execution_count": 2,
   "metadata": {},
   "outputs": [],
   "source": [
    "df = pd.read_csv('./clean_data.csv')"
   ]
  },
  {
   "cell_type": "markdown",
   "metadata": {},
   "source": [
    "<br>"
   ]
  },
  {
   "cell_type": "markdown",
   "metadata": {},
   "source": [
    "##### Read first 5 rows"
   ]
  },
  {
   "cell_type": "code",
   "execution_count": 3,
   "metadata": {},
   "outputs": [
    {
     "data": {
      "text/html": [
       "<div>\n",
       "<style scoped>\n",
       "    .dataframe tbody tr th:only-of-type {\n",
       "        vertical-align: middle;\n",
       "    }\n",
       "\n",
       "    .dataframe tbody tr th {\n",
       "        vertical-align: top;\n",
       "    }\n",
       "\n",
       "    .dataframe thead th {\n",
       "        text-align: right;\n",
       "    }\n",
       "</style>\n",
       "<table border=\"1\" class=\"dataframe\">\n",
       "  <thead>\n",
       "    <tr style=\"text-align: right;\">\n",
       "      <th></th>\n",
       "      <th>Rank</th>\n",
       "      <th>University</th>\n",
       "      <th>Country</th>\n",
       "      <th>No_FTE_students</th>\n",
       "      <th>Students_per_staff</th>\n",
       "      <th>International_students_pct</th>\n",
       "      <th>Female_pct</th>\n",
       "      <th>Overall</th>\n",
       "      <th>Teaching</th>\n",
       "      <th>Research</th>\n",
       "      <th>Citations</th>\n",
       "      <th>Industry_income</th>\n",
       "      <th>International_outlook</th>\n",
       "    </tr>\n",
       "  </thead>\n",
       "  <tbody>\n",
       "    <tr>\n",
       "      <th>0</th>\n",
       "      <td>6</td>\n",
       "      <td>University of Oxford</td>\n",
       "      <td>United Kingdom</td>\n",
       "      <td>20664</td>\n",
       "      <td>11.2</td>\n",
       "      <td>41.0</td>\n",
       "      <td>46.0</td>\n",
       "      <td>95.4</td>\n",
       "      <td>90.5</td>\n",
       "      <td>99.6</td>\n",
       "      <td>98.4</td>\n",
       "      <td>65.5</td>\n",
       "      <td>96.4</td>\n",
       "    </tr>\n",
       "    <tr>\n",
       "      <th>1</th>\n",
       "      <td>6</td>\n",
       "      <td>California Institute of Technology</td>\n",
       "      <td>United States</td>\n",
       "      <td>2240</td>\n",
       "      <td>6.4</td>\n",
       "      <td>30.0</td>\n",
       "      <td>34.0</td>\n",
       "      <td>94.5</td>\n",
       "      <td>92.1</td>\n",
       "      <td>97.2</td>\n",
       "      <td>97.9</td>\n",
       "      <td>88.0</td>\n",
       "      <td>82.5</td>\n",
       "    </tr>\n",
       "    <tr>\n",
       "      <th>2</th>\n",
       "      <td>6</td>\n",
       "      <td>University of Cambridge</td>\n",
       "      <td>United Kingdom</td>\n",
       "      <td>18978</td>\n",
       "      <td>10.9</td>\n",
       "      <td>37.0</td>\n",
       "      <td>47.0</td>\n",
       "      <td>94.4</td>\n",
       "      <td>91.4</td>\n",
       "      <td>98.7</td>\n",
       "      <td>95.8</td>\n",
       "      <td>59.3</td>\n",
       "      <td>95.0</td>\n",
       "    </tr>\n",
       "    <tr>\n",
       "      <th>3</th>\n",
       "      <td>6</td>\n",
       "      <td>Stanford University</td>\n",
       "      <td>United States</td>\n",
       "      <td>16135</td>\n",
       "      <td>7.3</td>\n",
       "      <td>23.0</td>\n",
       "      <td>43.0</td>\n",
       "      <td>94.3</td>\n",
       "      <td>92.8</td>\n",
       "      <td>96.4</td>\n",
       "      <td>99.9</td>\n",
       "      <td>66.2</td>\n",
       "      <td>79.5</td>\n",
       "    </tr>\n",
       "    <tr>\n",
       "      <th>4</th>\n",
       "      <td>6</td>\n",
       "      <td>Massachusetts Institute of Technology</td>\n",
       "      <td>United States</td>\n",
       "      <td>11247</td>\n",
       "      <td>8.6</td>\n",
       "      <td>34.0</td>\n",
       "      <td>39.0</td>\n",
       "      <td>93.6</td>\n",
       "      <td>90.5</td>\n",
       "      <td>92.4</td>\n",
       "      <td>99.5</td>\n",
       "      <td>86.9</td>\n",
       "      <td>89.0</td>\n",
       "    </tr>\n",
       "  </tbody>\n",
       "</table>\n",
       "</div>"
      ],
      "text/plain": [
       "   Rank                             University         Country  \\\n",
       "0     6                   University of Oxford  United Kingdom   \n",
       "1     6     California Institute of Technology   United States   \n",
       "2     6                University of Cambridge  United Kingdom   \n",
       "3     6                    Stanford University   United States   \n",
       "4     6  Massachusetts Institute of Technology   United States   \n",
       "\n",
       "   No_FTE_students  Students_per_staff  International_students_pct  \\\n",
       "0            20664                11.2                        41.0   \n",
       "1             2240                 6.4                        30.0   \n",
       "2            18978                10.9                        37.0   \n",
       "3            16135                 7.3                        23.0   \n",
       "4            11247                 8.6                        34.0   \n",
       "\n",
       "   Female_pct  Overall  Teaching  Research  Citations  Industry_income  \\\n",
       "0        46.0     95.4      90.5      99.6       98.4             65.5   \n",
       "1        34.0     94.5      92.1      97.2       97.9             88.0   \n",
       "2        47.0     94.4      91.4      98.7       95.8             59.3   \n",
       "3        43.0     94.3      92.8      96.4       99.9             66.2   \n",
       "4        39.0     93.6      90.5      92.4       99.5             86.9   \n",
       "\n",
       "   International_outlook  \n",
       "0                   96.4  \n",
       "1                   82.5  \n",
       "2                   95.0  \n",
       "3                   79.5  \n",
       "4                   89.0  "
      ]
     },
     "execution_count": 3,
     "metadata": {},
     "output_type": "execute_result"
    }
   ],
   "source": [
    "df.head()"
   ]
  },
  {
   "cell_type": "markdown",
   "metadata": {},
   "source": [
    "<br>"
   ]
  },
  {
   "cell_type": "markdown",
   "metadata": {},
   "source": [
    "##### See our dataframe shape"
   ]
  },
  {
   "cell_type": "code",
   "execution_count": 4,
   "metadata": {},
   "outputs": [
    {
     "data": {
      "text/plain": [
       "(1262, 13)"
      ]
     },
     "execution_count": 4,
     "metadata": {},
     "output_type": "execute_result"
    }
   ],
   "source": [
    "df.shape"
   ]
  },
  {
   "cell_type": "markdown",
   "metadata": {},
   "source": [
    "<br>"
   ]
  },
  {
   "cell_type": "markdown",
   "metadata": {},
   "source": [
    "##### See our data info"
   ]
  },
  {
   "cell_type": "code",
   "execution_count": 5,
   "metadata": {},
   "outputs": [
    {
     "name": "stdout",
     "output_type": "stream",
     "text": [
      "<class 'pandas.core.frame.DataFrame'>\n",
      "RangeIndex: 1262 entries, 0 to 1261\n",
      "Data columns (total 13 columns):\n",
      " #   Column                      Non-Null Count  Dtype  \n",
      "---  ------                      --------------  -----  \n",
      " 0   Rank                        1262 non-null   int64  \n",
      " 1   University                  1262 non-null   object \n",
      " 2   Country                     1262 non-null   object \n",
      " 3   No_FTE_students             1262 non-null   int64  \n",
      " 4   Students_per_staff          1262 non-null   float64\n",
      " 5   International_students_pct  1262 non-null   float64\n",
      " 6   Female_pct                  1262 non-null   float64\n",
      " 7   Overall                     1262 non-null   float64\n",
      " 8   Teaching                    1262 non-null   float64\n",
      " 9   Research                    1262 non-null   float64\n",
      " 10  Citations                   1262 non-null   float64\n",
      " 11  Industry_income             1262 non-null   float64\n",
      " 12  International_outlook       1262 non-null   float64\n",
      "dtypes: float64(9), int64(2), object(2)\n",
      "memory usage: 128.3+ KB\n"
     ]
    }
   ],
   "source": [
    "df.info()"
   ]
  },
  {
   "cell_type": "markdown",
   "metadata": {},
   "source": [
    "<br>"
   ]
  },
  {
   "cell_type": "markdown",
   "metadata": {},
   "source": [
    "##### Check if there are null values"
   ]
  },
  {
   "cell_type": "code",
   "execution_count": 6,
   "metadata": {},
   "outputs": [
    {
     "data": {
      "text/plain": [
       "Rank                          0\n",
       "University                    0\n",
       "Country                       0\n",
       "No_FTE_students               0\n",
       "Students_per_staff            0\n",
       "International_students_pct    0\n",
       "Female_pct                    0\n",
       "Overall                       0\n",
       "Teaching                      0\n",
       "Research                      0\n",
       "Citations                     0\n",
       "Industry_income               0\n",
       "International_outlook         0\n",
       "dtype: int64"
      ]
     },
     "execution_count": 6,
     "metadata": {},
     "output_type": "execute_result"
    }
   ],
   "source": [
    "df.isnull().sum()"
   ]
  },
  {
   "cell_type": "markdown",
   "metadata": {},
   "source": [
    "<br>"
   ]
  },
  {
   "cell_type": "markdown",
   "metadata": {},
   "source": [
    "##### Check duplicated rows"
   ]
  },
  {
   "cell_type": "code",
   "execution_count": 7,
   "metadata": {},
   "outputs": [
    {
     "data": {
      "text/plain": [
       "0"
      ]
     },
     "execution_count": 7,
     "metadata": {},
     "output_type": "execute_result"
    }
   ],
   "source": [
    "df.duplicated().sum()"
   ]
  },
  {
   "cell_type": "markdown",
   "metadata": {},
   "source": [
    "<br>"
   ]
  },
  {
   "cell_type": "markdown",
   "metadata": {},
   "source": [
    "##### See some univariate statistics"
   ]
  },
  {
   "cell_type": "code",
   "execution_count": 8,
   "metadata": {},
   "outputs": [
    {
     "data": {
      "text/html": [
       "<div>\n",
       "<style scoped>\n",
       "    .dataframe tbody tr th:only-of-type {\n",
       "        vertical-align: middle;\n",
       "    }\n",
       "\n",
       "    .dataframe tbody tr th {\n",
       "        vertical-align: top;\n",
       "    }\n",
       "\n",
       "    .dataframe thead th {\n",
       "        text-align: right;\n",
       "    }\n",
       "</style>\n",
       "<table border=\"1\" class=\"dataframe\">\n",
       "  <thead>\n",
       "    <tr style=\"text-align: right;\">\n",
       "      <th></th>\n",
       "      <th>Count</th>\n",
       "      <th>Missing</th>\n",
       "      <th>Unique</th>\n",
       "      <th>Dtype</th>\n",
       "      <th>Numeric</th>\n",
       "      <th>Mode</th>\n",
       "      <th>Mean</th>\n",
       "      <th>Min</th>\n",
       "      <th>25%</th>\n",
       "      <th>Median</th>\n",
       "      <th>75%</th>\n",
       "      <th>Max</th>\n",
       "      <th>Std</th>\n",
       "      <th>Skew</th>\n",
       "      <th>Kurt</th>\n",
       "    </tr>\n",
       "  </thead>\n",
       "  <tbody>\n",
       "    <tr>\n",
       "      <th>Teaching</th>\n",
       "      <td>1262</td>\n",
       "      <td>0</td>\n",
       "      <td>403</td>\n",
       "      <td>float64</td>\n",
       "      <td>True</td>\n",
       "      <td>16.7</td>\n",
       "      <td>28.2172</td>\n",
       "      <td>11.2</td>\n",
       "      <td>18.6</td>\n",
       "      <td>23.9</td>\n",
       "      <td>33.1</td>\n",
       "      <td>92.8</td>\n",
       "      <td>14.1592</td>\n",
       "      <td>2.00017</td>\n",
       "      <td>4.7343</td>\n",
       "    </tr>\n",
       "    <tr>\n",
       "      <th>Research</th>\n",
       "      <td>1262</td>\n",
       "      <td>0</td>\n",
       "      <td>438</td>\n",
       "      <td>float64</td>\n",
       "      <td>True</td>\n",
       "      <td>10</td>\n",
       "      <td>23.7689</td>\n",
       "      <td>6.8</td>\n",
       "      <td>11.7</td>\n",
       "      <td>17.85</td>\n",
       "      <td>29.6</td>\n",
       "      <td>99.6</td>\n",
       "      <td>17.4275</td>\n",
       "      <td>1.92932</td>\n",
       "      <td>4.01225</td>\n",
       "    </tr>\n",
       "    <tr>\n",
       "      <th>Industry_income</th>\n",
       "      <td>1262</td>\n",
       "      <td>0</td>\n",
       "      <td>361</td>\n",
       "      <td>float64</td>\n",
       "      <td>True</td>\n",
       "      <td>34.4</td>\n",
       "      <td>46.341</td>\n",
       "      <td>34.4</td>\n",
       "      <td>35.8</td>\n",
       "      <td>39.4</td>\n",
       "      <td>49</td>\n",
       "      <td>100</td>\n",
       "      <td>16.1094</td>\n",
       "      <td>1.82866</td>\n",
       "      <td>2.52136</td>\n",
       "    </tr>\n",
       "    <tr>\n",
       "      <th>International_students_pct</th>\n",
       "      <td>1262</td>\n",
       "      <td>0</td>\n",
       "      <td>62</td>\n",
       "      <td>float64</td>\n",
       "      <td>True</td>\n",
       "      <td>1</td>\n",
       "      <td>11.5174</td>\n",
       "      <td>0</td>\n",
       "      <td>2</td>\n",
       "      <td>8</td>\n",
       "      <td>17</td>\n",
       "      <td>83</td>\n",
       "      <td>12.0209</td>\n",
       "      <td>1.82735</td>\n",
       "      <td>4.79291</td>\n",
       "    </tr>\n",
       "    <tr>\n",
       "      <th>Overall</th>\n",
       "      <td>1262</td>\n",
       "      <td>0</td>\n",
       "      <td>131</td>\n",
       "      <td>float64</td>\n",
       "      <td>True</td>\n",
       "      <td>16.4</td>\n",
       "      <td>34.4403</td>\n",
       "      <td>16.4</td>\n",
       "      <td>16.4</td>\n",
       "      <td>31.75</td>\n",
       "      <td>43.4</td>\n",
       "      <td>95.4</td>\n",
       "      <td>17.0466</td>\n",
       "      <td>1.00475</td>\n",
       "      <td>0.802946</td>\n",
       "    </tr>\n",
       "    <tr>\n",
       "      <th>No_FTE_students</th>\n",
       "      <td>1262</td>\n",
       "      <td>0</td>\n",
       "      <td>1244</td>\n",
       "      <td>int64</td>\n",
       "      <td>True</td>\n",
       "      <td>1142</td>\n",
       "      <td>19283.8</td>\n",
       "      <td>558</td>\n",
       "      <td>9723.75</td>\n",
       "      <td>16651</td>\n",
       "      <td>26824.2</td>\n",
       "      <td>57827</td>\n",
       "      <td>12291.8</td>\n",
       "      <td>0.800028</td>\n",
       "      <td>0.103364</td>\n",
       "    </tr>\n",
       "    <tr>\n",
       "      <th>International_outlook</th>\n",
       "      <td>1262</td>\n",
       "      <td>0</td>\n",
       "      <td>621</td>\n",
       "      <td>float64</td>\n",
       "      <td>True</td>\n",
       "      <td>21.5</td>\n",
       "      <td>46.9918</td>\n",
       "      <td>13.1</td>\n",
       "      <td>26.625</td>\n",
       "      <td>42.4</td>\n",
       "      <td>63.575</td>\n",
       "      <td>99.7</td>\n",
       "      <td>23.7435</td>\n",
       "      <td>0.560421</td>\n",
       "      <td>-0.786661</td>\n",
       "    </tr>\n",
       "    <tr>\n",
       "      <th>Students_per_staff</th>\n",
       "      <td>1262</td>\n",
       "      <td>0</td>\n",
       "      <td>286</td>\n",
       "      <td>float64</td>\n",
       "      <td>True</td>\n",
       "      <td>12.5</td>\n",
       "      <td>16.4313</td>\n",
       "      <td>0.9</td>\n",
       "      <td>11.9</td>\n",
       "      <td>15.7</td>\n",
       "      <td>20.275</td>\n",
       "      <td>35.4</td>\n",
       "      <td>6.5248</td>\n",
       "      <td>0.484978</td>\n",
       "      <td>0.136302</td>\n",
       "    </tr>\n",
       "    <tr>\n",
       "      <th>Citations</th>\n",
       "      <td>1262</td>\n",
       "      <td>0</td>\n",
       "      <td>711</td>\n",
       "      <td>float64</td>\n",
       "      <td>True</td>\n",
       "      <td>20.7</td>\n",
       "      <td>47.8738</td>\n",
       "      <td>1.7</td>\n",
       "      <td>23.3</td>\n",
       "      <td>44.8</td>\n",
       "      <td>71.875</td>\n",
       "      <td>100</td>\n",
       "      <td>27.8524</td>\n",
       "      <td>0.241185</td>\n",
       "      <td>-1.15426</td>\n",
       "    </tr>\n",
       "    <tr>\n",
       "      <th>Rank</th>\n",
       "      <td>1262</td>\n",
       "      <td>0</td>\n",
       "      <td>6</td>\n",
       "      <td>int64</td>\n",
       "      <td>True</td>\n",
       "      <td>1</td>\n",
       "      <td>3.13154</td>\n",
       "      <td>1</td>\n",
       "      <td>1</td>\n",
       "      <td>3</td>\n",
       "      <td>5</td>\n",
       "      <td>6</td>\n",
       "      <td>1.78862</td>\n",
       "      <td>0.227257</td>\n",
       "      <td>-1.33087</td>\n",
       "    </tr>\n",
       "    <tr>\n",
       "      <th>Female_pct</th>\n",
       "      <td>1262</td>\n",
       "      <td>0</td>\n",
       "      <td>89</td>\n",
       "      <td>float64</td>\n",
       "      <td>True</td>\n",
       "      <td>55</td>\n",
       "      <td>49.6513</td>\n",
       "      <td>9</td>\n",
       "      <td>43</td>\n",
       "      <td>52</td>\n",
       "      <td>58</td>\n",
       "      <td>99.01</td>\n",
       "      <td>12.349</td>\n",
       "      <td>-0.538343</td>\n",
       "      <td>0.969864</td>\n",
       "    </tr>\n",
       "    <tr>\n",
       "      <th>University</th>\n",
       "      <td>1262</td>\n",
       "      <td>0</td>\n",
       "      <td>1261</td>\n",
       "      <td>object</td>\n",
       "      <td>False</td>\n",
       "      <td>Northeastern University</td>\n",
       "      <td>-</td>\n",
       "      <td>-</td>\n",
       "      <td>-</td>\n",
       "      <td>-</td>\n",
       "      <td>-</td>\n",
       "      <td>-</td>\n",
       "      <td>-</td>\n",
       "      <td>-</td>\n",
       "      <td>-</td>\n",
       "    </tr>\n",
       "    <tr>\n",
       "      <th>Country</th>\n",
       "      <td>1262</td>\n",
       "      <td>0</td>\n",
       "      <td>89</td>\n",
       "      <td>object</td>\n",
       "      <td>False</td>\n",
       "      <td>United States</td>\n",
       "      <td>-</td>\n",
       "      <td>-</td>\n",
       "      <td>-</td>\n",
       "      <td>-</td>\n",
       "      <td>-</td>\n",
       "      <td>-</td>\n",
       "      <td>-</td>\n",
       "      <td>-</td>\n",
       "      <td>-</td>\n",
       "    </tr>\n",
       "  </tbody>\n",
       "</table>\n",
       "</div>"
      ],
      "text/plain": [
       "                           Count Missing Unique    Dtype Numeric  \\\n",
       "Teaching                    1262       0    403  float64    True   \n",
       "Research                    1262       0    438  float64    True   \n",
       "Industry_income             1262       0    361  float64    True   \n",
       "International_students_pct  1262       0     62  float64    True   \n",
       "Overall                     1262       0    131  float64    True   \n",
       "No_FTE_students             1262       0   1244    int64    True   \n",
       "International_outlook       1262       0    621  float64    True   \n",
       "Students_per_staff          1262       0    286  float64    True   \n",
       "Citations                   1262       0    711  float64    True   \n",
       "Rank                        1262       0      6    int64    True   \n",
       "Female_pct                  1262       0     89  float64    True   \n",
       "University                  1262       0   1261   object   False   \n",
       "Country                     1262       0     89   object   False   \n",
       "\n",
       "                                               Mode     Mean   Min      25%  \\\n",
       "Teaching                                       16.7  28.2172  11.2     18.6   \n",
       "Research                                         10  23.7689   6.8     11.7   \n",
       "Industry_income                                34.4   46.341  34.4     35.8   \n",
       "International_students_pct                        1  11.5174     0        2   \n",
       "Overall                                        16.4  34.4403  16.4     16.4   \n",
       "No_FTE_students                                1142  19283.8   558  9723.75   \n",
       "International_outlook                          21.5  46.9918  13.1   26.625   \n",
       "Students_per_staff                             12.5  16.4313   0.9     11.9   \n",
       "Citations                                      20.7  47.8738   1.7     23.3   \n",
       "Rank                                              1  3.13154     1        1   \n",
       "Female_pct                                       55  49.6513     9       43   \n",
       "University                  Northeastern University        -     -        -   \n",
       "Country                               United States        -     -        -   \n",
       "\n",
       "                           Median      75%    Max      Std      Skew      Kurt  \n",
       "Teaching                     23.9     33.1   92.8  14.1592   2.00017    4.7343  \n",
       "Research                    17.85     29.6   99.6  17.4275   1.92932   4.01225  \n",
       "Industry_income              39.4       49    100  16.1094   1.82866   2.52136  \n",
       "International_students_pct      8       17     83  12.0209   1.82735   4.79291  \n",
       "Overall                     31.75     43.4   95.4  17.0466   1.00475  0.802946  \n",
       "No_FTE_students             16651  26824.2  57827  12291.8  0.800028  0.103364  \n",
       "International_outlook        42.4   63.575   99.7  23.7435  0.560421 -0.786661  \n",
       "Students_per_staff           15.7   20.275   35.4   6.5248  0.484978  0.136302  \n",
       "Citations                    44.8   71.875    100  27.8524  0.241185  -1.15426  \n",
       "Rank                            3        5      6  1.78862  0.227257  -1.33087  \n",
       "Female_pct                     52       58  99.01   12.349 -0.538343  0.969864  \n",
       "University                      -        -      -        -         -         -  \n",
       "Country                         -        -      -        -         -         -  "
      ]
     },
     "execution_count": 8,
     "metadata": {},
     "output_type": "execute_result"
    }
   ],
   "source": [
    "utils.unistats(df)"
   ]
  },
  {
   "cell_type": "markdown",
   "metadata": {},
   "source": [
    "<br>"
   ]
  },
  {
   "cell_type": "markdown",
   "metadata": {},
   "source": [
    "##### See some bivariate statistics"
   ]
  },
  {
   "cell_type": "code",
   "execution_count": 9,
   "metadata": {},
   "outputs": [
    {
     "data": {
      "text/html": [
       "<div>\n",
       "<style scoped>\n",
       "    .dataframe tbody tr th:only-of-type {\n",
       "        vertical-align: middle;\n",
       "    }\n",
       "\n",
       "    .dataframe tbody tr th {\n",
       "        vertical-align: top;\n",
       "    }\n",
       "\n",
       "    .dataframe thead th {\n",
       "        text-align: right;\n",
       "    }\n",
       "</style>\n",
       "<table border=\"1\" class=\"dataframe\">\n",
       "  <thead>\n",
       "    <tr style=\"text-align: right;\">\n",
       "      <th></th>\n",
       "      <th>Stat</th>\n",
       "      <th>+/-</th>\n",
       "      <th>Effect size</th>\n",
       "      <th>p-value</th>\n",
       "    </tr>\n",
       "  </thead>\n",
       "  <tbody>\n",
       "    <tr>\n",
       "      <th>Overall</th>\n",
       "      <td>r</td>\n",
       "      <td>1</td>\n",
       "      <td>0.947</td>\n",
       "      <td>0.000000</td>\n",
       "    </tr>\n",
       "    <tr>\n",
       "      <th>Citations</th>\n",
       "      <td>r</td>\n",
       "      <td>1</td>\n",
       "      <td>0.905</td>\n",
       "      <td>0.000000</td>\n",
       "    </tr>\n",
       "    <tr>\n",
       "      <th>Research</th>\n",
       "      <td>r</td>\n",
       "      <td>1</td>\n",
       "      <td>0.770</td>\n",
       "      <td>0.000000</td>\n",
       "    </tr>\n",
       "    <tr>\n",
       "      <th>Teaching</th>\n",
       "      <td>r</td>\n",
       "      <td>1</td>\n",
       "      <td>0.701</td>\n",
       "      <td>0.000000</td>\n",
       "    </tr>\n",
       "    <tr>\n",
       "      <th>International_outlook</th>\n",
       "      <td>r</td>\n",
       "      <td>1</td>\n",
       "      <td>0.648</td>\n",
       "      <td>0.000000</td>\n",
       "    </tr>\n",
       "    <tr>\n",
       "      <th>International_students_pct</th>\n",
       "      <td>r</td>\n",
       "      <td>1</td>\n",
       "      <td>0.536</td>\n",
       "      <td>0.000000</td>\n",
       "    </tr>\n",
       "    <tr>\n",
       "      <th>Industry_income</th>\n",
       "      <td>r</td>\n",
       "      <td>1</td>\n",
       "      <td>0.357</td>\n",
       "      <td>0.000000</td>\n",
       "    </tr>\n",
       "    <tr>\n",
       "      <th>No_FTE_students</th>\n",
       "      <td>r</td>\n",
       "      <td>1</td>\n",
       "      <td>0.093</td>\n",
       "      <td>0.000957</td>\n",
       "    </tr>\n",
       "    <tr>\n",
       "      <th>Female_pct</th>\n",
       "      <td>r</td>\n",
       "      <td>1</td>\n",
       "      <td>0.076</td>\n",
       "      <td>0.006632</td>\n",
       "    </tr>\n",
       "    <tr>\n",
       "      <th>Students_per_staff</th>\n",
       "      <td>r</td>\n",
       "      <td>-1</td>\n",
       "      <td>0.034</td>\n",
       "      <td>0.225547</td>\n",
       "    </tr>\n",
       "    <tr>\n",
       "      <th>Country</th>\n",
       "      <td>F</td>\n",
       "      <td></td>\n",
       "      <td>15.051</td>\n",
       "      <td>0.000000</td>\n",
       "    </tr>\n",
       "    <tr>\n",
       "      <th>University</th>\n",
       "      <td>F</td>\n",
       "      <td></td>\n",
       "      <td>0.399</td>\n",
       "      <td>0.886164</td>\n",
       "    </tr>\n",
       "  </tbody>\n",
       "</table>\n",
       "</div>"
      ],
      "text/plain": [
       "                           Stat +/-  Effect size   p-value\n",
       "Overall                       r   1        0.947  0.000000\n",
       "Citations                     r   1        0.905  0.000000\n",
       "Research                      r   1        0.770  0.000000\n",
       "Teaching                      r   1        0.701  0.000000\n",
       "International_outlook         r   1        0.648  0.000000\n",
       "International_students_pct    r   1        0.536  0.000000\n",
       "Industry_income               r   1        0.357  0.000000\n",
       "No_FTE_students               r   1        0.093  0.000957\n",
       "Female_pct                    r   1        0.076  0.006632\n",
       "Students_per_staff            r  -1        0.034  0.225547\n",
       "Country                       F           15.051  0.000000\n",
       "University                    F            0.399  0.886164"
      ]
     },
     "execution_count": 9,
     "metadata": {},
     "output_type": "execute_result"
    }
   ],
   "source": [
    "utils.bivstats_table(df, 'Rank')"
   ]
  },
  {
   "cell_type": "markdown",
   "metadata": {},
   "source": [
    "<br>"
   ]
  },
  {
   "cell_type": "markdown",
   "metadata": {},
   "source": [
    "##### What is the number of Universities by country?"
   ]
  },
  {
   "cell_type": "code",
   "execution_count": 10,
   "metadata": {},
   "outputs": [
    {
     "data": {
      "text/plain": [
       "United States         168\n",
       "Japan                 108\n",
       "United Kingdom         99\n",
       "China                  79\n",
       "India                  56\n",
       "Brazil                 45\n",
       "Spain                  42\n",
       "Iran                   40\n",
       "Russian Federation     39\n",
       "Italy                  36\n",
       "Name: Country, dtype: int64"
      ]
     },
     "execution_count": 10,
     "metadata": {},
     "output_type": "execute_result"
    }
   ],
   "source": [
    "top10_countries_count = df.Country.value_counts().sort_values(ascending=False).head(10)\n",
    "top10_countries_count"
   ]
  },
  {
   "cell_type": "code",
   "execution_count": 11,
   "metadata": {},
   "outputs": [
    {
     "data": {
      "image/png": "[encoded data removed]",
      "text/plain": [
       "<Figure size 864x432 with 1 Axes>"
      ]
     },
     "metadata": {
      "needs_background": "light"
     },
     "output_type": "display_data"
    }
   ],
   "source": [
    "plt.figure(figsize=(12,6))\n",
    "plt.title('Number of universities by country')\n",
    "sns.barplot(y=top10_countries_count.index,x=top10_countries_count,palette = 'Set2')\n",
    "plt.xlabel('Number of universities')\n",
    "plt.ylabel('')\n",
    "plt.show()"
   ]
  },
  {
   "cell_type": "markdown",
   "metadata": {},
   "source": [
    "<br>"
   ]
  },
  {
   "cell_type": "markdown",
   "metadata": {},
   "source": [
    "##### And their representative rank?"
   ]
  },
  {
   "cell_type": "code",
   "execution_count": 12,
   "metadata": {},
   "outputs": [
    {
     "data": {
      "text/html": [
       "<div>\n",
       "<style scoped>\n",
       "    .dataframe tbody tr th:only-of-type {\n",
       "        vertical-align: middle;\n",
       "    }\n",
       "\n",
       "    .dataframe tbody tr th {\n",
       "        vertical-align: top;\n",
       "    }\n",
       "\n",
       "    .dataframe thead th {\n",
       "        text-align: right;\n",
       "    }\n",
       "</style>\n",
       "<table border=\"1\" class=\"dataframe\">\n",
       "  <thead>\n",
       "    <tr style=\"text-align: right;\">\n",
       "      <th></th>\n",
       "      <th>rank</th>\n",
       "      <th>uni_count</th>\n",
       "    </tr>\n",
       "    <tr>\n",
       "      <th>Country</th>\n",
       "      <th></th>\n",
       "      <th></th>\n",
       "    </tr>\n",
       "  </thead>\n",
       "  <tbody>\n",
       "    <tr>\n",
       "      <th>United States</th>\n",
       "      <td>5.0</td>\n",
       "      <td>168</td>\n",
       "    </tr>\n",
       "    <tr>\n",
       "      <th>Japan</th>\n",
       "      <td>1.0</td>\n",
       "      <td>108</td>\n",
       "    </tr>\n",
       "    <tr>\n",
       "      <th>United Kingdom</th>\n",
       "      <td>4.0</td>\n",
       "      <td>99</td>\n",
       "    </tr>\n",
       "    <tr>\n",
       "      <th>China</th>\n",
       "      <td>3.0</td>\n",
       "      <td>79</td>\n",
       "    </tr>\n",
       "    <tr>\n",
       "      <th>India</th>\n",
       "      <td>2.0</td>\n",
       "      <td>56</td>\n",
       "    </tr>\n",
       "    <tr>\n",
       "      <th>Brazil</th>\n",
       "      <td>1.0</td>\n",
       "      <td>45</td>\n",
       "    </tr>\n",
       "    <tr>\n",
       "      <th>Spain</th>\n",
       "      <td>2.0</td>\n",
       "      <td>42</td>\n",
       "    </tr>\n",
       "    <tr>\n",
       "      <th>Iran</th>\n",
       "      <td>2.0</td>\n",
       "      <td>40</td>\n",
       "    </tr>\n",
       "    <tr>\n",
       "      <th>Russian Federation</th>\n",
       "      <td>1.0</td>\n",
       "      <td>39</td>\n",
       "    </tr>\n",
       "    <tr>\n",
       "      <th>Italy</th>\n",
       "      <td>4.0</td>\n",
       "      <td>36</td>\n",
       "    </tr>\n",
       "  </tbody>\n",
       "</table>\n",
       "</div>"
      ],
      "text/plain": [
       "                    rank  uni_count\n",
       "Country                            \n",
       "United States        5.0        168\n",
       "Japan                1.0        108\n",
       "United Kingdom       4.0         99\n",
       "China                3.0         79\n",
       "India                2.0         56\n",
       "Brazil               1.0         45\n",
       "Spain                2.0         42\n",
       "Iran                 2.0         40\n",
       "Russian Federation   1.0         39\n",
       "Italy                4.0         36"
      ]
     },
     "execution_count": 12,
     "metadata": {},
     "output_type": "execute_result"
    }
   ],
   "source": [
    "country_rank = df.groupby('Country').agg(rank=('Rank','median'),uni_count=('Country','count'))\n",
    "top10_country_rank = country_rank.sort_values(ascending= False, by = ['uni_count','rank'])[:10]\n",
    "top10_country_rank"
   ]
  },
  {
   "cell_type": "code",
   "execution_count": 13,
   "metadata": {},
   "outputs": [
    {
     "data": {
      "image/png": "[encoded data removed]",
      "text/plain": [
       "<Figure size 864x432 with 1 Axes>"
      ]
     },
     "metadata": {
      "needs_background": "light"
     },
     "output_type": "display_data"
    }
   ],
   "source": [
    "plt.figure(figsize=(12,6))\n",
    "plt.title('Number of universities by country anh rank')\n",
    "sns.barplot(data = top10_country_rank, y=top10_country_rank.index, x = 'uni_count', hue = 'rank');"
   ]
  },
  {
   "cell_type": "markdown",
   "metadata": {},
   "source": [
    "<br>"
   ]
  },
  {
   "cell_type": "markdown",
   "metadata": {},
   "source": [
    "##### Which countries have attendances in top 200?"
   ]
  },
  {
   "cell_type": "code",
   "execution_count": 14,
   "metadata": {},
   "outputs": [
    {
     "data": {
      "text/plain": [
       "array(['United Kingdom', 'United States', 'Switzerland', 'China',\n",
       "       'Singapore', 'Germany', 'Australia', 'Canada', 'Hong Kong',\n",
       "       'Japan', 'Sweden', 'France', 'Netherlands', 'South Korea',\n",
       "       'Finland', 'Denmark', 'Taiwan', 'Norway', 'South Africa', 'Spain',\n",
       "       'Italy', 'Ireland', 'New Zealand', 'Russian Federation', 'Israel',\n",
       "       'Belgium'], dtype=object)"
      ]
     },
     "execution_count": 14,
     "metadata": {},
     "output_type": "execute_result"
    }
   ],
   "source": [
    "df[df.Rank == 6]['Country'].unique()"
   ]
  },
  {
   "cell_type": "markdown",
   "metadata": {},
   "source": [
    "<br>"
   ]
  },
  {
   "cell_type": "code",
   "execution_count": 15,
   "metadata": {},
   "outputs": [
    {
     "data": {
      "text/plain": [
       "United States     57\n",
       "United Kingdom    28\n",
       "Netherlands       11\n",
       "Switzerland        7\n",
       "China              7\n",
       "Germany            7\n",
       "Australia          6\n",
       "Canada             6\n",
       "South Korea        6\n",
       "Sweden             5\n",
       "Name: Country, dtype: int64"
      ]
     },
     "execution_count": 15,
     "metadata": {},
     "output_type": "execute_result"
    }
   ],
   "source": [
    "top200_Uni = df[df.Rank == 6]\n",
    "top200_Uni.Country.value_counts().head(10)"
   ]
  },
  {
   "cell_type": "markdown",
   "metadata": {},
   "source": [
    "<br>"
   ]
  },
  {
   "cell_type": "code",
   "execution_count": 17,
   "metadata": {},
   "outputs": [
    {
     "data": {
      "text/plain": [
       "<Figure size 1440x720 with 0 Axes>"
      ]
     },
     "metadata": {},
     "output_type": "display_data"
    },
    {
     "data": {
      "image/png": "[encoded data removed]",
      "text/plain": [
       "<Figure size 360x360 with 1 Axes>"
      ]
     },
     "metadata": {
      "needs_background": "light"
     },
     "output_type": "display_data"
    }
   ],
   "source": [
    "total_top200_uni = top200_Uni.Country.value_counts().reset_index(name='Uni').head(10)\n",
    "plt.figure(figsize = (20,10))\n",
    "g = sns.catplot(x='Uni', y='index', data = total_top200_uni, kind = 'bar', palette = 'rocket')\n",
    "g.set_xlabels(\"Number of top 200 Universities\")\n",
    "g.set_ylabels(\"Top 10 Countries\")\n",
    "plt.title('Top 200 Universities per Country')\n",
    "plt.show()"
   ]
  },
  {
   "cell_type": "markdown",
   "metadata": {},
   "source": [
    "<br>"
   ]
  },
  {
   "cell_type": "markdown",
   "metadata": {},
   "source": [
    "##### for each country in the above list, what is the percentage of having a top 200 University?"
   ]
  },
  {
   "cell_type": "code",
   "execution_count": 18,
   "metadata": {},
   "outputs": [
    {
     "data": {
      "text/html": [
       "<div>\n",
       "<style scoped>\n",
       "    .dataframe tbody tr th:only-of-type {\n",
       "        vertical-align: middle;\n",
       "    }\n",
       "\n",
       "    .dataframe tbody tr th {\n",
       "        vertical-align: top;\n",
       "    }\n",
       "\n",
       "    .dataframe thead th {\n",
       "        text-align: right;\n",
       "    }\n",
       "</style>\n",
       "<table border=\"1\" class=\"dataframe\">\n",
       "  <thead>\n",
       "    <tr style=\"text-align: right;\">\n",
       "      <th></th>\n",
       "      <th>top200_uni_pct</th>\n",
       "    </tr>\n",
       "  </thead>\n",
       "  <tbody>\n",
       "    <tr>\n",
       "      <th>Singapore</th>\n",
       "      <td>1.000000</td>\n",
       "    </tr>\n",
       "    <tr>\n",
       "      <th>Netherlands</th>\n",
       "      <td>0.846154</td>\n",
       "    </tr>\n",
       "    <tr>\n",
       "      <th>Hong Kong</th>\n",
       "      <td>0.833333</td>\n",
       "    </tr>\n",
       "    <tr>\n",
       "      <th>Switzerland</th>\n",
       "      <td>0.636364</td>\n",
       "    </tr>\n",
       "    <tr>\n",
       "      <th>Denmark</th>\n",
       "      <td>0.428571</td>\n",
       "    </tr>\n",
       "    <tr>\n",
       "      <th>Sweden</th>\n",
       "      <td>0.416667</td>\n",
       "    </tr>\n",
       "    <tr>\n",
       "      <th>Germany</th>\n",
       "      <td>0.388889</td>\n",
       "    </tr>\n",
       "    <tr>\n",
       "      <th>United States</th>\n",
       "      <td>0.339286</td>\n",
       "    </tr>\n",
       "    <tr>\n",
       "      <th>United Kingdom</th>\n",
       "      <td>0.282828</td>\n",
       "    </tr>\n",
       "    <tr>\n",
       "      <th>Belgium</th>\n",
       "      <td>0.250000</td>\n",
       "    </tr>\n",
       "  </tbody>\n",
       "</table>\n",
       "</div>"
      ],
      "text/plain": [
       "                top200_uni_pct\n",
       "Singapore             1.000000\n",
       "Netherlands           0.846154\n",
       "Hong Kong             0.833333\n",
       "Switzerland           0.636364\n",
       "Denmark               0.428571\n",
       "Sweden                0.416667\n",
       "Germany               0.388889\n",
       "United States         0.339286\n",
       "United Kingdom        0.282828\n",
       "Belgium               0.250000"
      ]
     },
     "execution_count": 18,
     "metadata": {},
     "output_type": "execute_result"
    }
   ],
   "source": [
    "top200_uni_pct_df = pd.DataFrame(df.Country[df.Rank == 6].value_counts() / df.Country.value_counts())\n",
    "top200_uni_pct_df.rename(columns={'Country': 'top200_uni_pct'},inplace = True)\n",
    "\n",
    "top200_uni_pct_df.sort_values(ascending=False,by='top200_uni_pct').head(10)"
   ]
  },
  {
   "cell_type": "markdown",
   "metadata": {},
   "source": [
    "<br>"
   ]
  },
  {
   "cell_type": "markdown",
   "metadata": {},
   "source": [
    "##### What is the most common university's rank for each country?"
   ]
  },
  {
   "cell_type": "code",
   "execution_count": 19,
   "metadata": {},
   "outputs": [],
   "source": [
    "country_mode_rank = df.groupby('Country').agg(mode_rank=('Rank',lambda x:x.value_counts().index[0]),uni_count=('Country','count'))"
   ]
  },
  {
   "cell_type": "code",
   "execution_count": 20,
   "metadata": {},
   "outputs": [
    {
     "data": {
      "text/html": [
       "<div>\n",
       "<style scoped>\n",
       "    .dataframe tbody tr th:only-of-type {\n",
       "        vertical-align: middle;\n",
       "    }\n",
       "\n",
       "    .dataframe tbody tr th {\n",
       "        vertical-align: top;\n",
       "    }\n",
       "\n",
       "    .dataframe thead th {\n",
       "        text-align: right;\n",
       "    }\n",
       "</style>\n",
       "<table border=\"1\" class=\"dataframe\">\n",
       "  <thead>\n",
       "    <tr style=\"text-align: right;\">\n",
       "      <th></th>\n",
       "      <th>uni_count</th>\n",
       "      <th>top200_uni_pct</th>\n",
       "      <th>mode_rank</th>\n",
       "    </tr>\n",
       "  </thead>\n",
       "  <tbody>\n",
       "    <tr>\n",
       "      <th>United States</th>\n",
       "      <td>168</td>\n",
       "      <td>0.339286</td>\n",
       "      <td>6</td>\n",
       "    </tr>\n",
       "    <tr>\n",
       "      <th>United Kingdom</th>\n",
       "      <td>99</td>\n",
       "      <td>0.282828</td>\n",
       "      <td>6</td>\n",
       "    </tr>\n",
       "    <tr>\n",
       "      <th>Germany</th>\n",
       "      <td>18</td>\n",
       "      <td>0.388889</td>\n",
       "      <td>6</td>\n",
       "    </tr>\n",
       "    <tr>\n",
       "      <th>Netherlands</th>\n",
       "      <td>13</td>\n",
       "      <td>0.846154</td>\n",
       "      <td>6</td>\n",
       "    </tr>\n",
       "    <tr>\n",
       "      <th>Sweden</th>\n",
       "      <td>12</td>\n",
       "      <td>0.416667</td>\n",
       "      <td>6</td>\n",
       "    </tr>\n",
       "    <tr>\n",
       "      <th>Switzerland</th>\n",
       "      <td>11</td>\n",
       "      <td>0.636364</td>\n",
       "      <td>6</td>\n",
       "    </tr>\n",
       "    <tr>\n",
       "      <th>Denmark</th>\n",
       "      <td>7</td>\n",
       "      <td>0.428571</td>\n",
       "      <td>6</td>\n",
       "    </tr>\n",
       "    <tr>\n",
       "      <th>Hong Kong</th>\n",
       "      <td>6</td>\n",
       "      <td>0.833333</td>\n",
       "      <td>6</td>\n",
       "    </tr>\n",
       "    <tr>\n",
       "      <th>Singapore</th>\n",
       "      <td>2</td>\n",
       "      <td>1.000000</td>\n",
       "      <td>6</td>\n",
       "    </tr>\n",
       "    <tr>\n",
       "      <th>Canada</th>\n",
       "      <td>28</td>\n",
       "      <td>0.214286</td>\n",
       "      <td>5</td>\n",
       "    </tr>\n",
       "  </tbody>\n",
       "</table>\n",
       "</div>"
      ],
      "text/plain": [
       "                uni_count  top200_uni_pct  mode_rank\n",
       "United States         168        0.339286          6\n",
       "United Kingdom         99        0.282828          6\n",
       "Germany                18        0.388889          6\n",
       "Netherlands            13        0.846154          6\n",
       "Sweden                 12        0.416667          6\n",
       "Switzerland            11        0.636364          6\n",
       "Denmark                 7        0.428571          6\n",
       "Hong Kong               6        0.833333          6\n",
       "Singapore               2        1.000000          6\n",
       "Canada                 28        0.214286          5"
      ]
     },
     "execution_count": 20,
     "metadata": {},
     "output_type": "execute_result"
    }
   ],
   "source": [
    "info_df = top200_uni_pct_df.merge(pd.DataFrame(country_mode_rank),left_index=True, right_index=True).sort_values(ascending=False, by=['mode_rank','uni_count','top200_uni_pct'])\n",
    "\n",
    "info_df = info_df[['uni_count','top200_uni_pct','mode_rank']]\n",
    "info_df.head(10)\n"
   ]
  },
  {
   "cell_type": "markdown",
   "metadata": {},
   "source": [
    "<br>"
   ]
  },
  {
   "cell_type": "markdown",
   "metadata": {},
   "source": [
    "##### US, UK, Germany university's counts by rank"
   ]
  },
  {
   "cell_type": "code",
   "execution_count": 21,
   "metadata": {},
   "outputs": [],
   "source": [
    "US = df[df.Country == 'United States']\n",
    "UK = df[df.Country == 'United Kingdom']\n",
    "Germany = df[df.Country == 'Germany']"
   ]
  },
  {
   "cell_type": "code",
   "execution_count": 22,
   "metadata": {},
   "outputs": [
    {
     "data": {
      "image/png": "[encoded data removed]",
      "text/plain": [
       "<Figure size 432x288 with 1 Axes>"
      ]
     },
     "metadata": {
      "needs_background": "light"
     },
     "output_type": "display_data"
    }
   ],
   "source": [
    "sns.barplot(x= US.groupby(\"Rank\").agg(\"count\")[\"University\"].index, y = US.groupby(\"Rank\").agg(\"count\")[\"University\"].values)\n",
    "plt.xlabel('Rank')\n",
    "plt.ylabel('Number of universities')\n",
    "plt.title(\"US's universities by rank\");"
   ]
  },
  {
   "cell_type": "code",
   "execution_count": 23,
   "metadata": {},
   "outputs": [
    {
     "data": {
      "image/png": "[encoded data removed]",
      "text/plain": [
       "<Figure size 432x288 with 1 Axes>"
      ]
     },
     "metadata": {
      "needs_background": "light"
     },
     "output_type": "display_data"
    }
   ],
   "source": [
    "sns.barplot(x= UK.groupby(\"Rank\").agg(\"count\")[\"University\"].index, y = UK.groupby(\"Rank\").agg(\"count\")[\"University\"].values)\n",
    "plt.xlabel('Rank')\n",
    "plt.ylabel('Number of universities')\n",
    "plt.title(\"UK's universities by rank\");"
   ]
  },
  {
   "cell_type": "code",
   "execution_count": 24,
   "metadata": {},
   "outputs": [
    {
     "data": {
      "image/png": "[encoded data removed]",
      "text/plain": [
       "<Figure size 432x288 with 1 Axes>"
      ]
     },
     "metadata": {
      "needs_background": "light"
     },
     "output_type": "display_data"
    }
   ],
   "source": [
    "sns.barplot(x= Germany.groupby(\"Rank\").agg(\"count\")[\"University\"].index, y = Germany.groupby(\"Rank\").agg(\"count\")[\"University\"].values)\n",
    "plt.xlabel('Rank')\n",
    "plt.ylabel('Number of universities')\n",
    "plt.title(\"Germany's universities by rank\");"
   ]
  },
  {
   "cell_type": "markdown",
   "metadata": {},
   "source": [
    "<br>"
   ]
  },
  {
   "cell_type": "markdown",
   "metadata": {},
   "source": [
    "##### What is the distribution of Teaching score?"
   ]
  },
  {
   "cell_type": "code",
   "execution_count": 25,
   "metadata": {},
   "outputs": [
    {
     "data": {
      "image/png": "[encoded data removed]",
      "text/plain": [
       "<Figure size 864x432 with 1 Axes>"
      ]
     },
     "metadata": {
      "needs_background": "light"
     },
     "output_type": "display_data"
    }
   ],
   "source": [
    "plt.figure(figsize=(12,6))\n",
    "plt.title('Teaching score distribution of universities')\n",
    "plt.xlabel('Teaching score')\n",
    "plt.ylabel('Number of universities')\n",
    "plt.hist(df.Teaching, bins =np.arange(10,101), edgecolor = 'white');"
   ]
  },
  {
   "cell_type": "markdown",
   "metadata": {},
   "source": [
    "<br>"
   ]
  },
  {
   "cell_type": "markdown",
   "metadata": {},
   "source": [
    "##### Universities with teaching scores higher than 50 have the ranking of ?"
   ]
  },
  {
   "cell_type": "code",
   "execution_count": 26,
   "metadata": {},
   "outputs": [
    {
     "data": {
      "text/plain": [
       "6    85\n",
       "5     5\n",
       "Name: Rank, dtype: int64"
      ]
     },
     "execution_count": 26,
     "metadata": {},
     "output_type": "execute_result"
    }
   ],
   "source": [
    "df[df.Teaching > 50]['Rank'].value_counts()"
   ]
  },
  {
   "cell_type": "markdown",
   "metadata": {},
   "source": [
    "<br>"
   ]
  },
  {
   "cell_type": "markdown",
   "metadata": {},
   "source": [
    "##### What is the number of FTE students by country?"
   ]
  },
  {
   "cell_type": "code",
   "execution_count": 27,
   "metadata": {},
   "outputs": [],
   "source": [
    "top10_FTE_students = df.groupby('Country')['No_FTE_students'].agg('sum').sort_values(ascending = False).head(10)"
   ]
  },
  {
   "cell_type": "code",
   "execution_count": 28,
   "metadata": {},
   "outputs": [
    {
     "data": {
      "image/png": "[encoded data removed]",
      "text/plain": [
       "<Figure size 1440x720 with 1 Axes>"
      ]
     },
     "metadata": {
      "needs_background": "light"
     },
     "output_type": "display_data"
    }
   ],
   "source": [
    "plt.figure(figsize = (20,10))\n",
    "plt.ticklabel_format(style='plain')\n",
    "sns.barplot(x =top10_FTE_students.values, y=top10_FTE_students.index, palette=\"Spectral\")\n",
    "plt.xlabel('Number of FTE students')\n",
    "plt.title('Top 10 countries of FTE students counts');"
   ]
  },
  {
   "cell_type": "markdown",
   "metadata": {},
   "source": [
    "<br>"
   ]
  },
  {
   "cell_type": "markdown",
   "metadata": {},
   "source": [
    "##### Which countries do the unverities with Citations scores higher than 80 belong to?"
   ]
  },
  {
   "cell_type": "code",
   "execution_count": 29,
   "metadata": {},
   "outputs": [
    {
     "data": {
      "image/png": "[encoded data removed]",
      "text/plain": [
       "<Figure size 432x288 with 1 Axes>"
      ]
     },
     "metadata": {
      "needs_background": "light"
     },
     "output_type": "display_data"
    }
   ],
   "source": [
    "sns.histplot(data =df, x='Citations')\n",
    "plt.ylabel('Number of universities')\n",
    "plt.show()"
   ]
  },
  {
   "cell_type": "code",
   "execution_count": 30,
   "metadata": {},
   "outputs": [
    {
     "data": {
      "text/plain": [
       "United States     72\n",
       "United Kingdom    33\n",
       "Australia         10\n",
       "Netherlands        8\n",
       "Italy              8\n",
       "Name: Country, dtype: int64"
      ]
     },
     "execution_count": 30,
     "metadata": {},
     "output_type": "execute_result"
    }
   ],
   "source": [
    "df[df.Citations > 80]['Country'].value_counts().head(5)"
   ]
  },
  {
   "cell_type": "code",
   "execution_count": 31,
   "metadata": {},
   "outputs": [
    {
     "data": {
      "text/plain": [
       "6    5\n",
       "5    1\n",
       "Name: Rank, dtype: int64"
      ]
     },
     "execution_count": 31,
     "metadata": {},
     "output_type": "execute_result"
    }
   ],
   "source": [
    "Germany[Germany['Citations'] >=80]['Rank'].value_counts()"
   ]
  },
  {
   "cell_type": "code",
   "execution_count": 32,
   "metadata": {},
   "outputs": [
    {
     "data": {
      "image/png": "[encoded data removed]",
      "text/plain": [
       "<Figure size 720x360 with 1 Axes>"
      ]
     },
     "metadata": {
      "needs_background": "light"
     },
     "output_type": "display_data"
    }
   ],
   "source": [
    "plt.figure(figsize = (10,5))\n",
    "plt.tight_layout()\n",
    "sns.countplot(x=Germany[Germany['Citations'] >= 80]['Rank'])\n",
    "plt.ylabel('Number of universities')\n",
    "plt.title(\"Germany Universities'rank with citations over 80\");"
   ]
  },
  {
   "cell_type": "code",
   "execution_count": 33,
   "metadata": {},
   "outputs": [
    {
     "data": {
      "text/plain": [
       "6    52\n",
       "5    20\n",
       "4     1\n",
       "Name: Rank, dtype: int64"
      ]
     },
     "execution_count": 33,
     "metadata": {},
     "output_type": "execute_result"
    }
   ],
   "source": [
    "US[US['Citations'] >= 80]['Rank'].value_counts()"
   ]
  },
  {
   "cell_type": "code",
   "execution_count": 34,
   "metadata": {},
   "outputs": [
    {
     "data": {
      "image/png": "[encoded data removed]",
      "text/plain": [
       "<Figure size 720x360 with 1 Axes>"
      ]
     },
     "metadata": {
      "needs_background": "light"
     },
     "output_type": "display_data"
    }
   ],
   "source": [
    "plt.figure(figsize = (10,5))\n",
    "plt.tight_layout()\n",
    "sns.countplot(x=US[US['Citations'] >= 80]['Rank'])\n",
    "plt.ylabel('Number of universities')\n",
    "plt.title(\"US Universities'rank with citations over 80\");"
   ]
  },
  {
   "cell_type": "code",
   "execution_count": 35,
   "metadata": {},
   "outputs": [
    {
     "data": {
      "text/plain": [
       "6    25\n",
       "5     8\n",
       "Name: Rank, dtype: int64"
      ]
     },
     "execution_count": 35,
     "metadata": {},
     "output_type": "execute_result"
    }
   ],
   "source": [
    "UK[UK.Citations >= 80]['Rank'].value_counts()"
   ]
  },
  {
   "cell_type": "code",
   "execution_count": 36,
   "metadata": {},
   "outputs": [
    {
     "data": {
      "image/png": "[encoded data removed]",
      "text/plain": [
       "<Figure size 720x360 with 1 Axes>"
      ]
     },
     "metadata": {
      "needs_background": "light"
     },
     "output_type": "display_data"
    }
   ],
   "source": [
    "plt.figure(figsize = (10,5))\n",
    "plt.tight_layout()\n",
    "sns.countplot(x=UK[UK['Citations'] >= 80]['Rank'])\n",
    "plt.ylabel('Number of universities')\n",
    "plt.title(\"United Kingdom Universities'rank with citations over 80\");"
   ]
  },
  {
   "cell_type": "markdown",
   "metadata": {},
   "source": [
    "<br>"
   ]
  },
  {
   "cell_type": "markdown",
   "metadata": {},
   "source": [
    "##### What are the ranks of those universities with research score higher than 40?"
   ]
  },
  {
   "cell_type": "code",
   "execution_count": 37,
   "metadata": {},
   "outputs": [
    {
     "data": {
      "text/plain": [
       "Rank\n",
       "6       148\n",
       "5        19\n",
       "4         4\n",
       "3         1\n",
       "dtype: int64"
      ]
     },
     "execution_count": 37,
     "metadata": {},
     "output_type": "execute_result"
    }
   ],
   "source": [
    "df[df.Research >= 40][['Rank']].value_counts()"
   ]
  },
  {
   "cell_type": "markdown",
   "metadata": {},
   "source": [
    "<br>"
   ]
  },
  {
   "cell_type": "markdown",
   "metadata": {},
   "source": [
    "##### Which countries have the highest international student percentage?"
   ]
  },
  {
   "cell_type": "code",
   "execution_count": 38,
   "metadata": {},
   "outputs": [
    {
     "data": {
      "image/png": "[encoded data removed]",
      "text/plain": [
       "<Figure size 1440x720 with 1 Axes>"
      ]
     },
     "metadata": {
      "needs_background": "light"
     },
     "output_type": "display_data"
    }
   ],
   "source": [
    "top10_international_pct = df.groupby('Country')['International_students_pct'].agg('mean').sort_values(ascending=False).head(10)\n",
    "plt.figure(figsize = (20,10))\n",
    "plt.ticklabel_format(style='plain')\n",
    "sns.barplot(x =top10_international_pct.values, y=top10_international_pct.index, palette=\"Spectral\")\n",
    "plt.title('Top 10 countries popular to international students');"
   ]
  },
  {
   "cell_type": "markdown",
   "metadata": {},
   "source": [
    "<br>"
   ]
  },
  {
   "cell_type": "code",
   "execution_count": 39,
   "metadata": {},
   "outputs": [
    {
     "data": {
      "text/html": [
       "<div>\n",
       "<style scoped>\n",
       "    .dataframe tbody tr th:only-of-type {\n",
       "        vertical-align: middle;\n",
       "    }\n",
       "\n",
       "    .dataframe tbody tr th {\n",
       "        vertical-align: top;\n",
       "    }\n",
       "\n",
       "    .dataframe thead th {\n",
       "        text-align: right;\n",
       "    }\n",
       "</style>\n",
       "<table border=\"1\" class=\"dataframe\">\n",
       "  <thead>\n",
       "    <tr style=\"text-align: right;\">\n",
       "      <th></th>\n",
       "      <th>Rank</th>\n",
       "      <th>University</th>\n",
       "      <th>Country</th>\n",
       "      <th>No_FTE_students</th>\n",
       "      <th>Students_per_staff</th>\n",
       "      <th>International_students_pct</th>\n",
       "      <th>Female_pct</th>\n",
       "      <th>Overall</th>\n",
       "      <th>Teaching</th>\n",
       "      <th>Research</th>\n",
       "      <th>Citations</th>\n",
       "      <th>Industry_income</th>\n",
       "      <th>International_outlook</th>\n",
       "    </tr>\n",
       "  </thead>\n",
       "  <tbody>\n",
       "    <tr>\n",
       "      <th>766</th>\n",
       "      <td>2</td>\n",
       "      <td>Eastern Mediterranean University</td>\n",
       "      <td>Northern Cyprus</td>\n",
       "      <td>18865</td>\n",
       "      <td>27.1</td>\n",
       "      <td>83.0</td>\n",
       "      <td>41.0</td>\n",
       "      <td>25.2</td>\n",
       "      <td>17.0</td>\n",
       "      <td>11.7</td>\n",
       "      <td>30.6</td>\n",
       "      <td>34.4</td>\n",
       "      <td>86.6</td>\n",
       "    </tr>\n",
       "  </tbody>\n",
       "</table>\n",
       "</div>"
      ],
      "text/plain": [
       "     Rank                        University          Country  No_FTE_students  \\\n",
       "766     2  Eastern Mediterranean University  Northern Cyprus            18865   \n",
       "\n",
       "     Students_per_staff  International_students_pct  Female_pct  Overall  \\\n",
       "766                27.1                        83.0        41.0     25.2   \n",
       "\n",
       "     Teaching  Research  Citations  Industry_income  International_outlook  \n",
       "766      17.0      11.7       30.6             34.4                   86.6  "
      ]
     },
     "execution_count": 39,
     "metadata": {},
     "output_type": "execute_result"
    }
   ],
   "source": [
    "df[df.Country == 'Northern Cyprus']"
   ]
  },
  {
   "cell_type": "markdown",
   "metadata": {},
   "source": [
    "<br>"
   ]
  },
  {
   "cell_type": "code",
   "execution_count": 40,
   "metadata": {},
   "outputs": [
    {
     "data": {
      "text/html": [
       "<div>\n",
       "<style scoped>\n",
       "    .dataframe tbody tr th:only-of-type {\n",
       "        vertical-align: middle;\n",
       "    }\n",
       "\n",
       "    .dataframe tbody tr th {\n",
       "        vertical-align: top;\n",
       "    }\n",
       "\n",
       "    .dataframe thead th {\n",
       "        text-align: right;\n",
       "    }\n",
       "</style>\n",
       "<table border=\"1\" class=\"dataframe\">\n",
       "  <thead>\n",
       "    <tr style=\"text-align: right;\">\n",
       "      <th></th>\n",
       "      <th>Rank</th>\n",
       "      <th>University</th>\n",
       "      <th>Country</th>\n",
       "      <th>No_FTE_students</th>\n",
       "      <th>Students_per_staff</th>\n",
       "      <th>International_students_pct</th>\n",
       "      <th>Female_pct</th>\n",
       "      <th>Overall</th>\n",
       "      <th>Teaching</th>\n",
       "      <th>Research</th>\n",
       "      <th>Citations</th>\n",
       "      <th>Industry_income</th>\n",
       "      <th>International_outlook</th>\n",
       "    </tr>\n",
       "  </thead>\n",
       "  <tbody>\n",
       "    <tr>\n",
       "      <th>417</th>\n",
       "      <td>4</td>\n",
       "      <td>Qatar University</td>\n",
       "      <td>Qatar</td>\n",
       "      <td>15585</td>\n",
       "      <td>17.3</td>\n",
       "      <td>38.0</td>\n",
       "      <td>76.0</td>\n",
       "      <td>40.55</td>\n",
       "      <td>19.6</td>\n",
       "      <td>27.2</td>\n",
       "      <td>64.7</td>\n",
       "      <td>49.3</td>\n",
       "      <td>99.6</td>\n",
       "    </tr>\n",
       "  </tbody>\n",
       "</table>\n",
       "</div>"
      ],
      "text/plain": [
       "     Rank        University Country  No_FTE_students  Students_per_staff  \\\n",
       "417     4  Qatar University   Qatar            15585                17.3   \n",
       "\n",
       "     International_students_pct  Female_pct  Overall  Teaching  Research  \\\n",
       "417                        38.0        76.0    40.55      19.6      27.2   \n",
       "\n",
       "     Citations  Industry_income  International_outlook  \n",
       "417       64.7             49.3                   99.6  "
      ]
     },
     "execution_count": 40,
     "metadata": {},
     "output_type": "execute_result"
    }
   ],
   "source": [
    "df[df.Country == 'Qatar']"
   ]
  },
  {
   "cell_type": "markdown",
   "metadata": {},
   "source": [
    "<br>"
   ]
  },
  {
   "cell_type": "markdown",
   "metadata": {},
   "source": [
    "We can see top countriest that have highest international students percentage also have really high international outlook "
   ]
  },
  {
   "cell_type": "markdown",
   "metadata": {},
   "source": [
    "<br>"
   ]
  },
  {
   "cell_type": "code",
   "execution_count": 41,
   "metadata": {},
   "outputs": [
    {
     "data": {
      "image/png": "[encoded data removed]",
      "text/plain": [
       "<Figure size 432x288 with 1 Axes>"
      ]
     },
     "metadata": {
      "needs_background": "light"
     },
     "output_type": "display_data"
    }
   ],
   "source": [
    "sns.histplot(data = df, x = 'International_outlook')\n",
    "plt.ylabel('Number of universities')\n",
    "plt.title('Number of universities by international outlook score')\n",
    "plt.show()"
   ]
  },
  {
   "cell_type": "markdown",
   "metadata": {},
   "source": [
    "<br>"
   ]
  },
  {
   "cell_type": "markdown",
   "metadata": {},
   "source": [
    "##### Is there a noticeable relationship between international outlook and international students percentage?"
   ]
  },
  {
   "cell_type": "code",
   "execution_count": 42,
   "metadata": {},
   "outputs": [
    {
     "data": {
      "image/png": "[encoded data removed]",
      "text/plain": [
       "<Figure size 432x288 with 1 Axes>"
      ]
     },
     "metadata": {
      "needs_background": "light"
     },
     "output_type": "display_data"
    }
   ],
   "source": [
    "sns.scatterplot(x='International_outlook', y='International_students_pct', data =df)\n",
    "plt.title('International_outlook vs International_students_pct')\n",
    "plt.show()"
   ]
  },
  {
   "cell_type": "markdown",
   "metadata": {},
   "source": [
    "<br>"
   ]
  },
  {
   "cell_type": "code",
   "execution_count": 43,
   "metadata": {},
   "outputs": [
    {
     "data": {
      "text/html": [
       "<div>\n",
       "<style scoped>\n",
       "    .dataframe tbody tr th:only-of-type {\n",
       "        vertical-align: middle;\n",
       "    }\n",
       "\n",
       "    .dataframe tbody tr th {\n",
       "        vertical-align: top;\n",
       "    }\n",
       "\n",
       "    .dataframe thead th {\n",
       "        text-align: right;\n",
       "    }\n",
       "</style>\n",
       "<table border=\"1\" class=\"dataframe\">\n",
       "  <thead>\n",
       "    <tr style=\"text-align: right;\">\n",
       "      <th></th>\n",
       "      <th>International_outlook</th>\n",
       "      <th>International_students_pct</th>\n",
       "    </tr>\n",
       "  </thead>\n",
       "  <tbody>\n",
       "    <tr>\n",
       "      <th>International_outlook</th>\n",
       "      <td>1.000000</td>\n",
       "      <td>0.827278</td>\n",
       "    </tr>\n",
       "    <tr>\n",
       "      <th>International_students_pct</th>\n",
       "      <td>0.827278</td>\n",
       "      <td>1.000000</td>\n",
       "    </tr>\n",
       "  </tbody>\n",
       "</table>\n",
       "</div>"
      ],
      "text/plain": [
       "                            International_outlook  International_students_pct\n",
       "International_outlook                    1.000000                    0.827278\n",
       "International_students_pct               0.827278                    1.000000"
      ]
     },
     "execution_count": 43,
     "metadata": {},
     "output_type": "execute_result"
    }
   ],
   "source": [
    "df[['International_outlook', 'International_students_pct']].corr(method = 'pearson')"
   ]
  },
  {
   "cell_type": "markdown",
   "metadata": {},
   "source": [
    "<br>"
   ]
  },
  {
   "cell_type": "markdown",
   "metadata": {},
   "source": [
    "##### Which countries have great international outlooks?"
   ]
  },
  {
   "cell_type": "code",
   "execution_count": 44,
   "metadata": {},
   "outputs": [
    {
     "data": {
      "image/png": "[encoded data removed]",
      "text/plain": [
       "<Figure size 1440x720 with 1 Axes>"
      ]
     },
     "metadata": {
      "needs_background": "light"
     },
     "output_type": "display_data"
    }
   ],
   "source": [
    "top10_international_outlook = df.groupby('Country')['International_outlook'].agg('mean').sort_values(ascending=False).head(10)\n",
    "plt.figure(figsize = (20,10))\n",
    "plt.ticklabel_format(style='plain')\n",
    "sns.barplot(x =top10_international_outlook.values, y=top10_international_outlook.index, palette=\"Spectral\")\n",
    "plt.title('Top 10 countries with great international outlooks');"
   ]
  },
  {
   "cell_type": "markdown",
   "metadata": {},
   "source": [
    "<br>"
   ]
  },
  {
   "cell_type": "markdown",
   "metadata": {},
   "source": [
    "##### How about top 200 university's international outlook ? "
   ]
  },
  {
   "cell_type": "code",
   "execution_count": 45,
   "metadata": {},
   "outputs": [
    {
     "data": {
      "image/png": "[encoded data removed]",
      "text/plain": [
       "<Figure size 432x288 with 1 Axes>"
      ]
     },
     "metadata": {
      "needs_background": "light"
     },
     "output_type": "display_data"
    }
   ],
   "source": [
    "sns.histplot(data = top200_Uni, x = 'International_outlook')\n",
    "plt.ylabel('Number of universities')\n",
    "plt.show()"
   ]
  },
  {
   "cell_type": "markdown",
   "metadata": {},
   "source": [
    "<br>"
   ]
  },
  {
   "cell_type": "markdown",
   "metadata": {},
   "source": [
    "##### What is United States's international outlook average score for those in top 200?"
   ]
  },
  {
   "cell_type": "code",
   "execution_count": 46,
   "metadata": {},
   "outputs": [
    {
     "data": {
      "text/plain": [
       "60.88947368421052"
      ]
     },
     "execution_count": 46,
     "metadata": {},
     "output_type": "execute_result"
    }
   ],
   "source": [
    "US_top200 = df[(df.Country == 'United States') & (df.Rank == 6)]\n",
    "US_top200['International_outlook'].mean()"
   ]
  },
  {
   "cell_type": "code",
   "execution_count": 47,
   "metadata": {},
   "outputs": [
    {
     "data": {
      "image/png": "[encoded data removed]",
      "text/plain": [
       "<Figure size 432x288 with 1 Axes>"
      ]
     },
     "metadata": {
      "needs_background": "light"
     },
     "output_type": "display_data"
    }
   ],
   "source": [
    "g = sns.histplot(data = US_top200, x='International_outlook', bins = 6)\n",
    "plt.ylabel('Number of universities')\n",
    "plt.show()"
   ]
  },
  {
   "cell_type": "markdown",
   "metadata": {},
   "source": [
    "<br>"
   ]
  },
  {
   "cell_type": "markdown",
   "metadata": {},
   "source": [
    "##### Which universities create highest industry income?"
   ]
  },
  {
   "cell_type": "code",
   "execution_count": 48,
   "metadata": {},
   "outputs": [
    {
     "data": {
      "image/png": "[encoded data removed]",
      "text/plain": [
       "<Figure size 432x288 with 1 Axes>"
      ]
     },
     "metadata": {
      "needs_background": "light"
     },
     "output_type": "display_data"
    }
   ],
   "source": [
    "sns.histplot(data = df, x = 'Industry_income')\n",
    "plt.ylabel('Number of universities')\n",
    "plt.show()"
   ]
  },
  {
   "cell_type": "code",
   "execution_count": 49,
   "metadata": {},
   "outputs": [],
   "source": [
    "High_industry_income_uni = df[df.Industry_income > 80][['Rank',\"University\", \"Country\",'Industry_income','Overall','Research','Citations','Teaching']]"
   ]
  },
  {
   "cell_type": "code",
   "execution_count": 50,
   "metadata": {},
   "outputs": [
    {
     "data": {
      "text/html": [
       "<div>\n",
       "<style scoped>\n",
       "    .dataframe tbody tr th:only-of-type {\n",
       "        vertical-align: middle;\n",
       "    }\n",
       "\n",
       "    .dataframe tbody tr th {\n",
       "        vertical-align: top;\n",
       "    }\n",
       "\n",
       "    .dataframe thead th {\n",
       "        text-align: right;\n",
       "    }\n",
       "</style>\n",
       "<table border=\"1\" class=\"dataframe\">\n",
       "  <thead>\n",
       "    <tr style=\"text-align: right;\">\n",
       "      <th></th>\n",
       "      <th>Rank</th>\n",
       "      <th>University</th>\n",
       "      <th>Country</th>\n",
       "      <th>Industry_income</th>\n",
       "      <th>Overall</th>\n",
       "      <th>Research</th>\n",
       "      <th>Citations</th>\n",
       "      <th>Teaching</th>\n",
       "    </tr>\n",
       "  </thead>\n",
       "  <tbody>\n",
       "    <tr>\n",
       "      <th>1</th>\n",
       "      <td>6</td>\n",
       "      <td>California Institute of Technology</td>\n",
       "      <td>United States</td>\n",
       "      <td>88.0</td>\n",
       "      <td>94.50</td>\n",
       "      <td>97.2</td>\n",
       "      <td>97.9</td>\n",
       "      <td>92.1</td>\n",
       "    </tr>\n",
       "    <tr>\n",
       "      <th>4</th>\n",
       "      <td>6</td>\n",
       "      <td>Massachusetts Institute of Technology</td>\n",
       "      <td>United States</td>\n",
       "      <td>86.9</td>\n",
       "      <td>93.60</td>\n",
       "      <td>92.4</td>\n",
       "      <td>99.5</td>\n",
       "      <td>90.5</td>\n",
       "    </tr>\n",
       "    <tr>\n",
       "      <th>11</th>\n",
       "      <td>6</td>\n",
       "      <td>Johns Hopkins University</td>\n",
       "      <td>United States</td>\n",
       "      <td>91.3</td>\n",
       "      <td>89.20</td>\n",
       "      <td>91.4</td>\n",
       "      <td>98.3</td>\n",
       "      <td>81.7</td>\n",
       "    </tr>\n",
       "    <tr>\n",
       "      <th>18</th>\n",
       "      <td>6</td>\n",
       "      <td>Duke University</td>\n",
       "      <td>United States</td>\n",
       "      <td>99.9</td>\n",
       "      <td>84.00</td>\n",
       "      <td>76.8</td>\n",
       "      <td>97.0</td>\n",
       "      <td>82.4</td>\n",
       "    </tr>\n",
       "    <tr>\n",
       "      <th>21</th>\n",
       "      <td>6</td>\n",
       "      <td>Tsinghua University</td>\n",
       "      <td>China</td>\n",
       "      <td>100.0</td>\n",
       "      <td>82.60</td>\n",
       "      <td>94.0</td>\n",
       "      <td>74.6</td>\n",
       "      <td>86.6</td>\n",
       "    </tr>\n",
       "    <tr>\n",
       "      <th>22</th>\n",
       "      <td>6</td>\n",
       "      <td>Peking University</td>\n",
       "      <td>China</td>\n",
       "      <td>86.6</td>\n",
       "      <td>82.30</td>\n",
       "      <td>90.0</td>\n",
       "      <td>73.2</td>\n",
       "      <td>89.1</td>\n",
       "    </tr>\n",
       "    <tr>\n",
       "      <th>29</th>\n",
       "      <td>6</td>\n",
       "      <td>University of California, San Diego</td>\n",
       "      <td>United States</td>\n",
       "      <td>90.3</td>\n",
       "      <td>78.80</td>\n",
       "      <td>78.9</td>\n",
       "      <td>97.7</td>\n",
       "      <td>62.6</td>\n",
       "    </tr>\n",
       "    <tr>\n",
       "      <th>30</th>\n",
       "      <td>6</td>\n",
       "      <td>LMU Munich</td>\n",
       "      <td>Germany</td>\n",
       "      <td>100.0</td>\n",
       "      <td>77.80</td>\n",
       "      <td>77.0</td>\n",
       "      <td>88.8</td>\n",
       "      <td>68.4</td>\n",
       "    </tr>\n",
       "    <tr>\n",
       "      <th>53</th>\n",
       "      <td>6</td>\n",
       "      <td>University of California, Santa Barbara</td>\n",
       "      <td>United States</td>\n",
       "      <td>84.5</td>\n",
       "      <td>69.60</td>\n",
       "      <td>63.6</td>\n",
       "      <td>96.4</td>\n",
       "      <td>47.9</td>\n",
       "    </tr>\n",
       "    <tr>\n",
       "      <th>55</th>\n",
       "      <td>6</td>\n",
       "      <td>Wageningen University &amp; Research</td>\n",
       "      <td>Netherlands</td>\n",
       "      <td>100.0</td>\n",
       "      <td>69.40</td>\n",
       "      <td>57.1</td>\n",
       "      <td>96.1</td>\n",
       "      <td>49.3</td>\n",
       "    </tr>\n",
       "    <tr>\n",
       "      <th>60</th>\n",
       "      <td>6</td>\n",
       "      <td>Seoul National University</td>\n",
       "      <td>South Korea</td>\n",
       "      <td>86.6</td>\n",
       "      <td>68.00</td>\n",
       "      <td>71.6</td>\n",
       "      <td>66.5</td>\n",
       "      <td>72.3</td>\n",
       "    </tr>\n",
       "    <tr>\n",
       "      <th>62</th>\n",
       "      <td>6</td>\n",
       "      <td>Delft University of Technology</td>\n",
       "      <td>Netherlands</td>\n",
       "      <td>99.4</td>\n",
       "      <td>66.70</td>\n",
       "      <td>72.3</td>\n",
       "      <td>63.2</td>\n",
       "      <td>55.3</td>\n",
       "    </tr>\n",
       "    <tr>\n",
       "      <th>66</th>\n",
       "      <td>6</td>\n",
       "      <td>McMaster University</td>\n",
       "      <td>Canada</td>\n",
       "      <td>94.0</td>\n",
       "      <td>65.40</td>\n",
       "      <td>50.1</td>\n",
       "      <td>94.8</td>\n",
       "      <td>44.5</td>\n",
       "    </tr>\n",
       "    <tr>\n",
       "      <th>72</th>\n",
       "      <td>6</td>\n",
       "      <td>Charité - Universitätsmedizin Berlin</td>\n",
       "      <td>Germany</td>\n",
       "      <td>92.7</td>\n",
       "      <td>64.00</td>\n",
       "      <td>47.3</td>\n",
       "      <td>94.9</td>\n",
       "      <td>47.6</td>\n",
       "    </tr>\n",
       "    <tr>\n",
       "      <th>80</th>\n",
       "      <td>6</td>\n",
       "      <td>Sungkyunkwan University (SKKU)</td>\n",
       "      <td>South Korea</td>\n",
       "      <td>97.3</td>\n",
       "      <td>63.00</td>\n",
       "      <td>61.2</td>\n",
       "      <td>70.3</td>\n",
       "      <td>57.6</td>\n",
       "    </tr>\n",
       "    <tr>\n",
       "      <th>84</th>\n",
       "      <td>6</td>\n",
       "      <td>University of Basel</td>\n",
       "      <td>Switzerland</td>\n",
       "      <td>99.4</td>\n",
       "      <td>62.40</td>\n",
       "      <td>41.2</td>\n",
       "      <td>91.4</td>\n",
       "      <td>43.0</td>\n",
       "    </tr>\n",
       "    <tr>\n",
       "      <th>88</th>\n",
       "      <td>6</td>\n",
       "      <td>Lund University</td>\n",
       "      <td>Sweden</td>\n",
       "      <td>81.0</td>\n",
       "      <td>62.30</td>\n",
       "      <td>54.3</td>\n",
       "      <td>86.3</td>\n",
       "      <td>40.7</td>\n",
       "    </tr>\n",
       "    <tr>\n",
       "      <th>96</th>\n",
       "      <td>6</td>\n",
       "      <td>Zhejiang University</td>\n",
       "      <td>China</td>\n",
       "      <td>100.0</td>\n",
       "      <td>61.50</td>\n",
       "      <td>64.7</td>\n",
       "      <td>50.6</td>\n",
       "      <td>66.0</td>\n",
       "    </tr>\n",
       "    <tr>\n",
       "      <th>98</th>\n",
       "      <td>6</td>\n",
       "      <td>Korea Advanced Institute of Science and Techno...</td>\n",
       "      <td>South Korea</td>\n",
       "      <td>99.9</td>\n",
       "      <td>61.30</td>\n",
       "      <td>66.4</td>\n",
       "      <td>58.1</td>\n",
       "      <td>62.6</td>\n",
       "    </tr>\n",
       "    <tr>\n",
       "      <th>101</th>\n",
       "      <td>6</td>\n",
       "      <td>University of Bern</td>\n",
       "      <td>Switzerland</td>\n",
       "      <td>85.0</td>\n",
       "      <td>60.40</td>\n",
       "      <td>41.2</td>\n",
       "      <td>86.6</td>\n",
       "      <td>44.5</td>\n",
       "    </tr>\n",
       "    <tr>\n",
       "      <th>113</th>\n",
       "      <td>6</td>\n",
       "      <td>Maastricht University</td>\n",
       "      <td>Netherlands</td>\n",
       "      <td>82.9</td>\n",
       "      <td>59.00</td>\n",
       "      <td>48.3</td>\n",
       "      <td>77.0</td>\n",
       "      <td>40.2</td>\n",
       "    </tr>\n",
       "    <tr>\n",
       "      <th>120</th>\n",
       "      <td>6</td>\n",
       "      <td>University of Cape Town</td>\n",
       "      <td>South Africa</td>\n",
       "      <td>85.3</td>\n",
       "      <td>58.20</td>\n",
       "      <td>42.8</td>\n",
       "      <td>90.3</td>\n",
       "      <td>33.2</td>\n",
       "    </tr>\n",
       "    <tr>\n",
       "      <th>128</th>\n",
       "      <td>6</td>\n",
       "      <td>Nanjing University</td>\n",
       "      <td>China</td>\n",
       "      <td>84.9</td>\n",
       "      <td>57.60</td>\n",
       "      <td>48.0</td>\n",
       "      <td>71.8</td>\n",
       "      <td>50.7</td>\n",
       "    </tr>\n",
       "    <tr>\n",
       "      <th>130</th>\n",
       "      <td>6</td>\n",
       "      <td>Pohang University of Science and Technology (P...</td>\n",
       "      <td>South Korea</td>\n",
       "      <td>99.6</td>\n",
       "      <td>57.40</td>\n",
       "      <td>50.9</td>\n",
       "      <td>72.2</td>\n",
       "      <td>51.7</td>\n",
       "    </tr>\n",
       "    <tr>\n",
       "      <th>132</th>\n",
       "      <td>6</td>\n",
       "      <td>Sant’Anna School of Advanced Studies – Pisa</td>\n",
       "      <td>Italy</td>\n",
       "      <td>84.7</td>\n",
       "      <td>57.30</td>\n",
       "      <td>42.3</td>\n",
       "      <td>82.5</td>\n",
       "      <td>45.0</td>\n",
       "    </tr>\n",
       "    <tr>\n",
       "      <th>139</th>\n",
       "      <td>6</td>\n",
       "      <td>Shanghai Jiao Tong University</td>\n",
       "      <td>China</td>\n",
       "      <td>99.9</td>\n",
       "      <td>56.90</td>\n",
       "      <td>63.0</td>\n",
       "      <td>47.9</td>\n",
       "      <td>58.0</td>\n",
       "    </tr>\n",
       "    <tr>\n",
       "      <th>140</th>\n",
       "      <td>6</td>\n",
       "      <td>TU Dresden</td>\n",
       "      <td>Germany</td>\n",
       "      <td>94.1</td>\n",
       "      <td>56.90</td>\n",
       "      <td>48.5</td>\n",
       "      <td>73.0</td>\n",
       "      <td>46.5</td>\n",
       "    </tr>\n",
       "    <tr>\n",
       "      <th>151</th>\n",
       "      <td>6</td>\n",
       "      <td>Karlsruhe Institute of Technology</td>\n",
       "      <td>Germany</td>\n",
       "      <td>91.3</td>\n",
       "      <td>55.40</td>\n",
       "      <td>47.8</td>\n",
       "      <td>66.5</td>\n",
       "      <td>45.4</td>\n",
       "    </tr>\n",
       "    <tr>\n",
       "      <th>155</th>\n",
       "      <td>6</td>\n",
       "      <td>Korea University</td>\n",
       "      <td>South Korea</td>\n",
       "      <td>93.9</td>\n",
       "      <td>55.20</td>\n",
       "      <td>50.2</td>\n",
       "      <td>64.5</td>\n",
       "      <td>48.4</td>\n",
       "    </tr>\n",
       "    <tr>\n",
       "      <th>158</th>\n",
       "      <td>6</td>\n",
       "      <td>Eindhoven University of Technology</td>\n",
       "      <td>Netherlands</td>\n",
       "      <td>99.8</td>\n",
       "      <td>54.70</td>\n",
       "      <td>48.8</td>\n",
       "      <td>61.0</td>\n",
       "      <td>44.6</td>\n",
       "    </tr>\n",
       "    <tr>\n",
       "      <th>161</th>\n",
       "      <td>6</td>\n",
       "      <td>Lomonosov Moscow State University</td>\n",
       "      <td>Russian Federation</td>\n",
       "      <td>90.7</td>\n",
       "      <td>54.30</td>\n",
       "      <td>63.0</td>\n",
       "      <td>15.6</td>\n",
       "      <td>78.2</td>\n",
       "    </tr>\n",
       "    <tr>\n",
       "      <th>164</th>\n",
       "      <td>6</td>\n",
       "      <td>University of the Witwatersrand</td>\n",
       "      <td>South Africa</td>\n",
       "      <td>100.0</td>\n",
       "      <td>54.00</td>\n",
       "      <td>43.2</td>\n",
       "      <td>78.8</td>\n",
       "      <td>31.2</td>\n",
       "    </tr>\n",
       "    <tr>\n",
       "      <th>165</th>\n",
       "      <td>6</td>\n",
       "      <td>Yonsei University (Seoul campus)</td>\n",
       "      <td>South Korea</td>\n",
       "      <td>98.9</td>\n",
       "      <td>53.90</td>\n",
       "      <td>52.6</td>\n",
       "      <td>53.0</td>\n",
       "      <td>51.2</td>\n",
       "    </tr>\n",
       "    <tr>\n",
       "      <th>191</th>\n",
       "      <td>5</td>\n",
       "      <td>Moscow Institute of Physics and Technology (MIPT)</td>\n",
       "      <td>Russian Federation</td>\n",
       "      <td>99.9</td>\n",
       "      <td>51.90</td>\n",
       "      <td>45.6</td>\n",
       "      <td>47.2</td>\n",
       "      <td>53.3</td>\n",
       "    </tr>\n",
       "    <tr>\n",
       "      <th>200</th>\n",
       "      <td>5</td>\n",
       "      <td>University of South Florida (Tampa)</td>\n",
       "      <td>United States</td>\n",
       "      <td>89.0</td>\n",
       "      <td>51.90</td>\n",
       "      <td>34.2</td>\n",
       "      <td>87.3</td>\n",
       "      <td>30.5</td>\n",
       "    </tr>\n",
       "    <tr>\n",
       "      <th>202</th>\n",
       "      <td>5</td>\n",
       "      <td>University of Twente</td>\n",
       "      <td>Netherlands</td>\n",
       "      <td>85.0</td>\n",
       "      <td>51.90</td>\n",
       "      <td>46.8</td>\n",
       "      <td>55.6</td>\n",
       "      <td>35.2</td>\n",
       "    </tr>\n",
       "    <tr>\n",
       "      <th>203</th>\n",
       "      <td>5</td>\n",
       "      <td>Ulsan National Institute of Science and Techno...</td>\n",
       "      <td>South Korea</td>\n",
       "      <td>80.5</td>\n",
       "      <td>51.90</td>\n",
       "      <td>38.6</td>\n",
       "      <td>91.3</td>\n",
       "      <td>27.8</td>\n",
       "    </tr>\n",
       "    <tr>\n",
       "      <th>208</th>\n",
       "      <td>5</td>\n",
       "      <td>Vrije Universiteit Brussel</td>\n",
       "      <td>Belgium</td>\n",
       "      <td>87.0</td>\n",
       "      <td>51.90</td>\n",
       "      <td>42.3</td>\n",
       "      <td>62.7</td>\n",
       "      <td>37.4</td>\n",
       "    </tr>\n",
       "    <tr>\n",
       "      <th>225</th>\n",
       "      <td>5</td>\n",
       "      <td>University of Delaware</td>\n",
       "      <td>United States</td>\n",
       "      <td>90.6</td>\n",
       "      <td>48.45</td>\n",
       "      <td>38.2</td>\n",
       "      <td>71.5</td>\n",
       "      <td>28.5</td>\n",
       "    </tr>\n",
       "    <tr>\n",
       "      <th>240</th>\n",
       "      <td>5</td>\n",
       "      <td>University of Navarra</td>\n",
       "      <td>Spain</td>\n",
       "      <td>85.5</td>\n",
       "      <td>48.45</td>\n",
       "      <td>27.9</td>\n",
       "      <td>80.3</td>\n",
       "      <td>30.4</td>\n",
       "    </tr>\n",
       "    <tr>\n",
       "      <th>247</th>\n",
       "      <td>5</td>\n",
       "      <td>University of South Australia</td>\n",
       "      <td>Australia</td>\n",
       "      <td>82.5</td>\n",
       "      <td>48.45</td>\n",
       "      <td>39.4</td>\n",
       "      <td>65.8</td>\n",
       "      <td>31.5</td>\n",
       "    </tr>\n",
       "    <tr>\n",
       "      <th>255</th>\n",
       "      <td>5</td>\n",
       "      <td>Tohoku University</td>\n",
       "      <td>Japan</td>\n",
       "      <td>86.4</td>\n",
       "      <td>48.45</td>\n",
       "      <td>54.4</td>\n",
       "      <td>39.8</td>\n",
       "      <td>52.7</td>\n",
       "    </tr>\n",
       "    <tr>\n",
       "      <th>267</th>\n",
       "      <td>5</td>\n",
       "      <td>Huazhong University of Science and Technology</td>\n",
       "      <td>China</td>\n",
       "      <td>90.4</td>\n",
       "      <td>45.65</td>\n",
       "      <td>39.1</td>\n",
       "      <td>59.8</td>\n",
       "      <td>41.0</td>\n",
       "    </tr>\n",
       "    <tr>\n",
       "      <th>273</th>\n",
       "      <td>5</td>\n",
       "      <td>Kyung Hee University</td>\n",
       "      <td>South Korea</td>\n",
       "      <td>84.9</td>\n",
       "      <td>45.65</td>\n",
       "      <td>40.5</td>\n",
       "      <td>56.4</td>\n",
       "      <td>33.8</td>\n",
       "    </tr>\n",
       "    <tr>\n",
       "      <th>274</th>\n",
       "      <td>5</td>\n",
       "      <td>University of Liège</td>\n",
       "      <td>Belgium</td>\n",
       "      <td>95.9</td>\n",
       "      <td>45.65</td>\n",
       "      <td>38.2</td>\n",
       "      <td>60.5</td>\n",
       "      <td>27.6</td>\n",
       "    </tr>\n",
       "    <tr>\n",
       "      <th>292</th>\n",
       "      <td>5</td>\n",
       "      <td>Swedish University of Agricultural Sciences</td>\n",
       "      <td>Sweden</td>\n",
       "      <td>94.8</td>\n",
       "      <td>45.65</td>\n",
       "      <td>29.5</td>\n",
       "      <td>73.5</td>\n",
       "      <td>31.1</td>\n",
       "    </tr>\n",
       "    <tr>\n",
       "      <th>320</th>\n",
       "      <td>5</td>\n",
       "      <td>Hanyang University</td>\n",
       "      <td>South Korea</td>\n",
       "      <td>92.3</td>\n",
       "      <td>43.40</td>\n",
       "      <td>40.0</td>\n",
       "      <td>40.1</td>\n",
       "      <td>39.1</td>\n",
       "    </tr>\n",
       "    <tr>\n",
       "      <th>324</th>\n",
       "      <td>5</td>\n",
       "      <td>IMT Atlantique</td>\n",
       "      <td>France</td>\n",
       "      <td>91.6</td>\n",
       "      <td>43.40</td>\n",
       "      <td>28.5</td>\n",
       "      <td>53.1</td>\n",
       "      <td>34.4</td>\n",
       "    </tr>\n",
       "    <tr>\n",
       "      <th>329</th>\n",
       "      <td>5</td>\n",
       "      <td>Khalifa University</td>\n",
       "      <td>United Arab Emirates</td>\n",
       "      <td>100.0</td>\n",
       "      <td>43.40</td>\n",
       "      <td>32.9</td>\n",
       "      <td>54.0</td>\n",
       "      <td>27.7</td>\n",
       "    </tr>\n",
       "    <tr>\n",
       "      <th>346</th>\n",
       "      <td>5</td>\n",
       "      <td>Taipei Medical University</td>\n",
       "      <td>Taiwan</td>\n",
       "      <td>94.9</td>\n",
       "      <td>43.40</td>\n",
       "      <td>31.8</td>\n",
       "      <td>67.9</td>\n",
       "      <td>28.7</td>\n",
       "    </tr>\n",
       "    <tr>\n",
       "      <th>352</th>\n",
       "      <td>5</td>\n",
       "      <td>Wuhan University</td>\n",
       "      <td>China</td>\n",
       "      <td>84.7</td>\n",
       "      <td>43.40</td>\n",
       "      <td>34.0</td>\n",
       "      <td>52.5</td>\n",
       "      <td>44.0</td>\n",
       "    </tr>\n",
       "    <tr>\n",
       "      <th>363</th>\n",
       "      <td>4</td>\n",
       "      <td>Centrale Nantes</td>\n",
       "      <td>France</td>\n",
       "      <td>83.2</td>\n",
       "      <td>40.55</td>\n",
       "      <td>29.6</td>\n",
       "      <td>48.6</td>\n",
       "      <td>30.4</td>\n",
       "    </tr>\n",
       "    <tr>\n",
       "      <th>364</th>\n",
       "      <td>4</td>\n",
       "      <td>Central South University</td>\n",
       "      <td>China</td>\n",
       "      <td>84.1</td>\n",
       "      <td>40.55</td>\n",
       "      <td>33.9</td>\n",
       "      <td>56.0</td>\n",
       "      <td>32.0</td>\n",
       "    </tr>\n",
       "    <tr>\n",
       "      <th>384</th>\n",
       "      <td>4</td>\n",
       "      <td>Harbin Institute of Technology</td>\n",
       "      <td>China</td>\n",
       "      <td>99.3</td>\n",
       "      <td>40.55</td>\n",
       "      <td>36.8</td>\n",
       "      <td>44.0</td>\n",
       "      <td>39.5</td>\n",
       "    </tr>\n",
       "    <tr>\n",
       "      <th>389</th>\n",
       "      <td>4</td>\n",
       "      <td>Indian Institute of Technology Bombay</td>\n",
       "      <td>India</td>\n",
       "      <td>80.3</td>\n",
       "      <td>40.55</td>\n",
       "      <td>39.6</td>\n",
       "      <td>34.9</td>\n",
       "      <td>44.7</td>\n",
       "    </tr>\n",
       "    <tr>\n",
       "      <th>391</th>\n",
       "      <td>4</td>\n",
       "      <td>Indian Institute of Technology Kharagpur</td>\n",
       "      <td>India</td>\n",
       "      <td>91.9</td>\n",
       "      <td>40.55</td>\n",
       "      <td>38.9</td>\n",
       "      <td>39.0</td>\n",
       "      <td>41.3</td>\n",
       "    </tr>\n",
       "    <tr>\n",
       "      <th>393</th>\n",
       "      <td>4</td>\n",
       "      <td>ITMO University</td>\n",
       "      <td>Russian Federation</td>\n",
       "      <td>84.6</td>\n",
       "      <td>40.55</td>\n",
       "      <td>28.0</td>\n",
       "      <td>49.8</td>\n",
       "      <td>30.6</td>\n",
       "    </tr>\n",
       "    <tr>\n",
       "      <th>406</th>\n",
       "      <td>4</td>\n",
       "      <td>National Research Nuclear University MEPhI</td>\n",
       "      <td>Russian Federation</td>\n",
       "      <td>100.0</td>\n",
       "      <td>40.55</td>\n",
       "      <td>36.1</td>\n",
       "      <td>33.6</td>\n",
       "      <td>37.5</td>\n",
       "    </tr>\n",
       "    <tr>\n",
       "      <th>435</th>\n",
       "      <td>4</td>\n",
       "      <td>Tongji University</td>\n",
       "      <td>China</td>\n",
       "      <td>98.2</td>\n",
       "      <td>40.55</td>\n",
       "      <td>43.6</td>\n",
       "      <td>34.6</td>\n",
       "      <td>35.5</td>\n",
       "    </tr>\n",
       "    <tr>\n",
       "      <th>451</th>\n",
       "      <td>4</td>\n",
       "      <td>Beihang University</td>\n",
       "      <td>China</td>\n",
       "      <td>98.2</td>\n",
       "      <td>37.00</td>\n",
       "      <td>34.2</td>\n",
       "      <td>38.1</td>\n",
       "      <td>30.4</td>\n",
       "    </tr>\n",
       "    <tr>\n",
       "      <th>462</th>\n",
       "      <td>4</td>\n",
       "      <td>China Medical University, Taiwan</td>\n",
       "      <td>Taiwan</td>\n",
       "      <td>87.7</td>\n",
       "      <td>37.00</td>\n",
       "      <td>32.4</td>\n",
       "      <td>45.9</td>\n",
       "      <td>25.8</td>\n",
       "    </tr>\n",
       "    <tr>\n",
       "      <th>485</th>\n",
       "      <td>4</td>\n",
       "      <td>King Saud University</td>\n",
       "      <td>Saudi Arabia</td>\n",
       "      <td>83.4</td>\n",
       "      <td>37.00</td>\n",
       "      <td>25.8</td>\n",
       "      <td>49.6</td>\n",
       "      <td>24.6</td>\n",
       "    </tr>\n",
       "    <tr>\n",
       "      <th>499</th>\n",
       "      <td>4</td>\n",
       "      <td>National Chiao Tung University</td>\n",
       "      <td>Taiwan</td>\n",
       "      <td>87.0</td>\n",
       "      <td>37.00</td>\n",
       "      <td>43.3</td>\n",
       "      <td>25.6</td>\n",
       "      <td>35.8</td>\n",
       "    </tr>\n",
       "    <tr>\n",
       "      <th>518</th>\n",
       "      <td>4</td>\n",
       "      <td>Sharif University of Technology</td>\n",
       "      <td>Iran</td>\n",
       "      <td>99.8</td>\n",
       "      <td>37.00</td>\n",
       "      <td>36.7</td>\n",
       "      <td>41.0</td>\n",
       "      <td>28.9</td>\n",
       "    </tr>\n",
       "    <tr>\n",
       "      <th>521</th>\n",
       "      <td>4</td>\n",
       "      <td>South China University of Technology</td>\n",
       "      <td>China</td>\n",
       "      <td>85.4</td>\n",
       "      <td>37.00</td>\n",
       "      <td>29.1</td>\n",
       "      <td>61.2</td>\n",
       "      <td>24.0</td>\n",
       "    </tr>\n",
       "    <tr>\n",
       "      <th>522</th>\n",
       "      <td>4</td>\n",
       "      <td>Southeast University</td>\n",
       "      <td>China</td>\n",
       "      <td>97.3</td>\n",
       "      <td>37.00</td>\n",
       "      <td>33.4</td>\n",
       "      <td>42.7</td>\n",
       "      <td>29.6</td>\n",
       "    </tr>\n",
       "    <tr>\n",
       "      <th>525</th>\n",
       "      <td>4</td>\n",
       "      <td>Tianjin University</td>\n",
       "      <td>China</td>\n",
       "      <td>97.9</td>\n",
       "      <td>37.00</td>\n",
       "      <td>35.7</td>\n",
       "      <td>38.8</td>\n",
       "      <td>32.7</td>\n",
       "    </tr>\n",
       "    <tr>\n",
       "      <th>540</th>\n",
       "      <td>3</td>\n",
       "      <td>Amrita Vishwa Vidyapeetham</td>\n",
       "      <td>India</td>\n",
       "      <td>82.5</td>\n",
       "      <td>31.75</td>\n",
       "      <td>17.0</td>\n",
       "      <td>47.7</td>\n",
       "      <td>26.1</td>\n",
       "    </tr>\n",
       "    <tr>\n",
       "      <th>550</th>\n",
       "      <td>3</td>\n",
       "      <td>Beijing Institute of Technology</td>\n",
       "      <td>China</td>\n",
       "      <td>98.1</td>\n",
       "      <td>31.75</td>\n",
       "      <td>32.1</td>\n",
       "      <td>32.7</td>\n",
       "      <td>30.6</td>\n",
       "    </tr>\n",
       "    <tr>\n",
       "      <th>555</th>\n",
       "      <td>3</td>\n",
       "      <td>University of Calabria</td>\n",
       "      <td>Italy</td>\n",
       "      <td>87.9</td>\n",
       "      <td>31.75</td>\n",
       "      <td>17.5</td>\n",
       "      <td>59.8</td>\n",
       "      <td>17.6</td>\n",
       "    </tr>\n",
       "    <tr>\n",
       "      <th>559</th>\n",
       "      <td>3</td>\n",
       "      <td>China University of Petroleum, Beijing</td>\n",
       "      <td>China</td>\n",
       "      <td>88.0</td>\n",
       "      <td>31.75</td>\n",
       "      <td>26.1</td>\n",
       "      <td>39.2</td>\n",
       "      <td>24.0</td>\n",
       "    </tr>\n",
       "    <tr>\n",
       "      <th>596</th>\n",
       "      <td>3</td>\n",
       "      <td>Indian Institute of Technology Kanpur</td>\n",
       "      <td>India</td>\n",
       "      <td>94.3</td>\n",
       "      <td>31.75</td>\n",
       "      <td>24.5</td>\n",
       "      <td>35.2</td>\n",
       "      <td>37.8</td>\n",
       "    </tr>\n",
       "    <tr>\n",
       "      <th>598</th>\n",
       "      <td>3</td>\n",
       "      <td>University of Indonesia</td>\n",
       "      <td>Indonesia</td>\n",
       "      <td>81.6</td>\n",
       "      <td>31.75</td>\n",
       "      <td>19.2</td>\n",
       "      <td>16.7</td>\n",
       "      <td>38.7</td>\n",
       "    </tr>\n",
       "    <tr>\n",
       "      <th>601</th>\n",
       "      <td>3</td>\n",
       "      <td>Iran University of Science and Technology</td>\n",
       "      <td>Iran</td>\n",
       "      <td>96.3</td>\n",
       "      <td>31.75</td>\n",
       "      <td>33.0</td>\n",
       "      <td>42.6</td>\n",
       "      <td>27.8</td>\n",
       "    </tr>\n",
       "    <tr>\n",
       "      <th>603</th>\n",
       "      <td>3</td>\n",
       "      <td>Isfahan University of Technology</td>\n",
       "      <td>Iran</td>\n",
       "      <td>85.5</td>\n",
       "      <td>31.75</td>\n",
       "      <td>23.4</td>\n",
       "      <td>41.7</td>\n",
       "      <td>25.4</td>\n",
       "    </tr>\n",
       "    <tr>\n",
       "      <th>604</th>\n",
       "      <td>3</td>\n",
       "      <td>Istanbul Technical University</td>\n",
       "      <td>Turkey</td>\n",
       "      <td>100.0</td>\n",
       "      <td>31.75</td>\n",
       "      <td>28.0</td>\n",
       "      <td>30.2</td>\n",
       "      <td>25.2</td>\n",
       "    </tr>\n",
       "    <tr>\n",
       "      <th>648</th>\n",
       "      <td>3</td>\n",
       "      <td>National Cheng Kung University (NCKU)</td>\n",
       "      <td>Taiwan</td>\n",
       "      <td>99.8</td>\n",
       "      <td>31.75</td>\n",
       "      <td>41.1</td>\n",
       "      <td>22.9</td>\n",
       "      <td>32.8</td>\n",
       "    </tr>\n",
       "    <tr>\n",
       "      <th>649</th>\n",
       "      <td>3</td>\n",
       "      <td>National Institute of Applied Sciences of Lyon...</td>\n",
       "      <td>France</td>\n",
       "      <td>91.3</td>\n",
       "      <td>31.75</td>\n",
       "      <td>25.5</td>\n",
       "      <td>33.7</td>\n",
       "      <td>29.8</td>\n",
       "    </tr>\n",
       "    <tr>\n",
       "      <th>650</th>\n",
       "      <td>3</td>\n",
       "      <td>National University of Science and Technology ...</td>\n",
       "      <td>Russian Federation</td>\n",
       "      <td>84.2</td>\n",
       "      <td>31.75</td>\n",
       "      <td>23.7</td>\n",
       "      <td>29.1</td>\n",
       "      <td>24.3</td>\n",
       "    </tr>\n",
       "    <tr>\n",
       "      <th>657</th>\n",
       "      <td>3</td>\n",
       "      <td>Northwestern Polytechnical University</td>\n",
       "      <td>China</td>\n",
       "      <td>83.3</td>\n",
       "      <td>31.75</td>\n",
       "      <td>33.6</td>\n",
       "      <td>40.2</td>\n",
       "      <td>26.2</td>\n",
       "    </tr>\n",
       "    <tr>\n",
       "      <th>670</th>\n",
       "      <td>3</td>\n",
       "      <td>Pontifical Catholic University of Rio de Janei...</td>\n",
       "      <td>Brazil</td>\n",
       "      <td>99.5</td>\n",
       "      <td>31.75</td>\n",
       "      <td>25.6</td>\n",
       "      <td>27.9</td>\n",
       "      <td>27.4</td>\n",
       "    </tr>\n",
       "    <tr>\n",
       "      <th>734</th>\n",
       "      <td>2</td>\n",
       "      <td>Asia University, Taiwan</td>\n",
       "      <td>Taiwan</td>\n",
       "      <td>100.0</td>\n",
       "      <td>25.20</td>\n",
       "      <td>33.7</td>\n",
       "      <td>23.0</td>\n",
       "      <td>17.3</td>\n",
       "    </tr>\n",
       "    <tr>\n",
       "      <th>751</th>\n",
       "      <td>2</td>\n",
       "      <td>Chang Gung University</td>\n",
       "      <td>Taiwan</td>\n",
       "      <td>84.9</td>\n",
       "      <td>25.20</td>\n",
       "      <td>26.3</td>\n",
       "      <td>29.8</td>\n",
       "      <td>23.3</td>\n",
       "    </tr>\n",
       "    <tr>\n",
       "      <th>835</th>\n",
       "      <td>2</td>\n",
       "      <td>National Taipei University of Technology</td>\n",
       "      <td>Taiwan</td>\n",
       "      <td>86.7</td>\n",
       "      <td>25.20</td>\n",
       "      <td>20.2</td>\n",
       "      <td>22.4</td>\n",
       "      <td>21.8</td>\n",
       "    </tr>\n",
       "    <tr>\n",
       "      <th>838</th>\n",
       "      <td>2</td>\n",
       "      <td>Northeastern University</td>\n",
       "      <td>China</td>\n",
       "      <td>96.9</td>\n",
       "      <td>25.20</td>\n",
       "      <td>22.1</td>\n",
       "      <td>19.3</td>\n",
       "      <td>24.8</td>\n",
       "    </tr>\n",
       "    <tr>\n",
       "      <th>888</th>\n",
       "      <td>2</td>\n",
       "      <td>Universiti Tenaga Nasional (UNITEN)</td>\n",
       "      <td>Malaysia</td>\n",
       "      <td>91.5</td>\n",
       "      <td>25.20</td>\n",
       "      <td>13.8</td>\n",
       "      <td>33.9</td>\n",
       "      <td>17.9</td>\n",
       "    </tr>\n",
       "    <tr>\n",
       "      <th>931</th>\n",
       "      <td>1</td>\n",
       "      <td>Bandung Institute of Technology (ITB)</td>\n",
       "      <td>Indonesia</td>\n",
       "      <td>89.9</td>\n",
       "      <td>16.40</td>\n",
       "      <td>16.7</td>\n",
       "      <td>16.3</td>\n",
       "      <td>22.0</td>\n",
       "    </tr>\n",
       "    <tr>\n",
       "      <th>967</th>\n",
       "      <td>1</td>\n",
       "      <td>Cukurova University</td>\n",
       "      <td>Turkey</td>\n",
       "      <td>87.5</td>\n",
       "      <td>16.40</td>\n",
       "      <td>12.5</td>\n",
       "      <td>15.6</td>\n",
       "      <td>15.2</td>\n",
       "    </tr>\n",
       "    <tr>\n",
       "      <th>981</th>\n",
       "      <td>1</td>\n",
       "      <td>Erciyes University</td>\n",
       "      <td>Turkey</td>\n",
       "      <td>84.4</td>\n",
       "      <td>16.40</td>\n",
       "      <td>16.3</td>\n",
       "      <td>20.6</td>\n",
       "      <td>19.7</td>\n",
       "    </tr>\n",
       "    <tr>\n",
       "      <th>1047</th>\n",
       "      <td>1</td>\n",
       "      <td>King Mongkut’s Institute of Technology Ladkrabang</td>\n",
       "      <td>Thailand</td>\n",
       "      <td>82.0</td>\n",
       "      <td>16.40</td>\n",
       "      <td>19.5</td>\n",
       "      <td>6.7</td>\n",
       "      <td>17.8</td>\n",
       "    </tr>\n",
       "    <tr>\n",
       "      <th>1107</th>\n",
       "      <td>1</td>\n",
       "      <td>National Yunlin University of Science and Tech...</td>\n",
       "      <td>Taiwan</td>\n",
       "      <td>89.9</td>\n",
       "      <td>16.40</td>\n",
       "      <td>26.4</td>\n",
       "      <td>7.3</td>\n",
       "      <td>17.2</td>\n",
       "    </tr>\n",
       "    <tr>\n",
       "      <th>1189</th>\n",
       "      <td>1</td>\n",
       "      <td>Southwest Jiaotong University</td>\n",
       "      <td>China</td>\n",
       "      <td>81.0</td>\n",
       "      <td>16.40</td>\n",
       "      <td>16.6</td>\n",
       "      <td>20.8</td>\n",
       "      <td>17.9</td>\n",
       "    </tr>\n",
       "  </tbody>\n",
       "</table>\n",
       "</div>"
      ],
      "text/plain": [
       "      Rank                                         University  \\\n",
       "1        6                 California Institute of Technology   \n",
       "4        6              Massachusetts Institute of Technology   \n",
       "11       6                           Johns Hopkins University   \n",
       "18       6                                    Duke University   \n",
       "21       6                                Tsinghua University   \n",
       "22       6                                  Peking University   \n",
       "29       6                University of California, San Diego   \n",
       "30       6                                         LMU Munich   \n",
       "53       6            University of California, Santa Barbara   \n",
       "55       6                   Wageningen University & Research   \n",
       "60       6                          Seoul National University   \n",
       "62       6                     Delft University of Technology   \n",
       "66       6                                McMaster University   \n",
       "72       6               Charité - Universitätsmedizin Berlin   \n",
       "80       6                     Sungkyunkwan University (SKKU)   \n",
       "84       6                                University of Basel   \n",
       "88       6                                    Lund University   \n",
       "96       6                                Zhejiang University   \n",
       "98       6  Korea Advanced Institute of Science and Techno...   \n",
       "101      6                                 University of Bern   \n",
       "113      6                              Maastricht University   \n",
       "120      6                            University of Cape Town   \n",
       "128      6                                 Nanjing University   \n",
       "130      6  Pohang University of Science and Technology (P...   \n",
       "132      6        Sant’Anna School of Advanced Studies – Pisa   \n",
       "139      6                      Shanghai Jiao Tong University   \n",
       "140      6                                         TU Dresden   \n",
       "151      6                  Karlsruhe Institute of Technology   \n",
       "155      6                                   Korea University   \n",
       "158      6                 Eindhoven University of Technology   \n",
       "161      6                  Lomonosov Moscow State University   \n",
       "164      6                    University of the Witwatersrand   \n",
       "165      6                   Yonsei University (Seoul campus)   \n",
       "191      5  Moscow Institute of Physics and Technology (MIPT)   \n",
       "200      5                University of South Florida (Tampa)   \n",
       "202      5                               University of Twente   \n",
       "203      5  Ulsan National Institute of Science and Techno...   \n",
       "208      5                         Vrije Universiteit Brussel   \n",
       "225      5                             University of Delaware   \n",
       "240      5                              University of Navarra   \n",
       "247      5                      University of South Australia   \n",
       "255      5                                  Tohoku University   \n",
       "267      5      Huazhong University of Science and Technology   \n",
       "273      5                               Kyung Hee University   \n",
       "274      5                                University of Liège   \n",
       "292      5        Swedish University of Agricultural Sciences   \n",
       "320      5                                 Hanyang University   \n",
       "324      5                                     IMT Atlantique   \n",
       "329      5                                 Khalifa University   \n",
       "346      5                          Taipei Medical University   \n",
       "352      5                                   Wuhan University   \n",
       "363      4                                    Centrale Nantes   \n",
       "364      4                           Central South University   \n",
       "384      4                     Harbin Institute of Technology   \n",
       "389      4              Indian Institute of Technology Bombay   \n",
       "391      4           Indian Institute of Technology Kharagpur   \n",
       "393      4                                    ITMO University   \n",
       "406      4         National Research Nuclear University MEPhI   \n",
       "435      4                                  Tongji University   \n",
       "451      4                                 Beihang University   \n",
       "462      4                   China Medical University, Taiwan   \n",
       "485      4                               King Saud University   \n",
       "499      4                     National Chiao Tung University   \n",
       "518      4                    Sharif University of Technology   \n",
       "521      4               South China University of Technology   \n",
       "522      4                               Southeast University   \n",
       "525      4                                 Tianjin University   \n",
       "540      3                         Amrita Vishwa Vidyapeetham   \n",
       "550      3                    Beijing Institute of Technology   \n",
       "555      3                             University of Calabria   \n",
       "559      3             China University of Petroleum, Beijing   \n",
       "596      3              Indian Institute of Technology Kanpur   \n",
       "598      3                            University of Indonesia   \n",
       "601      3          Iran University of Science and Technology   \n",
       "603      3                   Isfahan University of Technology   \n",
       "604      3                      Istanbul Technical University   \n",
       "648      3              National Cheng Kung University (NCKU)   \n",
       "649      3  National Institute of Applied Sciences of Lyon...   \n",
       "650      3  National University of Science and Technology ...   \n",
       "657      3              Northwestern Polytechnical University   \n",
       "670      3  Pontifical Catholic University of Rio de Janei...   \n",
       "734      2                            Asia University, Taiwan   \n",
       "751      2                              Chang Gung University   \n",
       "835      2           National Taipei University of Technology   \n",
       "838      2                            Northeastern University   \n",
       "888      2                Universiti Tenaga Nasional (UNITEN)   \n",
       "931      1              Bandung Institute of Technology (ITB)   \n",
       "967      1                                Cukurova University   \n",
       "981      1                                 Erciyes University   \n",
       "1047     1  King Mongkut’s Institute of Technology Ladkrabang   \n",
       "1107     1  National Yunlin University of Science and Tech...   \n",
       "1189     1                      Southwest Jiaotong University   \n",
       "\n",
       "                   Country  Industry_income  Overall  Research  Citations  \\\n",
       "1            United States             88.0    94.50      97.2       97.9   \n",
       "4            United States             86.9    93.60      92.4       99.5   \n",
       "11           United States             91.3    89.20      91.4       98.3   \n",
       "18           United States             99.9    84.00      76.8       97.0   \n",
       "21                   China            100.0    82.60      94.0       74.6   \n",
       "22                   China             86.6    82.30      90.0       73.2   \n",
       "29           United States             90.3    78.80      78.9       97.7   \n",
       "30                 Germany            100.0    77.80      77.0       88.8   \n",
       "53           United States             84.5    69.60      63.6       96.4   \n",
       "55             Netherlands            100.0    69.40      57.1       96.1   \n",
       "60             South Korea             86.6    68.00      71.6       66.5   \n",
       "62             Netherlands             99.4    66.70      72.3       63.2   \n",
       "66                  Canada             94.0    65.40      50.1       94.8   \n",
       "72                 Germany             92.7    64.00      47.3       94.9   \n",
       "80             South Korea             97.3    63.00      61.2       70.3   \n",
       "84             Switzerland             99.4    62.40      41.2       91.4   \n",
       "88                  Sweden             81.0    62.30      54.3       86.3   \n",
       "96                   China            100.0    61.50      64.7       50.6   \n",
       "98             South Korea             99.9    61.30      66.4       58.1   \n",
       "101            Switzerland             85.0    60.40      41.2       86.6   \n",
       "113            Netherlands             82.9    59.00      48.3       77.0   \n",
       "120           South Africa             85.3    58.20      42.8       90.3   \n",
       "128                  China             84.9    57.60      48.0       71.8   \n",
       "130            South Korea             99.6    57.40      50.9       72.2   \n",
       "132                  Italy             84.7    57.30      42.3       82.5   \n",
       "139                  China             99.9    56.90      63.0       47.9   \n",
       "140                Germany             94.1    56.90      48.5       73.0   \n",
       "151                Germany             91.3    55.40      47.8       66.5   \n",
       "155            South Korea             93.9    55.20      50.2       64.5   \n",
       "158            Netherlands             99.8    54.70      48.8       61.0   \n",
       "161     Russian Federation             90.7    54.30      63.0       15.6   \n",
       "164           South Africa            100.0    54.00      43.2       78.8   \n",
       "165            South Korea             98.9    53.90      52.6       53.0   \n",
       "191     Russian Federation             99.9    51.90      45.6       47.2   \n",
       "200          United States             89.0    51.90      34.2       87.3   \n",
       "202            Netherlands             85.0    51.90      46.8       55.6   \n",
       "203            South Korea             80.5    51.90      38.6       91.3   \n",
       "208                Belgium             87.0    51.90      42.3       62.7   \n",
       "225          United States             90.6    48.45      38.2       71.5   \n",
       "240                  Spain             85.5    48.45      27.9       80.3   \n",
       "247              Australia             82.5    48.45      39.4       65.8   \n",
       "255                  Japan             86.4    48.45      54.4       39.8   \n",
       "267                  China             90.4    45.65      39.1       59.8   \n",
       "273            South Korea             84.9    45.65      40.5       56.4   \n",
       "274                Belgium             95.9    45.65      38.2       60.5   \n",
       "292                 Sweden             94.8    45.65      29.5       73.5   \n",
       "320            South Korea             92.3    43.40      40.0       40.1   \n",
       "324                 France             91.6    43.40      28.5       53.1   \n",
       "329   United Arab Emirates            100.0    43.40      32.9       54.0   \n",
       "346                 Taiwan             94.9    43.40      31.8       67.9   \n",
       "352                  China             84.7    43.40      34.0       52.5   \n",
       "363                 France             83.2    40.55      29.6       48.6   \n",
       "364                  China             84.1    40.55      33.9       56.0   \n",
       "384                  China             99.3    40.55      36.8       44.0   \n",
       "389                  India             80.3    40.55      39.6       34.9   \n",
       "391                  India             91.9    40.55      38.9       39.0   \n",
       "393     Russian Federation             84.6    40.55      28.0       49.8   \n",
       "406     Russian Federation            100.0    40.55      36.1       33.6   \n",
       "435                  China             98.2    40.55      43.6       34.6   \n",
       "451                  China             98.2    37.00      34.2       38.1   \n",
       "462                 Taiwan             87.7    37.00      32.4       45.9   \n",
       "485           Saudi Arabia             83.4    37.00      25.8       49.6   \n",
       "499                 Taiwan             87.0    37.00      43.3       25.6   \n",
       "518                   Iran             99.8    37.00      36.7       41.0   \n",
       "521                  China             85.4    37.00      29.1       61.2   \n",
       "522                  China             97.3    37.00      33.4       42.7   \n",
       "525                  China             97.9    37.00      35.7       38.8   \n",
       "540                  India             82.5    31.75      17.0       47.7   \n",
       "550                  China             98.1    31.75      32.1       32.7   \n",
       "555                  Italy             87.9    31.75      17.5       59.8   \n",
       "559                  China             88.0    31.75      26.1       39.2   \n",
       "596                  India             94.3    31.75      24.5       35.2   \n",
       "598              Indonesia             81.6    31.75      19.2       16.7   \n",
       "601                   Iran             96.3    31.75      33.0       42.6   \n",
       "603                   Iran             85.5    31.75      23.4       41.7   \n",
       "604                 Turkey            100.0    31.75      28.0       30.2   \n",
       "648                 Taiwan             99.8    31.75      41.1       22.9   \n",
       "649                 France             91.3    31.75      25.5       33.7   \n",
       "650     Russian Federation             84.2    31.75      23.7       29.1   \n",
       "657                  China             83.3    31.75      33.6       40.2   \n",
       "670                 Brazil             99.5    31.75      25.6       27.9   \n",
       "734                 Taiwan            100.0    25.20      33.7       23.0   \n",
       "751                 Taiwan             84.9    25.20      26.3       29.8   \n",
       "835                 Taiwan             86.7    25.20      20.2       22.4   \n",
       "838                  China             96.9    25.20      22.1       19.3   \n",
       "888               Malaysia             91.5    25.20      13.8       33.9   \n",
       "931              Indonesia             89.9    16.40      16.7       16.3   \n",
       "967                 Turkey             87.5    16.40      12.5       15.6   \n",
       "981                 Turkey             84.4    16.40      16.3       20.6   \n",
       "1047              Thailand             82.0    16.40      19.5        6.7   \n",
       "1107                Taiwan             89.9    16.40      26.4        7.3   \n",
       "1189                 China             81.0    16.40      16.6       20.8   \n",
       "\n",
       "      Teaching  \n",
       "1         92.1  \n",
       "4         90.5  \n",
       "11        81.7  \n",
       "18        82.4  \n",
       "21        86.6  \n",
       "22        89.1  \n",
       "29        62.6  \n",
       "30        68.4  \n",
       "53        47.9  \n",
       "55        49.3  \n",
       "60        72.3  \n",
       "62        55.3  \n",
       "66        44.5  \n",
       "72        47.6  \n",
       "80        57.6  \n",
       "84        43.0  \n",
       "88        40.7  \n",
       "96        66.0  \n",
       "98        62.6  \n",
       "101       44.5  \n",
       "113       40.2  \n",
       "120       33.2  \n",
       "128       50.7  \n",
       "130       51.7  \n",
       "132       45.0  \n",
       "139       58.0  \n",
       "140       46.5  \n",
       "151       45.4  \n",
       "155       48.4  \n",
       "158       44.6  \n",
       "161       78.2  \n",
       "164       31.2  \n",
       "165       51.2  \n",
       "191       53.3  \n",
       "200       30.5  \n",
       "202       35.2  \n",
       "203       27.8  \n",
       "208       37.4  \n",
       "225       28.5  \n",
       "240       30.4  \n",
       "247       31.5  \n",
       "255       52.7  \n",
       "267       41.0  \n",
       "273       33.8  \n",
       "274       27.6  \n",
       "292       31.1  \n",
       "320       39.1  \n",
       "324       34.4  \n",
       "329       27.7  \n",
       "346       28.7  \n",
       "352       44.0  \n",
       "363       30.4  \n",
       "364       32.0  \n",
       "384       39.5  \n",
       "389       44.7  \n",
       "391       41.3  \n",
       "393       30.6  \n",
       "406       37.5  \n",
       "435       35.5  \n",
       "451       30.4  \n",
       "462       25.8  \n",
       "485       24.6  \n",
       "499       35.8  \n",
       "518       28.9  \n",
       "521       24.0  \n",
       "522       29.6  \n",
       "525       32.7  \n",
       "540       26.1  \n",
       "550       30.6  \n",
       "555       17.6  \n",
       "559       24.0  \n",
       "596       37.8  \n",
       "598       38.7  \n",
       "601       27.8  \n",
       "603       25.4  \n",
       "604       25.2  \n",
       "648       32.8  \n",
       "649       29.8  \n",
       "650       24.3  \n",
       "657       26.2  \n",
       "670       27.4  \n",
       "734       17.3  \n",
       "751       23.3  \n",
       "835       21.8  \n",
       "838       24.8  \n",
       "888       17.9  \n",
       "931       22.0  \n",
       "967       15.2  \n",
       "981       19.7  \n",
       "1047      17.8  \n",
       "1107      17.2  \n",
       "1189      17.9  "
      ]
     },
     "execution_count": 50,
     "metadata": {},
     "output_type": "execute_result"
    }
   ],
   "source": [
    "High_industry_income_uni"
   ]
  },
  {
   "cell_type": "markdown",
   "metadata": {},
   "source": [
    "<br>"
   ]
  },
  {
   "cell_type": "markdown",
   "metadata": {},
   "source": [
    "When i scan  the table, i can see the majority are those universities in Technology related field."
   ]
  },
  {
   "cell_type": "markdown",
   "metadata": {},
   "source": [
    "<br>"
   ]
  },
  {
   "cell_type": "markdown",
   "metadata": {},
   "source": [
    "##### Which countries have the highest average industry income?"
   ]
  },
  {
   "cell_type": "code",
   "execution_count": 51,
   "metadata": {},
   "outputs": [
    {
     "data": {
      "text/html": [
       "<div>\n",
       "<style scoped>\n",
       "    .dataframe tbody tr th:only-of-type {\n",
       "        vertical-align: middle;\n",
       "    }\n",
       "\n",
       "    .dataframe tbody tr th {\n",
       "        vertical-align: top;\n",
       "    }\n",
       "\n",
       "    .dataframe thead th {\n",
       "        text-align: right;\n",
       "    }\n",
       "</style>\n",
       "<table border=\"1\" class=\"dataframe\">\n",
       "  <thead>\n",
       "    <tr style=\"text-align: right;\">\n",
       "      <th></th>\n",
       "      <th>mean</th>\n",
       "      <th>count</th>\n",
       "    </tr>\n",
       "    <tr>\n",
       "      <th>Country</th>\n",
       "      <th></th>\n",
       "      <th></th>\n",
       "    </tr>\n",
       "  </thead>\n",
       "  <tbody>\n",
       "    <tr>\n",
       "      <th>China</th>\n",
       "      <td>92.326316</td>\n",
       "      <td>19</td>\n",
       "    </tr>\n",
       "    <tr>\n",
       "      <th>South Korea</th>\n",
       "      <td>92.655556</td>\n",
       "      <td>9</td>\n",
       "    </tr>\n",
       "    <tr>\n",
       "      <th>Taiwan</th>\n",
       "      <td>91.362500</td>\n",
       "      <td>8</td>\n",
       "    </tr>\n",
       "    <tr>\n",
       "      <th>United States</th>\n",
       "      <td>90.062500</td>\n",
       "      <td>8</td>\n",
       "    </tr>\n",
       "    <tr>\n",
       "      <th>Netherlands</th>\n",
       "      <td>93.420000</td>\n",
       "      <td>5</td>\n",
       "    </tr>\n",
       "  </tbody>\n",
       "</table>\n",
       "</div>"
      ],
      "text/plain": [
       "                    mean  count\n",
       "Country                        \n",
       "China          92.326316     19\n",
       "South Korea    92.655556      9\n",
       "Taiwan         91.362500      8\n",
       "United States  90.062500      8\n",
       "Netherlands    93.420000      5"
      ]
     },
     "execution_count": 51,
     "metadata": {},
     "output_type": "execute_result"
    }
   ],
   "source": [
    "High_industry_income_uni_by_country= High_industry_income_uni.groupby('Country')['Industry_income'].agg(['mean','count']).sort_values(by=['count','mean'], ascending=False)\n",
    "High_industry_income_uni_by_country.head(5)"
   ]
  },
  {
   "cell_type": "code",
   "execution_count": 52,
   "metadata": {},
   "outputs": [
    {
     "data": {
      "image/png": "[encoded data removed]",
      "text/plain": [
       "<Figure size 432x288 with 1 Axes>"
      ]
     },
     "metadata": {
      "needs_background": "light"
     },
     "output_type": "display_data"
    }
   ],
   "source": [
    "sns.barplot(y=High_industry_income_uni_by_country.head(5)['mean'],\n",
    "           x = High_industry_income_uni_by_country.head(5).index)\n",
    "plt.ylabel('Number of universities')\n",
    "plt.title('Industry income average among countries')\n",
    "plt.show()"
   ]
  },
  {
   "cell_type": "markdown",
   "metadata": {},
   "source": [
    "<br>"
   ]
  },
  {
   "cell_type": "markdown",
   "metadata": {},
   "source": [
    "##### Is there a noticeable relationship between industry income and other scores?"
   ]
  },
  {
   "cell_type": "code",
   "execution_count": 53,
   "metadata": {},
   "outputs": [
    {
     "data": {
      "text/html": [
       "<div>\n",
       "<style scoped>\n",
       "    .dataframe tbody tr th:only-of-type {\n",
       "        vertical-align: middle;\n",
       "    }\n",
       "\n",
       "    .dataframe tbody tr th {\n",
       "        vertical-align: top;\n",
       "    }\n",
       "\n",
       "    .dataframe thead th {\n",
       "        text-align: right;\n",
       "    }\n",
       "</style>\n",
       "<table border=\"1\" class=\"dataframe\">\n",
       "  <thead>\n",
       "    <tr style=\"text-align: right;\">\n",
       "      <th></th>\n",
       "      <th>Rank</th>\n",
       "      <th>Industry_income</th>\n",
       "      <th>Overall</th>\n",
       "      <th>Research</th>\n",
       "      <th>Citations</th>\n",
       "      <th>Teaching</th>\n",
       "    </tr>\n",
       "  </thead>\n",
       "  <tbody>\n",
       "    <tr>\n",
       "      <th>Rank</th>\n",
       "      <td>1.000000</td>\n",
       "      <td>0.202021</td>\n",
       "      <td>0.888443</td>\n",
       "      <td>0.754224</td>\n",
       "      <td>0.813940</td>\n",
       "      <td>0.716702</td>\n",
       "    </tr>\n",
       "    <tr>\n",
       "      <th>Industry_income</th>\n",
       "      <td>0.202021</td>\n",
       "      <td>1.000000</td>\n",
       "      <td>0.160171</td>\n",
       "      <td>0.236658</td>\n",
       "      <td>0.013383</td>\n",
       "      <td>0.202512</td>\n",
       "    </tr>\n",
       "    <tr>\n",
       "      <th>Overall</th>\n",
       "      <td>0.888443</td>\n",
       "      <td>0.160171</td>\n",
       "      <td>1.000000</td>\n",
       "      <td>0.924137</td>\n",
       "      <td>0.850743</td>\n",
       "      <td>0.884092</td>\n",
       "    </tr>\n",
       "    <tr>\n",
       "      <th>Research</th>\n",
       "      <td>0.754224</td>\n",
       "      <td>0.236658</td>\n",
       "      <td>0.924137</td>\n",
       "      <td>1.000000</td>\n",
       "      <td>0.628166</td>\n",
       "      <td>0.938816</td>\n",
       "    </tr>\n",
       "    <tr>\n",
       "      <th>Citations</th>\n",
       "      <td>0.813940</td>\n",
       "      <td>0.013383</td>\n",
       "      <td>0.850743</td>\n",
       "      <td>0.628166</td>\n",
       "      <td>1.000000</td>\n",
       "      <td>0.541302</td>\n",
       "    </tr>\n",
       "    <tr>\n",
       "      <th>Teaching</th>\n",
       "      <td>0.716702</td>\n",
       "      <td>0.202512</td>\n",
       "      <td>0.884092</td>\n",
       "      <td>0.938816</td>\n",
       "      <td>0.541302</td>\n",
       "      <td>1.000000</td>\n",
       "    </tr>\n",
       "  </tbody>\n",
       "</table>\n",
       "</div>"
      ],
      "text/plain": [
       "                     Rank  Industry_income   Overall  Research  Citations  \\\n",
       "Rank             1.000000         0.202021  0.888443  0.754224   0.813940   \n",
       "Industry_income  0.202021         1.000000  0.160171  0.236658   0.013383   \n",
       "Overall          0.888443         0.160171  1.000000  0.924137   0.850743   \n",
       "Research         0.754224         0.236658  0.924137  1.000000   0.628166   \n",
       "Citations        0.813940         0.013383  0.850743  0.628166   1.000000   \n",
       "Teaching         0.716702         0.202512  0.884092  0.938816   0.541302   \n",
       "\n",
       "                 Teaching  \n",
       "Rank             0.716702  \n",
       "Industry_income  0.202512  \n",
       "Overall          0.884092  \n",
       "Research         0.938816  \n",
       "Citations        0.541302  \n",
       "Teaching         1.000000  "
      ]
     },
     "execution_count": 53,
     "metadata": {},
     "output_type": "execute_result"
    }
   ],
   "source": [
    "High_industry_income_uni.corr(method = 'pearson')"
   ]
  },
  {
   "cell_type": "code",
   "execution_count": 54,
   "metadata": {},
   "outputs": [
    {
     "data": {
      "image/png": "[encoded data removed]",
      "text/plain": [
       "<Figure size 432x288 with 1 Axes>"
      ]
     },
     "metadata": {
      "needs_background": "light"
     },
     "output_type": "display_data"
    }
   ],
   "source": [
    "sns.scatterplot(data = High_industry_income_uni, x='Overall',y='Industry_income')\n",
    "plt.title('Relationship between Overall score and industry income')\n",
    "plt.show()"
   ]
  }
 ],
 "metadata": {
  "kernelspec": {
   "display_name": "Python 3",
   "language": "python",
   "name": "python3"
  },
  "language_info": {
   "codemirror_mode": {
    "name": "ipython",
    "version": 3
   },
   "file_extension": ".py",
   "mimetype": "text/x-python",
   "name": "python",
   "nbconvert_exporter": "python",
   "pygments_lexer": "ipython3",
   "version": "3.8.5"
  }
 },
 "nbformat": 4,
 "nbformat_minor": 4
}
