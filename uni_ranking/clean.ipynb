{
 "cells": [
  {
   "cell_type": "markdown",
   "metadata": {},
   "source": [
    "# DATA CLEANING"
   ]
  },
  {
   "cell_type": "markdown",
   "metadata": {},
   "source": [
    "***"
   ]
  },
  {
   "cell_type": "markdown",
   "metadata": {},
   "source": [
    "<br>"
   ]
  },
  {
   "cell_type": "markdown",
   "metadata": {},
   "source": [
    "### Import Packages"
   ]
  },
  {
   "cell_type": "code",
   "execution_count": 1,
   "metadata": {},
   "outputs": [],
   "source": [
    "import pandas as pd\n",
    "import numpy as np \n",
    "import matplotlib.pyplot as plt\n",
    "import seaborn as sns\n",
    "import re\n",
    "import sys\n",
    "sys.path.append('utils.pyutils.py')\n",
    "import utils as utils\n",
    "%matplotlib inline"
   ]
  },
  {
   "cell_type": "markdown",
   "metadata": {},
   "source": [
    "##### We set the display option to see the full rows"
   ]
  },
  {
   "cell_type": "code",
   "execution_count": 2,
   "metadata": {},
   "outputs": [],
   "source": [
    "pd.set_option('display.max_rows', 1500)"
   ]
  },
  {
   "cell_type": "markdown",
   "metadata": {},
   "source": [
    "##### Read the csv file"
   ]
  },
  {
   "cell_type": "code",
   "execution_count": 3,
   "metadata": {},
   "outputs": [],
   "source": [
    "df = pd.read_csv('./final_df.csv')"
   ]
  },
  {
   "cell_type": "markdown",
   "metadata": {},
   "source": [
    "<br>"
   ]
  },
  {
   "cell_type": "markdown",
   "metadata": {},
   "source": [
    "##### Let's see the first 5 rows "
   ]
  },
  {
   "cell_type": "code",
   "execution_count": 4,
   "metadata": {},
   "outputs": [
    {
     "data": {
      "text/html": [
       "<div>\n",
       "<style scoped>\n",
       "    .dataframe tbody tr th:only-of-type {\n",
       "        vertical-align: middle;\n",
       "    }\n",
       "\n",
       "    .dataframe tbody tr th {\n",
       "        vertical-align: top;\n",
       "    }\n",
       "\n",
       "    .dataframe thead th {\n",
       "        text-align: right;\n",
       "    }\n",
       "</style>\n",
       "<table border=\"1\" class=\"dataframe\">\n",
       "  <thead>\n",
       "    <tr style=\"text-align: right;\">\n",
       "      <th></th>\n",
       "      <th>Rank</th>\n",
       "      <th>University</th>\n",
       "      <th>Country</th>\n",
       "      <th>FTE_students</th>\n",
       "      <th>Staff_students</th>\n",
       "      <th>International_students_pct</th>\n",
       "      <th>Female_male_ratio</th>\n",
       "      <th>Overall</th>\n",
       "      <th>Teaching</th>\n",
       "      <th>Research</th>\n",
       "      <th>Citations</th>\n",
       "      <th>Industry_income</th>\n",
       "      <th>International_outlook</th>\n",
       "    </tr>\n",
       "  </thead>\n",
       "  <tbody>\n",
       "    <tr>\n",
       "      <th>0</th>\n",
       "      <td>1</td>\n",
       "      <td>University of Oxford</td>\n",
       "      <td>United Kingdom</td>\n",
       "      <td>20,664</td>\n",
       "      <td>11.2</td>\n",
       "      <td>41%</td>\n",
       "      <td>46 : 54</td>\n",
       "      <td>95.4</td>\n",
       "      <td>90.5</td>\n",
       "      <td>99.6</td>\n",
       "      <td>98.4</td>\n",
       "      <td>65.5</td>\n",
       "      <td>96.4</td>\n",
       "    </tr>\n",
       "    <tr>\n",
       "      <th>1</th>\n",
       "      <td>2</td>\n",
       "      <td>California Institute of Technology</td>\n",
       "      <td>United States</td>\n",
       "      <td>2,240</td>\n",
       "      <td>6.4</td>\n",
       "      <td>30%</td>\n",
       "      <td>34 : 66</td>\n",
       "      <td>94.5</td>\n",
       "      <td>92.1</td>\n",
       "      <td>97.2</td>\n",
       "      <td>97.9</td>\n",
       "      <td>88.0</td>\n",
       "      <td>82.5</td>\n",
       "    </tr>\n",
       "    <tr>\n",
       "      <th>2</th>\n",
       "      <td>3</td>\n",
       "      <td>University of Cambridge</td>\n",
       "      <td>United Kingdom</td>\n",
       "      <td>18,978</td>\n",
       "      <td>10.9</td>\n",
       "      <td>37%</td>\n",
       "      <td>47 : 53</td>\n",
       "      <td>94.4</td>\n",
       "      <td>91.4</td>\n",
       "      <td>98.7</td>\n",
       "      <td>95.8</td>\n",
       "      <td>59.3</td>\n",
       "      <td>95.0</td>\n",
       "    </tr>\n",
       "    <tr>\n",
       "      <th>3</th>\n",
       "      <td>4</td>\n",
       "      <td>Stanford University</td>\n",
       "      <td>United States</td>\n",
       "      <td>16,135</td>\n",
       "      <td>7.3</td>\n",
       "      <td>23%</td>\n",
       "      <td>43 : 57</td>\n",
       "      <td>94.3</td>\n",
       "      <td>92.8</td>\n",
       "      <td>96.4</td>\n",
       "      <td>99.9</td>\n",
       "      <td>66.2</td>\n",
       "      <td>79.5</td>\n",
       "    </tr>\n",
       "    <tr>\n",
       "      <th>4</th>\n",
       "      <td>5</td>\n",
       "      <td>Massachusetts Institute of Technology</td>\n",
       "      <td>United States</td>\n",
       "      <td>11,247</td>\n",
       "      <td>8.6</td>\n",
       "      <td>34%</td>\n",
       "      <td>39 : 61</td>\n",
       "      <td>93.6</td>\n",
       "      <td>90.5</td>\n",
       "      <td>92.4</td>\n",
       "      <td>99.5</td>\n",
       "      <td>86.9</td>\n",
       "      <td>89.0</td>\n",
       "    </tr>\n",
       "  </tbody>\n",
       "</table>\n",
       "</div>"
      ],
      "text/plain": [
       "  Rank                             University         Country FTE_students  \\\n",
       "0    1                   University of Oxford  United Kingdom       20,664   \n",
       "1    2     California Institute of Technology   United States        2,240   \n",
       "2    3                University of Cambridge  United Kingdom       18,978   \n",
       "3    4                    Stanford University   United States       16,135   \n",
       "4    5  Massachusetts Institute of Technology   United States       11,247   \n",
       "\n",
       "   Staff_students International_students_pct Female_male_ratio Overall  \\\n",
       "0            11.2                        41%           46 : 54    95.4   \n",
       "1             6.4                        30%           34 : 66    94.5   \n",
       "2            10.9                        37%           47 : 53    94.4   \n",
       "3             7.3                        23%           43 : 57    94.3   \n",
       "4             8.6                        34%           39 : 61    93.6   \n",
       "\n",
       "   Teaching  Research  Citations  Industry_income  International_outlook  \n",
       "0      90.5      99.6       98.4             65.5                   96.4  \n",
       "1      92.1      97.2       97.9             88.0                   82.5  \n",
       "2      91.4      98.7       95.8             59.3                   95.0  \n",
       "3      92.8      96.4       99.9             66.2                   79.5  \n",
       "4      90.5      92.4       99.5             86.9                   89.0  "
      ]
     },
     "execution_count": 4,
     "metadata": {},
     "output_type": "execute_result"
    }
   ],
   "source": [
    "df.head()"
   ]
  },
  {
   "cell_type": "markdown",
   "metadata": {},
   "source": [
    "<br>"
   ]
  },
  {
   "cell_type": "markdown",
   "metadata": {},
   "source": [
    "<br>"
   ]
  },
  {
   "cell_type": "markdown",
   "metadata": {},
   "source": [
    "##### I will change some column names so they'll be more human-readable"
   ]
  },
  {
   "cell_type": "code",
   "execution_count": 5,
   "metadata": {},
   "outputs": [],
   "source": [
    "col_name = {'FTE_students':'No_FTE_students', 'Staff_students':'Students_per_staff'}\n",
    "df.rename(columns = col_name,inplace = True)"
   ]
  },
  {
   "cell_type": "markdown",
   "metadata": {},
   "source": [
    "<br>"
   ]
  },
  {
   "cell_type": "markdown",
   "metadata": {},
   "source": [
    "##### Let's see the shape of our data"
   ]
  },
  {
   "cell_type": "code",
   "execution_count": 6,
   "metadata": {},
   "outputs": [
    {
     "data": {
      "text/plain": [
       "(1397, 13)"
      ]
     },
     "execution_count": 6,
     "metadata": {},
     "output_type": "execute_result"
    }
   ],
   "source": [
    "df.shape"
   ]
  },
  {
   "cell_type": "markdown",
   "metadata": {},
   "source": [
    "<br>"
   ]
  },
  {
   "cell_type": "markdown",
   "metadata": {},
   "source": [
    "##### now check the info of our columns "
   ]
  },
  {
   "cell_type": "code",
   "execution_count": 7,
   "metadata": {},
   "outputs": [
    {
     "name": "stdout",
     "output_type": "stream",
     "text": [
      "<class 'pandas.core.frame.DataFrame'>\n",
      "RangeIndex: 1397 entries, 0 to 1396\n",
      "Data columns (total 13 columns):\n",
      " #   Column                      Non-Null Count  Dtype  \n",
      "---  ------                      --------------  -----  \n",
      " 0   Rank                        1397 non-null   object \n",
      " 1   University                  1397 non-null   object \n",
      " 2   Country                     1397 non-null   object \n",
      " 3   No_FTE_students             1397 non-null   object \n",
      " 4   Students_per_staff          1397 non-null   float64\n",
      " 5   International_students_pct  1397 non-null   object \n",
      " 6   Female_male_ratio           1331 non-null   object \n",
      " 7   Overall                     1397 non-null   object \n",
      " 8   Teaching                    1397 non-null   float64\n",
      " 9   Research                    1397 non-null   float64\n",
      " 10  Citations                   1397 non-null   float64\n",
      " 11  Industry_income             1397 non-null   float64\n",
      " 12  International_outlook       1397 non-null   float64\n",
      "dtypes: float64(6), object(7)\n",
      "memory usage: 142.0+ KB\n"
     ]
    }
   ],
   "source": [
    "df.info()"
   ]
  },
  {
   "cell_type": "markdown",
   "metadata": {},
   "source": [
    "<br>"
   ]
  },
  {
   "cell_type": "markdown",
   "metadata": {},
   "source": [
    "<br>"
   ]
  },
  {
   "cell_type": "markdown",
   "metadata": {},
   "source": [
    "### Now let's do some formatting for our data before doing our analytics"
   ]
  },
  {
   "cell_type": "markdown",
   "metadata": {},
   "source": [
    "---"
   ]
  },
  {
   "cell_type": "markdown",
   "metadata": {},
   "source": [
    "##### Let's start with Rank column"
   ]
  },
  {
   "cell_type": "markdown",
   "metadata": {},
   "source": [
    "<br>"
   ]
  },
  {
   "cell_type": "markdown",
   "metadata": {},
   "source": [
    "##### There are some rows share the same rank, they will start with a '=' character, so let's delete them.\n"
   ]
  },
  {
   "cell_type": "code",
   "execution_count": 8,
   "metadata": {},
   "outputs": [],
   "source": [
    "def format_Rank(string):\n",
    "    if re.findall('\\A=\\d*',string):\n",
    "        return string.split('=')[1]\n",
    "    else:\n",
    "        return string"
   ]
  },
  {
   "cell_type": "code",
   "execution_count": 9,
   "metadata": {},
   "outputs": [],
   "source": [
    "df.Rank = df.Rank.apply(format_Rank)"
   ]
  },
  {
   "cell_type": "code",
   "execution_count": 10,
   "metadata": {},
   "outputs": [],
   "source": [
    "#we strip the space in the rows by using strip() method\n",
    "\n",
    "df.Rank = df.Rank.apply(lambda x: x.strip())"
   ]
  },
  {
   "cell_type": "code",
   "execution_count": 11,
   "metadata": {},
   "outputs": [],
   "source": [
    "#the bins of ranking is not separate with equal ranges, so let's modify that.\n",
    "#top 200 university's names are pure number, else they will have format like '601-800' or '1000+'\n",
    "\n",
    "df.Rank = df.Rank.apply(lambda x: x if re.findall('.*[–+-].*',x) else '1–200')\n",
    "\n",
    "df.Rank = df.Rank.apply(lambda x:'401-600' if x in ['401–500','501–600'] else x)\n",
    "\n",
    "df.Rank = df.Rank.apply(lambda x: '201-400' if x in ['201–250','251–300','301–350','351–400'] else x)\n",
    "\n",
    "df.replace({'1001+':1,'801–1000':2, '601–800':3,'401-600':4,'201-400':5,'1–200':6},inplace=True)"
   ]
  },
  {
   "cell_type": "markdown",
   "metadata": {},
   "source": [
    "<br>"
   ]
  },
  {
   "cell_type": "code",
   "execution_count": 12,
   "metadata": {},
   "outputs": [
    {
     "data": {
      "text/plain": [
       "1    396\n",
       "6    202\n",
       "3    202\n",
       "4    200\n",
       "5    199\n",
       "2    198\n",
       "Name: Rank, dtype: int64"
      ]
     },
     "execution_count": 12,
     "metadata": {},
     "output_type": "execute_result"
    }
   ],
   "source": [
    "df.Rank.value_counts()"
   ]
  },
  {
   "cell_type": "markdown",
   "metadata": {},
   "source": [
    "<br>"
   ]
  },
  {
   "cell_type": "markdown",
   "metadata": {},
   "source": [
    "<br>"
   ]
  },
  {
   "cell_type": "markdown",
   "metadata": {},
   "source": [
    "##### No_FTE_students column"
   ]
  },
  {
   "cell_type": "code",
   "execution_count": 13,
   "metadata": {},
   "outputs": [],
   "source": [
    "#because the data type of this column is object that includes comma, so to convert them to integer, we'll need to remove those commas\n",
    "\n",
    "df.No_FTE_students = df.No_FTE_students.apply(lambda x: x.replace(',','')).astype('int')"
   ]
  },
  {
   "cell_type": "markdown",
   "metadata": {},
   "source": [
    "<br>"
   ]
  },
  {
   "cell_type": "markdown",
   "metadata": {},
   "source": [
    "<br>"
   ]
  },
  {
   "cell_type": "markdown",
   "metadata": {},
   "source": [
    "##### International_students_pct column"
   ]
  },
  {
   "cell_type": "code",
   "execution_count": 14,
   "metadata": {},
   "outputs": [],
   "source": [
    "#This column also have the data type of object, so we will need to remove the % character\n",
    "df.International_students_pct = df.International_students_pct.apply(lambda x: x.split('%')[0])\n",
    "df.International_students_pct = df.International_students_pct.apply(lambda x: x.strip())\n",
    "\n",
    "#there is some rows with nan values, more specific here it's ' ' values, so we need to strip those and replace them with 0\n",
    "#also because we have just 2 observations that're nan values, so we can feel satisfy filling them with 0\n",
    "df.International_students_pct.replace('', 0, inplace = True)\n",
    "\n",
    "#convert to float data type\n",
    "df.International_students_pct = df.International_students_pct.astype('float')"
   ]
  },
  {
   "cell_type": "markdown",
   "metadata": {},
   "source": [
    "<br>"
   ]
  },
  {
   "cell_type": "markdown",
   "metadata": {},
   "source": [
    "<br>"
   ]
  },
  {
   "cell_type": "markdown",
   "metadata": {},
   "source": [
    "##### Female_male_ratio column"
   ]
  },
  {
   "cell_type": "code",
   "execution_count": 15,
   "metadata": {},
   "outputs": [
    {
     "data": {
      "text/plain": [
       "1331"
      ]
     },
     "execution_count": 15,
     "metadata": {},
     "output_type": "execute_result"
    }
   ],
   "source": [
    "#our dataframe has 1397 rows, but this column only have 1331 rows. There must be some missing rows.\n",
    "df.Female_male_ratio.value_counts().sum()"
   ]
  },
  {
   "cell_type": "code",
   "execution_count": 16,
   "metadata": {},
   "outputs": [],
   "source": [
    "#we have a value of 100:0, so we will replace it for compute purpose \n",
    "df.Female_male_ratio = df.Female_male_ratio.replace('100 : 0', '100 : 1')\n",
    "\n",
    "#we will fill the missing rows with this just for now\n",
    "df.Female_male_ratio = df.Female_male_ratio.fillna('0 : 1')"
   ]
  },
  {
   "cell_type": "code",
   "execution_count": 17,
   "metadata": {},
   "outputs": [
    {
     "data": {
      "text/plain": [
       "1397"
      ]
     },
     "execution_count": 17,
     "metadata": {},
     "output_type": "execute_result"
    }
   ],
   "source": [
    "#now we have the full rows \n",
    "df.Female_male_ratio.value_counts().sum()"
   ]
  },
  {
   "cell_type": "code",
   "execution_count": 18,
   "metadata": {},
   "outputs": [],
   "source": [
    "#I'll create 2 new columns from the original Female_male_ratio column to calculate the exactly number\n",
    "\n",
    "df.loc[:,'numerator'] = df.Female_male_ratio.apply(lambda x: int(str(x).split(':')[0].strip()))\n",
    "\n",
    "df.loc[:,'denominator'] = df.Female_male_ratio.apply(lambda x: int(str(x).split(':')[1].strip()))\n",
    "\n",
    "df.loc[:,\"Female_male_ratio\"] = df['numerator'] / (df['numerator'] + df['denominator'])"
   ]
  },
  {
   "cell_type": "code",
   "execution_count": 19,
   "metadata": {},
   "outputs": [],
   "source": [
    "#now we can drop those 2 columns\n",
    "\n",
    "df.drop(['numerator','denominator'], axis = 1, inplace = True)"
   ]
  },
  {
   "cell_type": "code",
   "execution_count": 20,
   "metadata": {},
   "outputs": [],
   "source": [
    "#we will create value for those university that we don't have Female_male_ratio using their country's mean ratio\n",
    "#first create a data where we don't have unknown ratio\n",
    "\n",
    "no_zero_df = df[df.Female_male_ratio != 0]\n",
    "\n",
    "\n",
    "#create a dictionary to store country's mean ratios using group by aggregation\n",
    "\n",
    "no_zero_dict = dict(no_zero_df.groupby('Country')['Female_male_ratio'].agg('mean'))\n",
    "\n",
    "\n",
    "#now we just have to fill out unknown ratios with the values we've calculated using map method\n",
    "\n",
    "df.loc[df.Female_male_ratio == 0,'Female_male_ratio'] = df.loc[df.Female_male_ratio == 0, 'Country'].map(no_zero_dict)\n",
    "\n"
   ]
  },
  {
   "cell_type": "code",
   "execution_count": 21,
   "metadata": {},
   "outputs": [],
   "source": [
    "#convert the ratio to pct\n",
    "df.Female_male_ratio = df.Female_male_ratio.round(4)*100\n",
    "\n",
    "#rename column\n",
    "df.rename(columns = {'Female_male_ratio':'Female_pct'}, inplace = True)"
   ]
  },
  {
   "cell_type": "markdown",
   "metadata": {},
   "source": [
    "<br>"
   ]
  },
  {
   "cell_type": "markdown",
   "metadata": {},
   "source": [
    "<br>"
   ]
  },
  {
   "cell_type": "markdown",
   "metadata": {},
   "source": [
    "##### Overall column"
   ]
  },
  {
   "cell_type": "code",
   "execution_count": 22,
   "metadata": {},
   "outputs": [],
   "source": [
    "#In the Overall column, we have some range values, i decided to replace those ranges with their mean so we can use some statistics here.\n",
    "Overall_mapping = {'10.7–22.1' : np.mean([10.7,22.1]),\n",
    "                  '28.3–35.2' : np.mean([28.3,35.2]),\n",
    "                   '22.2–28.2': np.mean([22.2,28.2]),\n",
    "                   '38.8–42.3': np.mean([38.8,42.3]),\n",
    "                   '35.3–38.7': np.mean([35.3,38.7]),\n",
    "                  '42.4–44.4': np.mean([42.4,44.4]),\n",
    "                   '46.9–50.0': np.mean([46.9,50.0]),\n",
    "                   '44.5–46.8': np.mean([44.5,46.8]),\n",
    "                   '50.1–53.7': np.mean([50.1,53.7])\n",
    "                  }"
   ]
  },
  {
   "cell_type": "code",
   "execution_count": 23,
   "metadata": {},
   "outputs": [],
   "source": [
    "df.Overall = df.Overall.replace(Overall_mapping)\n",
    "\n",
    "\n",
    "#We convert the column to float type\n",
    "df.Overall = df.Overall.astype('float')"
   ]
  },
  {
   "cell_type": "markdown",
   "metadata": {},
   "source": [
    "<br>"
   ]
  },
  {
   "cell_type": "markdown",
   "metadata": {},
   "source": [
    "<br>"
   ]
  },
  {
   "cell_type": "markdown",
   "metadata": {},
   "source": [
    "##### Check for duplicated rows"
   ]
  },
  {
   "cell_type": "code",
   "execution_count": 24,
   "metadata": {},
   "outputs": [
    {
     "data": {
      "text/plain": [
       "0"
      ]
     },
     "execution_count": 24,
     "metadata": {},
     "output_type": "execute_result"
    }
   ],
   "source": [
    "df.duplicated().sum()"
   ]
  },
  {
   "cell_type": "markdown",
   "metadata": {},
   "source": [
    "<br>"
   ]
  },
  {
   "cell_type": "markdown",
   "metadata": {},
   "source": [
    "##### Now, let's see some data's statistics after cleaning."
   ]
  },
  {
   "cell_type": "code",
   "execution_count": 25,
   "metadata": {},
   "outputs": [
    {
     "data": {
      "text/html": [
       "<div>\n",
       "<style scoped>\n",
       "    .dataframe tbody tr th:only-of-type {\n",
       "        vertical-align: middle;\n",
       "    }\n",
       "\n",
       "    .dataframe tbody tr th {\n",
       "        vertical-align: top;\n",
       "    }\n",
       "\n",
       "    .dataframe thead th {\n",
       "        text-align: right;\n",
       "    }\n",
       "</style>\n",
       "<table border=\"1\" class=\"dataframe\">\n",
       "  <thead>\n",
       "    <tr style=\"text-align: right;\">\n",
       "      <th></th>\n",
       "      <th>Count</th>\n",
       "      <th>Missing</th>\n",
       "      <th>Unique</th>\n",
       "      <th>Dtype</th>\n",
       "      <th>Numeric</th>\n",
       "      <th>Mode</th>\n",
       "      <th>Mean</th>\n",
       "      <th>Min</th>\n",
       "      <th>25%</th>\n",
       "      <th>Median</th>\n",
       "      <th>75%</th>\n",
       "      <th>Max</th>\n",
       "      <th>Std</th>\n",
       "      <th>Skew</th>\n",
       "      <th>Kurt</th>\n",
       "    </tr>\n",
       "  </thead>\n",
       "  <tbody>\n",
       "    <tr>\n",
       "      <th>Students_per_staff</th>\n",
       "      <td>1397</td>\n",
       "      <td>0</td>\n",
       "      <td>372</td>\n",
       "      <td>float64</td>\n",
       "      <td>True</td>\n",
       "      <td>12.5</td>\n",
       "      <td>19.012</td>\n",
       "      <td>0.9</td>\n",
       "      <td>12.4</td>\n",
       "      <td>16.4</td>\n",
       "      <td>21.9</td>\n",
       "      <td>493.5</td>\n",
       "      <td>16.9137</td>\n",
       "      <td>16.7769</td>\n",
       "      <td>447.587</td>\n",
       "    </tr>\n",
       "    <tr>\n",
       "      <th>No_FTE_students</th>\n",
       "      <td>1397</td>\n",
       "      <td>0</td>\n",
       "      <td>1378</td>\n",
       "      <td>int32</td>\n",
       "      <td>True</td>\n",
       "      <td>1142</td>\n",
       "      <td>23741.2</td>\n",
       "      <td>558</td>\n",
       "      <td>10267</td>\n",
       "      <td>17848</td>\n",
       "      <td>29437</td>\n",
       "      <td>830104</td>\n",
       "      <td>32821.3</td>\n",
       "      <td>13.4718</td>\n",
       "      <td>284.815</td>\n",
       "    </tr>\n",
       "    <tr>\n",
       "      <th>Teaching</th>\n",
       "      <td>1397</td>\n",
       "      <td>0</td>\n",
       "      <td>424</td>\n",
       "      <td>float64</td>\n",
       "      <td>True</td>\n",
       "      <td>16.7</td>\n",
       "      <td>28.2218</td>\n",
       "      <td>11.2</td>\n",
       "      <td>18.3</td>\n",
       "      <td>23.8</td>\n",
       "      <td>33.6</td>\n",
       "      <td>92.8</td>\n",
       "      <td>14.1471</td>\n",
       "      <td>1.89942</td>\n",
       "      <td>4.29779</td>\n",
       "    </tr>\n",
       "    <tr>\n",
       "      <th>International_students_pct</th>\n",
       "      <td>1397</td>\n",
       "      <td>0</td>\n",
       "      <td>62</td>\n",
       "      <td>float64</td>\n",
       "      <td>True</td>\n",
       "      <td>1</td>\n",
       "      <td>11.3414</td>\n",
       "      <td>0</td>\n",
       "      <td>2</td>\n",
       "      <td>8</td>\n",
       "      <td>17</td>\n",
       "      <td>83</td>\n",
       "      <td>11.7732</td>\n",
       "      <td>1.8242</td>\n",
       "      <td>4.86263</td>\n",
       "    </tr>\n",
       "    <tr>\n",
       "      <th>Research</th>\n",
       "      <td>1397</td>\n",
       "      <td>0</td>\n",
       "      <td>466</td>\n",
       "      <td>float64</td>\n",
       "      <td>True</td>\n",
       "      <td>10</td>\n",
       "      <td>23.9704</td>\n",
       "      <td>6.8</td>\n",
       "      <td>11.6</td>\n",
       "      <td>18</td>\n",
       "      <td>30.1</td>\n",
       "      <td>99.6</td>\n",
       "      <td>17.5354</td>\n",
       "      <td>1.81935</td>\n",
       "      <td>3.51441</td>\n",
       "    </tr>\n",
       "    <tr>\n",
       "      <th>Industry_income</th>\n",
       "      <td>1397</td>\n",
       "      <td>0</td>\n",
       "      <td>379</td>\n",
       "      <td>float64</td>\n",
       "      <td>True</td>\n",
       "      <td>34.4</td>\n",
       "      <td>46.4694</td>\n",
       "      <td>34.4</td>\n",
       "      <td>35.7</td>\n",
       "      <td>39.4</td>\n",
       "      <td>49.8</td>\n",
       "      <td>100</td>\n",
       "      <td>16.2703</td>\n",
       "      <td>1.81385</td>\n",
       "      <td>2.46152</td>\n",
       "    </tr>\n",
       "    <tr>\n",
       "      <th>Overall</th>\n",
       "      <td>1397</td>\n",
       "      <td>0</td>\n",
       "      <td>145</td>\n",
       "      <td>float64</td>\n",
       "      <td>True</td>\n",
       "      <td>16.4</td>\n",
       "      <td>34.5883</td>\n",
       "      <td>16.4</td>\n",
       "      <td>16.4</td>\n",
       "      <td>31.75</td>\n",
       "      <td>45.65</td>\n",
       "      <td>95.4</td>\n",
       "      <td>17.0819</td>\n",
       "      <td>0.945962</td>\n",
       "      <td>0.609038</td>\n",
       "    </tr>\n",
       "    <tr>\n",
       "      <th>International_outlook</th>\n",
       "      <td>1397</td>\n",
       "      <td>0</td>\n",
       "      <td>653</td>\n",
       "      <td>float64</td>\n",
       "      <td>True</td>\n",
       "      <td>21.5</td>\n",
       "      <td>47.0989</td>\n",
       "      <td>13.1</td>\n",
       "      <td>27.4</td>\n",
       "      <td>43.1</td>\n",
       "      <td>62.8</td>\n",
       "      <td>99.7</td>\n",
       "      <td>23.2877</td>\n",
       "      <td>0.555953</td>\n",
       "      <td>-0.734546</td>\n",
       "    </tr>\n",
       "    <tr>\n",
       "      <th>Citations</th>\n",
       "      <td>1397</td>\n",
       "      <td>0</td>\n",
       "      <td>742</td>\n",
       "      <td>float64</td>\n",
       "      <td>True</td>\n",
       "      <td>23.6</td>\n",
       "      <td>48.0915</td>\n",
       "      <td>1.7</td>\n",
       "      <td>23.3</td>\n",
       "      <td>45.5</td>\n",
       "      <td>71.9</td>\n",
       "      <td>100</td>\n",
       "      <td>27.7375</td>\n",
       "      <td>0.217731</td>\n",
       "      <td>-1.17061</td>\n",
       "    </tr>\n",
       "    <tr>\n",
       "      <th>Rank</th>\n",
       "      <td>1397</td>\n",
       "      <td>0</td>\n",
       "      <td>6</td>\n",
       "      <td>int64</td>\n",
       "      <td>True</td>\n",
       "      <td>1</td>\n",
       "      <td>3.15319</td>\n",
       "      <td>1</td>\n",
       "      <td>1</td>\n",
       "      <td>3</td>\n",
       "      <td>5</td>\n",
       "      <td>6</td>\n",
       "      <td>1.80798</td>\n",
       "      <td>0.21581</td>\n",
       "      <td>-1.35368</td>\n",
       "    </tr>\n",
       "    <tr>\n",
       "      <th>Female_pct</th>\n",
       "      <td>1397</td>\n",
       "      <td>0</td>\n",
       "      <td>93</td>\n",
       "      <td>float64</td>\n",
       "      <td>True</td>\n",
       "      <td>55</td>\n",
       "      <td>49.852</td>\n",
       "      <td>9</td>\n",
       "      <td>44</td>\n",
       "      <td>52</td>\n",
       "      <td>57.5</td>\n",
       "      <td>99.01</td>\n",
       "      <td>12.03</td>\n",
       "      <td>-0.56721</td>\n",
       "      <td>1.09004</td>\n",
       "    </tr>\n",
       "    <tr>\n",
       "      <th>University</th>\n",
       "      <td>1397</td>\n",
       "      <td>0</td>\n",
       "      <td>1396</td>\n",
       "      <td>object</td>\n",
       "      <td>False</td>\n",
       "      <td>Northeastern University</td>\n",
       "      <td>-</td>\n",
       "      <td>-</td>\n",
       "      <td>-</td>\n",
       "      <td>-</td>\n",
       "      <td>-</td>\n",
       "      <td>-</td>\n",
       "      <td>-</td>\n",
       "      <td>-</td>\n",
       "      <td>-</td>\n",
       "    </tr>\n",
       "    <tr>\n",
       "      <th>Country</th>\n",
       "      <td>1397</td>\n",
       "      <td>0</td>\n",
       "      <td>92</td>\n",
       "      <td>object</td>\n",
       "      <td>False</td>\n",
       "      <td>United States</td>\n",
       "      <td>-</td>\n",
       "      <td>-</td>\n",
       "      <td>-</td>\n",
       "      <td>-</td>\n",
       "      <td>-</td>\n",
       "      <td>-</td>\n",
       "      <td>-</td>\n",
       "      <td>-</td>\n",
       "      <td>-</td>\n",
       "    </tr>\n",
       "  </tbody>\n",
       "</table>\n",
       "</div>"
      ],
      "text/plain": [
       "                           Count Missing Unique    Dtype Numeric  \\\n",
       "Students_per_staff          1397       0    372  float64    True   \n",
       "No_FTE_students             1397       0   1378    int32    True   \n",
       "Teaching                    1397       0    424  float64    True   \n",
       "International_students_pct  1397       0     62  float64    True   \n",
       "Research                    1397       0    466  float64    True   \n",
       "Industry_income             1397       0    379  float64    True   \n",
       "Overall                     1397       0    145  float64    True   \n",
       "International_outlook       1397       0    653  float64    True   \n",
       "Citations                   1397       0    742  float64    True   \n",
       "Rank                        1397       0      6    int64    True   \n",
       "Female_pct                  1397       0     93  float64    True   \n",
       "University                  1397       0   1396   object   False   \n",
       "Country                     1397       0     92   object   False   \n",
       "\n",
       "                                               Mode     Mean   Min    25%  \\\n",
       "Students_per_staff                             12.5   19.012   0.9   12.4   \n",
       "No_FTE_students                                1142  23741.2   558  10267   \n",
       "Teaching                                       16.7  28.2218  11.2   18.3   \n",
       "International_students_pct                        1  11.3414     0      2   \n",
       "Research                                         10  23.9704   6.8   11.6   \n",
       "Industry_income                                34.4  46.4694  34.4   35.7   \n",
       "Overall                                        16.4  34.5883  16.4   16.4   \n",
       "International_outlook                          21.5  47.0989  13.1   27.4   \n",
       "Citations                                      23.6  48.0915   1.7   23.3   \n",
       "Rank                                              1  3.15319     1      1   \n",
       "Female_pct                                       55   49.852     9     44   \n",
       "University                  Northeastern University        -     -      -   \n",
       "Country                               United States        -     -      -   \n",
       "\n",
       "                           Median    75%     Max      Std      Skew      Kurt  \n",
       "Students_per_staff           16.4   21.9   493.5  16.9137   16.7769   447.587  \n",
       "No_FTE_students             17848  29437  830104  32821.3   13.4718   284.815  \n",
       "Teaching                     23.8   33.6    92.8  14.1471   1.89942   4.29779  \n",
       "International_students_pct      8     17      83  11.7732    1.8242   4.86263  \n",
       "Research                       18   30.1    99.6  17.5354   1.81935   3.51441  \n",
       "Industry_income              39.4   49.8     100  16.2703   1.81385   2.46152  \n",
       "Overall                     31.75  45.65    95.4  17.0819  0.945962  0.609038  \n",
       "International_outlook        43.1   62.8    99.7  23.2877  0.555953 -0.734546  \n",
       "Citations                    45.5   71.9     100  27.7375  0.217731  -1.17061  \n",
       "Rank                            3      5       6  1.80798   0.21581  -1.35368  \n",
       "Female_pct                     52   57.5   99.01    12.03  -0.56721   1.09004  \n",
       "University                      -      -       -        -         -         -  \n",
       "Country                         -      -       -        -         -         -  "
      ]
     },
     "execution_count": 25,
     "metadata": {},
     "output_type": "execute_result"
    }
   ],
   "source": [
    "utils.unistats(df)"
   ]
  },
  {
   "cell_type": "markdown",
   "metadata": {},
   "source": [
    "<br>"
   ]
  },
  {
   "cell_type": "markdown",
   "metadata": {},
   "source": [
    "##### we see some skewness issues here. Let's plot them using histogram"
   ]
  },
  {
   "cell_type": "code",
   "execution_count": 26,
   "metadata": {},
   "outputs": [
    {
     "data": {
      "image/png": "[encoded data removed]",
      "text/plain": [
       "<Figure size 432x288 with 1 Axes>"
      ]
     },
     "metadata": {
      "needs_background": "light"
     },
     "output_type": "display_data"
    }
   ],
   "source": [
    "sns.histplot(data = df, x=\"Students_per_staff\")\n",
    "plt.xlim(0,200)\n",
    "plt.show()"
   ]
  },
  {
   "cell_type": "code",
   "execution_count": 27,
   "metadata": {},
   "outputs": [
    {
     "data": {
      "image/png": "[encoded data removed]",
      "text/plain": [
       "<Figure size 432x288 with 1 Axes>"
      ]
     },
     "metadata": {
      "needs_background": "light"
     },
     "output_type": "display_data"
    }
   ],
   "source": [
    "sns.histplot(data =df, x=\"No_FTE_students\")\n",
    "plt.xlim(0,250000)\n",
    "plt.show()"
   ]
  },
  {
   "cell_type": "markdown",
   "metadata": {},
   "source": [
    "<br>"
   ]
  },
  {
   "cell_type": "markdown",
   "metadata": {},
   "source": [
    "##### We will handle outliers"
   ]
  },
  {
   "cell_type": "code",
   "execution_count": 28,
   "metadata": {},
   "outputs": [],
   "source": [
    "def remove_outliers(df, col):\n",
    "    q25, q75 = df[col].quantile(0.25), df[col].quantile(0.75)\n",
    "    iqr = q75 - q25\n",
    "    cut_off = iqr * 1.5\n",
    "    lower, upper = q25 - cut_off, q75 + cut_off\n",
    "    outliers = [x for x in df[col] if x < lower or x > upper]\n",
    "    outliers_removed = [x for x in df[col] if x>lower and x<upper]\n",
    "    df = df[df[col].isin(outliers_removed)]\n",
    "    return df"
   ]
  },
  {
   "cell_type": "code",
   "execution_count": 29,
   "metadata": {},
   "outputs": [],
   "source": [
    "df = remove_outliers(df,'No_FTE_students')"
   ]
  },
  {
   "cell_type": "code",
   "execution_count": 30,
   "metadata": {},
   "outputs": [],
   "source": [
    "df = remove_outliers(df, 'Students_per_staff')"
   ]
  },
  {
   "cell_type": "code",
   "execution_count": 31,
   "metadata": {},
   "outputs": [
    {
     "data": {
      "text/plain": [
       "(1262, 13)"
      ]
     },
     "execution_count": 31,
     "metadata": {},
     "output_type": "execute_result"
    }
   ],
   "source": [
    "df.shape"
   ]
  },
  {
   "cell_type": "markdown",
   "metadata": {},
   "source": [
    "<br>"
   ]
  },
  {
   "cell_type": "markdown",
   "metadata": {},
   "source": [
    "##### Check our data again "
   ]
  },
  {
   "cell_type": "code",
   "execution_count": 32,
   "metadata": {},
   "outputs": [
    {
     "data": {
      "image/png": "[encoded data removed]",
      "text/plain": [
       "<Figure size 432x288 with 1 Axes>"
      ]
     },
     "metadata": {
      "needs_background": "light"
     },
     "output_type": "display_data"
    }
   ],
   "source": [
    "sns.histplot(data = df, x = 'No_FTE_students');"
   ]
  },
  {
   "cell_type": "code",
   "execution_count": 33,
   "metadata": {},
   "outputs": [
    {
     "data": {
      "image/png": "[encoded data removed]",
      "text/plain": [
       "<Figure size 432x288 with 1 Axes>"
      ]
     },
     "metadata": {
      "needs_background": "light"
     },
     "output_type": "display_data"
    }
   ],
   "source": [
    "sns.histplot(data = df, x = 'Students_per_staff');"
   ]
  },
  {
   "cell_type": "code",
   "execution_count": 34,
   "metadata": {},
   "outputs": [
    {
     "data": {
      "text/html": [
       "<div>\n",
       "<style scoped>\n",
       "    .dataframe tbody tr th:only-of-type {\n",
       "        vertical-align: middle;\n",
       "    }\n",
       "\n",
       "    .dataframe tbody tr th {\n",
       "        vertical-align: top;\n",
       "    }\n",
       "\n",
       "    .dataframe thead th {\n",
       "        text-align: right;\n",
       "    }\n",
       "</style>\n",
       "<table border=\"1\" class=\"dataframe\">\n",
       "  <thead>\n",
       "    <tr style=\"text-align: right;\">\n",
       "      <th></th>\n",
       "      <th>Count</th>\n",
       "      <th>Missing</th>\n",
       "      <th>Unique</th>\n",
       "      <th>Dtype</th>\n",
       "      <th>Numeric</th>\n",
       "      <th>Mode</th>\n",
       "      <th>Mean</th>\n",
       "      <th>Min</th>\n",
       "      <th>25%</th>\n",
       "      <th>Median</th>\n",
       "      <th>75%</th>\n",
       "      <th>Max</th>\n",
       "      <th>Std</th>\n",
       "      <th>Skew</th>\n",
       "      <th>Kurt</th>\n",
       "    </tr>\n",
       "  </thead>\n",
       "  <tbody>\n",
       "    <tr>\n",
       "      <th>Teaching</th>\n",
       "      <td>1262</td>\n",
       "      <td>0</td>\n",
       "      <td>403</td>\n",
       "      <td>float64</td>\n",
       "      <td>True</td>\n",
       "      <td>16.7</td>\n",
       "      <td>28.2172</td>\n",
       "      <td>11.2</td>\n",
       "      <td>18.6</td>\n",
       "      <td>23.9</td>\n",
       "      <td>33.1</td>\n",
       "      <td>92.8</td>\n",
       "      <td>14.1592</td>\n",
       "      <td>2.00017</td>\n",
       "      <td>4.7343</td>\n",
       "    </tr>\n",
       "    <tr>\n",
       "      <th>Research</th>\n",
       "      <td>1262</td>\n",
       "      <td>0</td>\n",
       "      <td>438</td>\n",
       "      <td>float64</td>\n",
       "      <td>True</td>\n",
       "      <td>10</td>\n",
       "      <td>23.7689</td>\n",
       "      <td>6.8</td>\n",
       "      <td>11.7</td>\n",
       "      <td>17.85</td>\n",
       "      <td>29.6</td>\n",
       "      <td>99.6</td>\n",
       "      <td>17.4275</td>\n",
       "      <td>1.92932</td>\n",
       "      <td>4.01225</td>\n",
       "    </tr>\n",
       "    <tr>\n",
       "      <th>Industry_income</th>\n",
       "      <td>1262</td>\n",
       "      <td>0</td>\n",
       "      <td>361</td>\n",
       "      <td>float64</td>\n",
       "      <td>True</td>\n",
       "      <td>34.4</td>\n",
       "      <td>46.341</td>\n",
       "      <td>34.4</td>\n",
       "      <td>35.8</td>\n",
       "      <td>39.4</td>\n",
       "      <td>49</td>\n",
       "      <td>100</td>\n",
       "      <td>16.1094</td>\n",
       "      <td>1.82866</td>\n",
       "      <td>2.52136</td>\n",
       "    </tr>\n",
       "    <tr>\n",
       "      <th>International_students_pct</th>\n",
       "      <td>1262</td>\n",
       "      <td>0</td>\n",
       "      <td>62</td>\n",
       "      <td>float64</td>\n",
       "      <td>True</td>\n",
       "      <td>1</td>\n",
       "      <td>11.5174</td>\n",
       "      <td>0</td>\n",
       "      <td>2</td>\n",
       "      <td>8</td>\n",
       "      <td>17</td>\n",
       "      <td>83</td>\n",
       "      <td>12.0209</td>\n",
       "      <td>1.82735</td>\n",
       "      <td>4.79291</td>\n",
       "    </tr>\n",
       "    <tr>\n",
       "      <th>Overall</th>\n",
       "      <td>1262</td>\n",
       "      <td>0</td>\n",
       "      <td>131</td>\n",
       "      <td>float64</td>\n",
       "      <td>True</td>\n",
       "      <td>16.4</td>\n",
       "      <td>34.4403</td>\n",
       "      <td>16.4</td>\n",
       "      <td>16.4</td>\n",
       "      <td>31.75</td>\n",
       "      <td>43.4</td>\n",
       "      <td>95.4</td>\n",
       "      <td>17.0466</td>\n",
       "      <td>1.00475</td>\n",
       "      <td>0.802946</td>\n",
       "    </tr>\n",
       "    <tr>\n",
       "      <th>No_FTE_students</th>\n",
       "      <td>1262</td>\n",
       "      <td>0</td>\n",
       "      <td>1244</td>\n",
       "      <td>int32</td>\n",
       "      <td>True</td>\n",
       "      <td>1142</td>\n",
       "      <td>19283.8</td>\n",
       "      <td>558</td>\n",
       "      <td>9723.75</td>\n",
       "      <td>16651</td>\n",
       "      <td>26824.2</td>\n",
       "      <td>57827</td>\n",
       "      <td>12291.8</td>\n",
       "      <td>0.800028</td>\n",
       "      <td>0.103364</td>\n",
       "    </tr>\n",
       "    <tr>\n",
       "      <th>International_outlook</th>\n",
       "      <td>1262</td>\n",
       "      <td>0</td>\n",
       "      <td>621</td>\n",
       "      <td>float64</td>\n",
       "      <td>True</td>\n",
       "      <td>21.5</td>\n",
       "      <td>46.9918</td>\n",
       "      <td>13.1</td>\n",
       "      <td>26.625</td>\n",
       "      <td>42.4</td>\n",
       "      <td>63.575</td>\n",
       "      <td>99.7</td>\n",
       "      <td>23.7435</td>\n",
       "      <td>0.560421</td>\n",
       "      <td>-0.786661</td>\n",
       "    </tr>\n",
       "    <tr>\n",
       "      <th>Students_per_staff</th>\n",
       "      <td>1262</td>\n",
       "      <td>0</td>\n",
       "      <td>286</td>\n",
       "      <td>float64</td>\n",
       "      <td>True</td>\n",
       "      <td>12.5</td>\n",
       "      <td>16.4313</td>\n",
       "      <td>0.9</td>\n",
       "      <td>11.9</td>\n",
       "      <td>15.7</td>\n",
       "      <td>20.275</td>\n",
       "      <td>35.4</td>\n",
       "      <td>6.5248</td>\n",
       "      <td>0.484978</td>\n",
       "      <td>0.136302</td>\n",
       "    </tr>\n",
       "    <tr>\n",
       "      <th>Citations</th>\n",
       "      <td>1262</td>\n",
       "      <td>0</td>\n",
       "      <td>711</td>\n",
       "      <td>float64</td>\n",
       "      <td>True</td>\n",
       "      <td>20.7</td>\n",
       "      <td>47.8738</td>\n",
       "      <td>1.7</td>\n",
       "      <td>23.3</td>\n",
       "      <td>44.8</td>\n",
       "      <td>71.875</td>\n",
       "      <td>100</td>\n",
       "      <td>27.8524</td>\n",
       "      <td>0.241185</td>\n",
       "      <td>-1.15426</td>\n",
       "    </tr>\n",
       "    <tr>\n",
       "      <th>Rank</th>\n",
       "      <td>1262</td>\n",
       "      <td>0</td>\n",
       "      <td>6</td>\n",
       "      <td>int64</td>\n",
       "      <td>True</td>\n",
       "      <td>1</td>\n",
       "      <td>3.13154</td>\n",
       "      <td>1</td>\n",
       "      <td>1</td>\n",
       "      <td>3</td>\n",
       "      <td>5</td>\n",
       "      <td>6</td>\n",
       "      <td>1.78862</td>\n",
       "      <td>0.227257</td>\n",
       "      <td>-1.33087</td>\n",
       "    </tr>\n",
       "    <tr>\n",
       "      <th>Female_pct</th>\n",
       "      <td>1262</td>\n",
       "      <td>0</td>\n",
       "      <td>89</td>\n",
       "      <td>float64</td>\n",
       "      <td>True</td>\n",
       "      <td>55</td>\n",
       "      <td>49.6513</td>\n",
       "      <td>9</td>\n",
       "      <td>43</td>\n",
       "      <td>52</td>\n",
       "      <td>58</td>\n",
       "      <td>99.01</td>\n",
       "      <td>12.349</td>\n",
       "      <td>-0.538343</td>\n",
       "      <td>0.969864</td>\n",
       "    </tr>\n",
       "    <tr>\n",
       "      <th>University</th>\n",
       "      <td>1262</td>\n",
       "      <td>0</td>\n",
       "      <td>1261</td>\n",
       "      <td>object</td>\n",
       "      <td>False</td>\n",
       "      <td>Northeastern University</td>\n",
       "      <td>-</td>\n",
       "      <td>-</td>\n",
       "      <td>-</td>\n",
       "      <td>-</td>\n",
       "      <td>-</td>\n",
       "      <td>-</td>\n",
       "      <td>-</td>\n",
       "      <td>-</td>\n",
       "      <td>-</td>\n",
       "    </tr>\n",
       "    <tr>\n",
       "      <th>Country</th>\n",
       "      <td>1262</td>\n",
       "      <td>0</td>\n",
       "      <td>89</td>\n",
       "      <td>object</td>\n",
       "      <td>False</td>\n",
       "      <td>United States</td>\n",
       "      <td>-</td>\n",
       "      <td>-</td>\n",
       "      <td>-</td>\n",
       "      <td>-</td>\n",
       "      <td>-</td>\n",
       "      <td>-</td>\n",
       "      <td>-</td>\n",
       "      <td>-</td>\n",
       "      <td>-</td>\n",
       "    </tr>\n",
       "  </tbody>\n",
       "</table>\n",
       "</div>"
      ],
      "text/plain": [
       "                           Count Missing Unique    Dtype Numeric  \\\n",
       "Teaching                    1262       0    403  float64    True   \n",
       "Research                    1262       0    438  float64    True   \n",
       "Industry_income             1262       0    361  float64    True   \n",
       "International_students_pct  1262       0     62  float64    True   \n",
       "Overall                     1262       0    131  float64    True   \n",
       "No_FTE_students             1262       0   1244    int32    True   \n",
       "International_outlook       1262       0    621  float64    True   \n",
       "Students_per_staff          1262       0    286  float64    True   \n",
       "Citations                   1262       0    711  float64    True   \n",
       "Rank                        1262       0      6    int64    True   \n",
       "Female_pct                  1262       0     89  float64    True   \n",
       "University                  1262       0   1261   object   False   \n",
       "Country                     1262       0     89   object   False   \n",
       "\n",
       "                                               Mode     Mean   Min      25%  \\\n",
       "Teaching                                       16.7  28.2172  11.2     18.6   \n",
       "Research                                         10  23.7689   6.8     11.7   \n",
       "Industry_income                                34.4   46.341  34.4     35.8   \n",
       "International_students_pct                        1  11.5174     0        2   \n",
       "Overall                                        16.4  34.4403  16.4     16.4   \n",
       "No_FTE_students                                1142  19283.8   558  9723.75   \n",
       "International_outlook                          21.5  46.9918  13.1   26.625   \n",
       "Students_per_staff                             12.5  16.4313   0.9     11.9   \n",
       "Citations                                      20.7  47.8738   1.7     23.3   \n",
       "Rank                                              1  3.13154     1        1   \n",
       "Female_pct                                       55  49.6513     9       43   \n",
       "University                  Northeastern University        -     -        -   \n",
       "Country                               United States        -     -        -   \n",
       "\n",
       "                           Median      75%    Max      Std      Skew      Kurt  \n",
       "Teaching                     23.9     33.1   92.8  14.1592   2.00017    4.7343  \n",
       "Research                    17.85     29.6   99.6  17.4275   1.92932   4.01225  \n",
       "Industry_income              39.4       49    100  16.1094   1.82866   2.52136  \n",
       "International_students_pct      8       17     83  12.0209   1.82735   4.79291  \n",
       "Overall                     31.75     43.4   95.4  17.0466   1.00475  0.802946  \n",
       "No_FTE_students             16651  26824.2  57827  12291.8  0.800028  0.103364  \n",
       "International_outlook        42.4   63.575   99.7  23.7435  0.560421 -0.786661  \n",
       "Students_per_staff           15.7   20.275   35.4   6.5248  0.484978  0.136302  \n",
       "Citations                    44.8   71.875    100  27.8524  0.241185  -1.15426  \n",
       "Rank                            3        5      6  1.78862  0.227257  -1.33087  \n",
       "Female_pct                     52       58  99.01   12.349 -0.538343  0.969864  \n",
       "University                      -        -      -        -         -         -  \n",
       "Country                         -        -      -        -         -         -  "
      ]
     },
     "execution_count": 34,
     "metadata": {},
     "output_type": "execute_result"
    }
   ],
   "source": [
    "utils.unistats(df)"
   ]
  },
  {
   "cell_type": "markdown",
   "metadata": {},
   "source": [
    "<br>"
   ]
  },
  {
   "cell_type": "markdown",
   "metadata": {},
   "source": [
    "##### Now our data is ready."
   ]
  },
  {
   "cell_type": "markdown",
   "metadata": {},
   "source": [
    "<br>"
   ]
  },
  {
   "cell_type": "markdown",
   "metadata": {},
   "source": [
    "---"
   ]
  },
  {
   "cell_type": "markdown",
   "metadata": {},
   "source": [
    "### Save the dataframe to csv format"
   ]
  },
  {
   "cell_type": "code",
   "execution_count": 35,
   "metadata": {},
   "outputs": [],
   "source": [
    "df.to_csv('clean_data.csv',index = False)"
   ]
  }
 ],
 "metadata": {
  "kernelspec": {
   "display_name": "Python 3",
   "language": "python",
   "name": "python3"
  },
  "language_info": {
   "codemirror_mode": {
    "name": "ipython",
    "version": 3
   },
   "file_extension": ".py",
   "mimetype": "text/x-python",
   "name": "python",
   "nbconvert_exporter": "python",
   "pygments_lexer": "ipython3",
   "version": "3.8.5"
  }
 },
 "nbformat": 4,
 "nbformat_minor": 4
}
